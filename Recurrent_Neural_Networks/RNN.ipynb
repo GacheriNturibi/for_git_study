{
  "cells": [
    {
      "cell_type": "markdown",
      "id": "eadf7caa",
      "metadata": {
        "id": "eadf7caa"
      },
      "source": [
        "# Scratch RNN - Sprint Notebook\n",
        "\n",
        "**Goal**  \n",
        "- Implement a simple Recurrent Neural Network (RNN) from scratch (NumPy only).\n",
        "- Verify forward propagation on a tiny hand-checkable example.\n",
        "- (Advanced) Implement full BPTT and train on a small synthetic sequence classification task.\n",
        "- Plot learning curves and evaluate.\n"
      ]
    },
    {
      "cell_type": "code",
      "execution_count": 1,
      "id": "8de50da7",
      "metadata": {
        "id": "8de50da7"
      },
      "outputs": [],
      "source": [
        "import numpy as np\n",
        "import matplotlib.pyplot as plt\n",
        "\n",
        "np.set_printoptions(precision=6, suppress=True)\n",
        "rng = np.random.default_rng(42)  # reproducible"
      ]
    },
    {
      "cell_type": "code",
      "execution_count": 2,
      "id": "36fe011e",
      "metadata": {
        "id": "36fe011e"
      },
      "outputs": [],
      "source": [
        "def softmax(logits):\n",
        "    # logits: (N, C)\n",
        "    z = logits - np.max(logits, axis=1, keepdims=True)\n",
        "    exp_z = np.exp(z)\n",
        "    return exp_z / np.sum(exp_z, axis=1, keepdims=True)\n",
        "\n",
        "def cross_entropy(y_onehot, p):\n",
        "    # y_onehot, p: (N, C)\n",
        "    eps = 1e-12\n",
        "    return -np.mean(np.sum(y_onehot * np.log(p + eps), axis=1))\n",
        "\n",
        "def accuracy_from_logits(y_true_int, logits):\n",
        "    # y_true_int: (N,), logits (N, C)\n",
        "    pred = np.argmax(logits, axis=1)\n",
        "    return float(np.mean(pred == y_true_int))\n",
        "\n",
        "def one_hot(y_int, n_classes):\n",
        "    y = np.zeros((len(y_int), n_classes), dtype=np.float32)\n",
        "    y[np.arange(len(y_int)), y_int] = 1.0\n",
        "    return y\n",
        "\n",
        "class GetMiniBatch:\n",
        "    \"\"\"Simple mini-batch iterator (shuffles once at init).\"\"\"\n",
        "    def __init__(self, X, y, batch_size=32, seed=0):\n",
        "        self.batch_size = int(batch_size)\n",
        "        rng_local = np.random.default_rng(seed)\n",
        "        idx = rng_local.permutation(len(X))\n",
        "        self._X = X[idx]\n",
        "        self._y = y[idx]\n",
        "        self._n = len(X)\n",
        "        self._stop = int(np.ceil(self._n / self.batch_size))\n",
        "        self._i = 0\n",
        "\n",
        "    def __len__(self):\n",
        "        return self._stop\n",
        "\n",
        "    def __iter__(self):\n",
        "        self._i = 0\n",
        "        return self\n",
        "\n",
        "    def __next__(self):\n",
        "        if self._i >= self._stop:\n",
        "            raise StopIteration\n",
        "        s = self._i * self.batch_size\n",
        "        e = min(s + self.batch_size, self._n)\n",
        "        self._i += 1\n",
        "        return self._X[s:e], self._y[s:e]"
      ]
    },
    {
      "cell_type": "code",
      "execution_count": 3,
      "id": "02b2d7b1",
      "metadata": {
        "id": "02b2d7b1"
      },
      "outputs": [],
      "source": [
        "class SimpleRNN:\n",
        "    \"\"\"A minimal tanh RNN layer (many-to-one by default).\n",
        "    Shapes:\n",
        "      X: (N, T, D)  -> D = n_features\n",
        "      W_x: (D, H), W_h: (H, H), b: (H,)\n",
        "      h_t: (N, H)\n",
        "    \"\"\"\n",
        "    def __init__(self, n_features, n_hidden, lr=0.1, init='xavier', clip=5.0):\n",
        "        self.D = int(n_features)\n",
        "        self.H = int(n_hidden)\n",
        "        self.lr = float(lr)\n",
        "        self.clip = float(clip)\n",
        "        # Params\n",
        "        if init == 'xavier':\n",
        "            limit_wx = np.sqrt(6/(self.D+self.H))\n",
        "            limit_wh = np.sqrt(6/(self.H+self.H))\n",
        "            self.W_x = rng.uniform(-limit_wx, limit_wx, size=(self.D, self.H)).astype(np.float32)\n",
        "            self.W_h = rng.uniform(-limit_wh, limit_wh, size=(self.H, self.H)).astype(np.float32)\n",
        "            self.b   = np.zeros((self.H,), dtype=np.float32)\n",
        "        elif init == 'he':\n",
        "            self.W_x = rng.normal(0, np.sqrt(2/self.D), size=(self.D, self.H)).astype(np.float32)\n",
        "            self.W_h = rng.normal(0, np.sqrt(2/self.H), size=(self.H, self.H)).astype(np.float32)\n",
        "            self.b   = np.zeros((self.H,), dtype=np.float32)\n",
        "        else:\n",
        "            self.W_x = rng.normal(0, 0.01, size=(self.D, self.H)).astype(np.float32)\n",
        "            self.W_h = rng.normal(0, 0.01, size=(self.H, self.H)).astype(np.float32)\n",
        "            self.b   = np.zeros((self.H,), dtype=np.float32)\n",
        "\n",
        "        # Cache for BPTT\n",
        "        self.last_X = None\n",
        "        self.last_hs = None   # list of h_t\n",
        "        self.last_as = None   # list of a_t\n",
        "        self.h0 = None\n",
        "\n",
        "        # Grad buffers\n",
        "        self.dW_x = np.zeros_like(self.W_x)\n",
        "        self.dW_h = np.zeros_like(self.W_h)\n",
        "        self.db   = np.zeros_like(self.b)\n",
        "\n",
        "    def forward(self, X, h0=None):\n",
        "        \"\"\"Forward through time.\n",
        "        X: (N, T, D)\n",
        "        Returns h_T (N, H) and stores all intermediates for BPTT.\n",
        "        \"\"\"\n",
        "        N, T, D = X.shape\n",
        "        assert D == self.D\n",
        "\n",
        "        if h0 is None:\n",
        "            h_prev = np.zeros((N, self.H), dtype=np.float32)\n",
        "        else:\n",
        "            h_prev = h0.astype(np.float32)\n",
        "\n",
        "        hs = []\n",
        "        as_ = []\n",
        "        for t in range(T):\n",
        "            x_t = X[:, t, :]                      # (N, D)\n",
        "            a_t = x_t @ self.W_x + h_prev @ self.W_h + self.b  # (N, H)\n",
        "            h_t = np.tanh(a_t)                    # (N, H)\n",
        "            hs.append(h_t)\n",
        "            as_.append(a_t)\n",
        "            h_prev = h_t\n",
        "\n",
        "        self.last_X = X\n",
        "        self.last_hs = hs\n",
        "        self.last_as = as_\n",
        "        self.h0 = h0\n",
        "        return hs[-1]\n",
        "\n",
        "    def backward(self, dL_dh_last):\n",
        "        \"\"\"Full BPTT for many-to-one: gradient wrt final hidden only is provided.\n",
        "        dL_dh_last: (N, H)\n",
        "        Returns dL_dX with shape (N, T, D).\n",
        "        \"\"\"\n",
        "        X = self.last_X\n",
        "        hs = self.last_hs\n",
        "        as_ = self.last_as\n",
        "        N, T, D = X.shape\n",
        "\n",
        "        # Clear grads\n",
        "        self.dW_x.fill(0.0)\n",
        "        self.dW_h.fill(0.0)\n",
        "        self.db.fill(0.0)\n",
        "\n",
        "        dX = np.zeros_like(X, dtype=np.float32)\n",
        "\n",
        "        # Backprop through time\n",
        "        dh_next = dL_dh_last.copy()  # (N, H)\n",
        "        for t in reversed(range(T)):\n",
        "            h_t = hs[t]\n",
        "            a_t = as_[t]\n",
        "            h_prev = hs[t-1] if t > 0 else np.zeros_like(h_t)\n",
        "\n",
        "            # dh/da for tanh = (1 - tanh^2(a))\n",
        "            da_t = dh_next * (1.0 - np.tanh(a_t)**2)  # (N, H)\n",
        "\n",
        "            # Accumulate parameter grads\n",
        "            self.dW_x += X[:, t, :].T @ da_t              # (D, H)\n",
        "            self.dW_h += h_prev.T @ da_t                  # (H, H)\n",
        "            self.db   += np.sum(da_t, axis=0)             # (H,)\n",
        "\n",
        "            # Propagate to previous time and to inputs\n",
        "            dX[:, t, :] = da_t @ self.W_x.T               # (N, D)\n",
        "            dh_next = da_t @ self.W_h.T                   # (N, H)\n",
        "\n",
        "        # Clip (simple global clip for stability)\n",
        "        for g in (self.dW_x, self.dW_h, self.db):\n",
        "            np.clip(g, -self.clip, self.clip, out=g)\n",
        "\n",
        "        return dX\n",
        "\n",
        "    def step(self):\n",
        "        # SGD update\n",
        "        self.W_x -= self.lr * self.dW_x\n",
        "        self.W_h -= self.lr * self.dW_h\n",
        "        self.b   -= self.lr * self.db"
      ]
    },
    {
      "cell_type": "code",
      "execution_count": 4,
      "id": "3e18455a",
      "metadata": {
        "id": "3e18455a"
      },
      "outputs": [],
      "source": [
        "class Linear:\n",
        "    def __init__(self, in_dim, out_dim, init='xavier'):\n",
        "        if init == 'xavier':\n",
        "            limit = np.sqrt(6/(in_dim+out_dim))\n",
        "            self.W = rng.uniform(-limit, limit, size=(in_dim, out_dim)).astype(np.float32)\n",
        "        elif init == 'he':\n",
        "            self.W = rng.normal(0, np.sqrt(2/in_dim), size=(in_dim, out_dim)).astype(np.float32)\n",
        "        else:\n",
        "            self.W = rng.normal(0, 0.01, size=(in_dim, out_dim)).astype(np.float32)\n",
        "        self.b = np.zeros((out_dim,), dtype=np.float32)\n",
        "        # caches\n",
        "        self.last_x = None\n",
        "        self.dW = np.zeros_like(self.W)\n",
        "        self.db = np.zeros_like(self.b)\n",
        "\n",
        "    def forward(self, x):\n",
        "        # x: (N, in_dim)\n",
        "        self.last_x = x\n",
        "        return x @ self.W + self.b\n",
        "\n",
        "    def backward(self, dL_dz):\n",
        "        # dL_dz: (N, out_dim)\n",
        "        x = self.last_x\n",
        "        self.dW = x.T @ dL_dz\n",
        "        self.db = np.sum(dL_dz, axis=0)\n",
        "        return dL_dz @ self.W.T\n",
        "\n",
        "    def step(self, lr):\n",
        "        self.W -= lr * self.dW\n",
        "        self.b -= lr * self.db\n",
        "\n",
        "class SoftmaxCELoss:\n",
        "    def forward(self, logits, y_onehot):\n",
        "        # returns p, loss\n",
        "        p = softmax(logits)\n",
        "        loss = cross_entropy(y_onehot, p)\n",
        "        return p, loss\n",
        "\n",
        "    def backward(self, p, y_onehot):\n",
        "        # dL/dz for softmax+CE = (p - y)/N\n",
        "        N = p.shape[0]\n",
        "        return (p - y_onehot) / N"
      ]
    },
    {
      "cell_type": "code",
      "execution_count": 5,
      "id": "e24ec59a",
      "metadata": {
        "id": "e24ec59a"
      },
      "outputs": [],
      "source": [
        "class ScratchSimpleRNNClassifier:\n",
        "    def __init__(self, n_features, n_hidden, n_classes, lr=0.1, init='xavier', clip=5.0):\n",
        "        self.rnn = SimpleRNN(n_features, n_hidden, lr=lr, init=init, clip=clip)\n",
        "        self.head = Linear(n_hidden, n_classes, init=init)\n",
        "        self.ce = SoftmaxCELoss()\n",
        "        self.lr = lr\n",
        "        self.hist = {\"train_loss\":[], \"val_loss\":[], \"val_acc\":[]}\n",
        "\n",
        "    def predict_logits(self, X):\n",
        "        # X: (N, T, D)\n",
        "        hT = self.rnn.forward(X)            # (N, H)\n",
        "        z  = self.head.forward(hT)          # (N, C)\n",
        "        return z\n",
        "\n",
        "    def predict(self, X):\n",
        "        z = self.predict_logits(X)\n",
        "        return np.argmax(z, axis=1)\n",
        "\n",
        "    def fit(self, X, y_int, X_val=None, y_val_int=None, epochs=20, batch_size=64, verbose=True, seed=0):\n",
        "        N, T, D = X.shape\n",
        "        n_classes = int(np.max(y_int)+1)\n",
        "        Y = one_hot(y_int, n_classes)\n",
        "\n",
        "        for ep in range(epochs):\n",
        "            mb = GetMiniBatch(X, Y, batch_size=batch_size, seed=seed+ep)\n",
        "            total = 0.0\n",
        "            for xb, yb in mb:\n",
        "                # forward\n",
        "                hT = self.rnn.forward(xb)\n",
        "                z  = self.head.forward(hT)\n",
        "                p, loss = self.ce.forward(z, yb)\n",
        "                total += loss * len(xb)\n",
        "                # backward\n",
        "                dz = self.ce.backward(p, yb)\n",
        "                dhT = self.head.backward(dz)\n",
        "                _   = self.rnn.backward(dhT)\n",
        "                # update\n",
        "                self.head.step(self.lr)\n",
        "                self.rnn.step()\n",
        "\n",
        "            tr_loss = total / len(X)\n",
        "            self.hist[\"train_loss\"].append(tr_loss)\n",
        "\n",
        "            if X_val is not None and y_val_int is not None:\n",
        "                z_val = self.predict_logits(X_val)\n",
        "                p_val = softmax(z_val)\n",
        "                v_loss = cross_entropy(one_hot(y_val_int, n_classes), p_val)\n",
        "                v_acc = accuracy_from_logits(y_val_int, z_val)\n",
        "                self.hist[\"val_loss\"].append(v_loss)\n",
        "                self.hist[\"val_acc\"].append(v_acc)\n",
        "                if verbose:\n",
        "                    print(f\"Epoch {ep+1:02d} | train_loss={tr_loss:.4f}  val_loss={v_loss:.4f}  val_acc={v_acc:.3f}\")\n",
        "            elif verbose:\n",
        "                print(f\"Epoch {ep+1:02d} | train_loss={tr_loss:.4f}\")\n",
        "\n",
        "        return self"
      ]
    },
    {
      "cell_type": "markdown",
      "id": "5662098b",
      "metadata": {
        "id": "5662098b"
      },
      "source": [
        "\n",
        "## Forward check on tiny example\n",
        "\n",
        "Verify forward propagation using the small numbers from the assignment (should match the provided `h` vector).\n"
      ]
    },
    {
      "cell_type": "code",
      "execution_count": 6,
      "id": "03fee8be",
      "metadata": {
        "colab": {
          "base_uri": "https://localhost:8080/"
        },
        "id": "03fee8be",
        "outputId": "305232cc-1774-48b4-d4d7-440540488289"
      },
      "outputs": [
        {
          "output_type": "stream",
          "name": "stdout",
          "text": [
            "Final h: [[0.794942 0.81839  0.839396 0.855842]]\n",
            "Expected ≈ [0.79494228, 0.81839002, 0.83939649, 0.85584174]\n"
          ]
        }
      ],
      "source": [
        "# Tiny example from the prompt\n",
        "x = np.array([[[1, 2], [2, 3], [3, 4]]], dtype=np.float32)/100.0   # (1, 3, 2)\n",
        "w_x = np.array([[1, 3, 5, 7], [3, 5, 7, 8]], dtype=np.float32)/100.0  # (2, 4)\n",
        "w_h = np.array([[1, 3, 5, 7],\n",
        "                [2, 4, 6, 8],\n",
        "                [3, 5, 7, 8],\n",
        "                [4, 6, 8, 10]], dtype=np.float32)/100.0                # (4, 4)\n",
        "b   = np.array([1, 1, 1, 1], dtype=np.float32)                        # (4,)\n",
        "\n",
        "# Manual forward loop to match equations:\n",
        "N, T, D = x.shape\n",
        "H = w_x.shape[1]\n",
        "h_prev = np.zeros((N, H), dtype=np.float32)\n",
        "for t in range(T):\n",
        "    a_t = x[:, t, :] @ w_x + h_prev @ w_h + b\n",
        "    h_t = np.tanh(a_t)\n",
        "    h_prev = h_t\n",
        "\n",
        "print(\"Final h:\", h_prev)\n",
        "print(\"Expected ≈ [0.79494228, 0.81839002, 0.83939649, 0.85584174]\")"
      ]
    },
    {
      "cell_type": "markdown",
      "id": "247495fd",
      "metadata": {
        "id": "247495fd"
      },
      "source": [
        "\n",
        "## Synthetic sequence classification (many-to-one)\n",
        "\n",
        "We create a simple parity task:\n",
        "- Alphabet: integers in `[0, V-1]` encoded as one-hot.\n",
        "- Sequence length `T`.\n",
        "- Label: parity of the sum of symbols (`sum % 2`).\n",
        "\n",
        "Then we train the scratch RNN to predict the parity.\n"
      ]
    },
    {
      "cell_type": "code",
      "execution_count": 7,
      "id": "515c754e",
      "metadata": {
        "colab": {
          "base_uri": "https://localhost:8080/"
        },
        "id": "515c754e",
        "outputId": "6ac2707a-dcd6-432f-a246-c8a7bed795ee"
      },
      "outputs": [
        {
          "output_type": "stream",
          "name": "stdout",
          "text": [
            "Shapes: (2800, 12, 8) (600, 12, 8) (600, 12, 8)\n",
            "Class balance (train): {np.int64(0): 1410, np.int64(1): 1390}\n"
          ]
        }
      ],
      "source": [
        "def make_parity_dataset(N=4000, T=12, V=5, seed=7):\n",
        "    rng_local = np.random.default_rng(seed)\n",
        "    X_idx = rng_local.integers(0, V, size=(N, T))           # (N, T)\n",
        "    y_int = np.sum(X_idx, axis=1) % 2                       # (N,)\n",
        "    # one-hot encode each timestep\n",
        "    X = np.zeros((N, T, V), dtype=np.float32)\n",
        "    for i in range(N):\n",
        "        X[i, np.arange(T), X_idx[i]] = 1.0\n",
        "    return X, y_int.astype(int)\n",
        "\n",
        "# Create data\n",
        "X, y = make_parity_dataset(N=4000, T=12, V=8, seed=123)\n",
        "# Split train/val/test\n",
        "N = len(y)\n",
        "idx = np.arange(N); rng.shuffle(idx)\n",
        "tr = idx[:int(0.7*N)]; va = idx[int(0.7*N):int(0.85*N)]; te = idx[int(0.85*N):]\n",
        "\n",
        "X_tr, y_tr = X[tr], y[tr]\n",
        "X_va, y_va = X[va], y[va]\n",
        "X_te, y_te = X[te], y[te]\n",
        "\n",
        "print(\"Shapes:\", X_tr.shape, X_va.shape, X_te.shape)\n",
        "print(\"Class balance (train):\", {c:int(np.sum(y_tr==c)) for c in np.unique(y_tr)})"
      ]
    },
    {
      "cell_type": "code",
      "execution_count": 9,
      "id": "4aa2167f",
      "metadata": {
        "colab": {
          "base_uri": "https://localhost:8080/"
        },
        "id": "4aa2167f",
        "outputId": "6a4b132a-b221-48bd-ae09-ddf7de538fca"
      },
      "outputs": [
        {
          "output_type": "stream",
          "name": "stdout",
          "text": [
            "Epoch 01 | train_loss=0.7216  val_loss=0.7038  val_acc=0.510\n",
            "Epoch 02 | train_loss=0.6997  val_loss=0.6957  val_acc=0.517\n",
            "Epoch 03 | train_loss=0.6947  val_loss=0.6983  val_acc=0.513\n",
            "Epoch 04 | train_loss=0.6927  val_loss=0.6949  val_acc=0.515\n",
            "Epoch 05 | train_loss=0.6895  val_loss=0.7009  val_acc=0.528\n",
            "Epoch 06 | train_loss=0.6885  val_loss=0.6953  val_acc=0.500\n",
            "Epoch 07 | train_loss=0.6871  val_loss=0.6975  val_acc=0.517\n",
            "Epoch 08 | train_loss=0.6853  val_loss=0.6965  val_acc=0.513\n",
            "Epoch 09 | train_loss=0.6856  val_loss=0.6960  val_acc=0.523\n",
            "Epoch 10 | train_loss=0.6851  val_loss=0.6964  val_acc=0.523\n",
            "Epoch 11 | train_loss=0.6839  val_loss=0.7028  val_acc=0.515\n",
            "Epoch 12 | train_loss=0.6817  val_loss=0.7064  val_acc=0.518\n",
            "Epoch 13 | train_loss=0.6816  val_loss=0.6996  val_acc=0.500\n",
            "Epoch 14 | train_loss=0.6797  val_loss=0.7039  val_acc=0.500\n",
            "Epoch 15 | train_loss=0.6793  val_loss=0.7055  val_acc=0.498\n",
            "Epoch 16 | train_loss=0.6775  val_loss=0.6975  val_acc=0.522\n",
            "Epoch 17 | train_loss=0.6768  val_loss=0.7006  val_acc=0.523\n",
            "Epoch 18 | train_loss=0.6743  val_loss=0.7040  val_acc=0.522\n",
            "Epoch 19 | train_loss=0.6725  val_loss=0.7024  val_acc=0.515\n",
            "Epoch 20 | train_loss=0.6717  val_loss=0.6995  val_acc=0.518\n",
            "\n",
            "Test Accuracy: 0.475\n"
          ]
        }
      ],
      "source": [
        "# Train the scratch RNN\n",
        "n_features = X_tr.shape[2]\n",
        "model = ScratchSimpleRNNClassifier(n_features=n_features, n_hidden=32, n_classes=2, lr=0.1, init='xavier', clip=5.0)\n",
        "model.fit(X_tr, y_tr, X_val=X_va, y_val_int=y_va, epochs=20, batch_size=64, verbose=True, seed=0)\n",
        "\n",
        "# Evaluate\n",
        "logits_te = model.predict_logits(X_te)\n",
        "acc_te = accuracy_from_logits(y_te, logits_te)\n",
        "print(\"\\nTest Accuracy:\", f\"{acc_te:.3f}\")"
      ]
    },
    {
      "cell_type": "code",
      "execution_count": 10,
      "id": "35adec47",
      "metadata": {
        "colab": {
          "base_uri": "https://localhost:8080/",
          "height": 410
        },
        "id": "35adec47",
        "outputId": "45eb489b-1c2d-4b59-df59-7e459d2cdec5"
      },
      "outputs": [
        {
          "output_type": "display_data",
          "data": {
            "text/plain": [
              "<Figure size 600x400 with 1 Axes>"
            ],
            "image/png": "[encoded data removed]"
          },
          "metadata": {}
        }
      ],
      "source": [
        "# Plot learning curves\n",
        "plt.figure(figsize=(6,4))\n",
        "plt.plot(model.hist[\"train_loss\"], label=\"train_loss\")\n",
        "if model.hist[\"val_loss\"]:\n",
        "    plt.plot(model.hist[\"val_loss\"], label=\"val_loss\")\n",
        "if model.hist[\"val_acc\"]:\n",
        "    plt.plot(model.hist[\"val_acc\"], label=\"val_acc\")\n",
        "plt.xlabel(\"Epoch\"); plt.title(\"Learning curves (Scratch RNN)\"); plt.legend(); plt.show()"
      ]
    }
  ],
  "metadata": {
    "colab": {
      "provenance": []
    },
    "language_info": {
      "name": "python"
    },
    "kernelspec": {
      "name": "python3",
      "display_name": "Python 3"
    }
  },
  "nbformat": 4,
  "nbformat_minor": 5
}
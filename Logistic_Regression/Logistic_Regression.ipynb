{
  "cells": [
    {
      "cell_type": "markdown",
      "id": "fab92229",
      "metadata": {
        "id": "fab92229"
      },
      "source": [
        "# Logistic Regression - From Scratch\n"
      ]
    },
    {
      "cell_type": "code",
      "execution_count": 2,
      "id": "db4e4cc8",
      "metadata": {
        "id": "db4e4cc8"
      },
      "outputs": [],
      "source": [
        "# Imports & setup\n",
        "import os\n",
        "import numpy as np\n",
        "import pandas as pd\n",
        "import matplotlib.pyplot as plt\n",
        "import json\n",
        "\n",
        "# Sklearn Library Imports\n",
        "from sklearn import datasets\n",
        "from sklearn.model_selection import train_test_split\n",
        "from sklearn.preprocessing import StandardScaler\n",
        "from sklearn.linear_model import LogisticRegression as SkLogReg\n",
        "from sklearn.metrics import accuracy_score, precision_score, recall_score, confusion_matrix\n",
        "\n",
        "np.random.seed(42)\n",
        "\n",
        "# Matplotlib Defaults\n",
        "plt.rcParams[\"figure.figsize\"] = (7.5, 5.0)\n",
        "plt.rcParams[\"axes.grid\"] = True\n",
        "plt.rcParams[\"font.size\"] = 11"
      ]
    },
    {
      "cell_type": "markdown",
      "id": "03179eb8",
      "metadata": {
        "id": "03179eb8"
      },
      "source": [
        "## Problem 4 - Objective (Loss) Function (with L2)\n"
      ]
    },
    {
      "cell_type": "markdown",
      "id": "608473cb",
      "metadata": {
        "id": "608473cb"
      },
      "source": [
        "## Problems 1-4 --- ScratchLogisticRegression Class\n",
        "\n",
        "Notes:\n",
        "- Training and validation losses are recorded per iteration.\n",
        "- If `verbose=True`, print training progress periodically.\n",
        "\n",
        "We support **L2 regularization** with parameter `reg_lambda`. Set `use_bias=False` to remove the intercept entirely."
      ]
    },
    {
      "cell_type": "code",
      "execution_count": 3,
      "id": "309488b5",
      "metadata": {
        "id": "309488b5"
      },
      "outputs": [],
      "source": [
        "class ScratchLogisticRegression:\n",
        "    \"\"\"\n",
        "    Scratch implementation of Logistic Regression (binary) with batch Gradient Descent and optional L2 regularization.\n",
        "\n",
        "    Parameters\n",
        "    ----------\n",
        "    num_iter : int\n",
        "        Number of iterations (epochs) for gradient descent.\n",
        "    lr : float\n",
        "        Learning rate.\n",
        "    reg_lambda : float\n",
        "        L2 regularization strength (λ). Set 0.0 to disable.\n",
        "    use_bias : bool\n",
        "        If True, include an intercept term (x0=1). If False, no intercept.\n",
        "    verbose : bool\n",
        "        If True, print training progress periodically.\n",
        "\n",
        "    Attributes\n",
        "    ----------\n",
        "    coef_ : ndarray of shape (n_features,)\n",
        "        Learned weights (excluding intercept).\n",
        "    intercept_ : float\n",
        "        Learned bias (0.0 if use_bias=False).\n",
        "    theta_ : ndarray of shape (n_features + 1) if use_bias else (n_features,)\n",
        "        Full parameter vector used internally.\n",
        "    loss : ndarray of shape (num_iter,)\n",
        "        Training loss per iteration (regularized logistic loss).\n",
        "    val_loss : ndarray of shape (num_iter,)\n",
        "        Validation loss per iteration (if validation data is provided).\n",
        "    \"\"\"\n",
        "\n",
        "    def __init__(self, num_iter=800, lr=0.1, reg_lambda=0.0, use_bias=True, verbose=False, bias=None):\n",
        "        # Support template's 'bias' name if provided; otherwise use 'use_bias'\n",
        "        if bias is not None:\n",
        "            use_bias = bool(bias)\n",
        "        self.iter = int(num_iter)\n",
        "        self.lr = float(lr)\n",
        "        self.reg_lambda = float(reg_lambda)\n",
        "        self.use_bias = bool(use_bias)\n",
        "        self.bias = self.use_bias  # alias for template compatibility\n",
        "        self.verbose = bool(verbose)\n",
        "\n",
        "        # Loss trackers\n",
        "        self.loss = np.zeros(self.iter, dtype=float)\n",
        "        self.val_loss = np.zeros(self.iter, dtype=float)\n",
        "\n",
        "        # Params\n",
        "        self.theta_ = None\n",
        "        self.coef_ = None\n",
        "        self.intercept_ = 0.0\n",
        "\n",
        "    # Utilities\n",
        "    def _maybe_add_bias(self, X: np.ndarray) -> np.ndarray:\n",
        "        \"\"\"Add bias column if use_bias=True; otherwise return X unchanged.\"\"\"\n",
        "        if self.use_bias:\n",
        "            ones = np.ones((X.shape[0], 1), dtype=X.dtype)\n",
        "            return np.hstack([ones, X])\n",
        "        return X\n",
        "\n",
        "    def _init_params(self, n_params: int):\n",
        "        \"\"\"Initialize parameters to zeros for stable start on convex loss.\"\"\"\n",
        "        self.theta_ = np.zeros(n_params, dtype=float)\n",
        "\n",
        "    # Problem 1: Hypothesis (sigmoid of linear score)\n",
        "    @staticmethod\n",
        "    def _sigmoid(z: np.ndarray) -> np.ndarray:\n",
        "        \"\"\"Numerically-stable sigmoid σ(z) = 1 / (1 + exp(-z)).\"\"\"\n",
        "        # clip to avoid overflow\n",
        "        z = np.clip(z, -500, 500)\n",
        "        return 1.0 / (1.0 + np.exp(-z))\n",
        "\n",
        "    def _linear_hypothesis(self, X_aug: np.ndarray) -> np.ndarray:\n",
        "        \"\"\"Compute linear score: s = X_aug @ theta_.\"\"\"\n",
        "        return (X_aug @ self.theta_).reshape(-1)\n",
        "\n",
        "    def _logistic_hypothesis(self, X_aug: np.ndarray) -> np.ndarray:\n",
        "        \"\"\"Compute logistic hypothesis h = σ(X_aug @ theta_).\"\"\"\n",
        "        return self._sigmoid(self._linear_hypothesis(X_aug))\n",
        "\n",
        "    # Problem 4: Objective (logistic loss)\n",
        "    def _objective(self, y_hat: np.ndarray, y: np.ndarray) -> float:\n",
        "        m = y.shape[0]\n",
        "        eps = 1e-12\n",
        "        y_hat = np.clip(y_hat, eps, 1 - eps)\n",
        "        base = (-y * np.log(y_hat) - (1 - y) * np.log(1 - y_hat)).mean()\n",
        "        if self.reg_lambda > 0.0:\n",
        "            if self.use_bias:\n",
        "                # exclude intercept (theta_[0])\n",
        "                reg = (self.reg_lambda / (2 * m)) * np.sum(self.theta_[1:] ** 2)\n",
        "            else:\n",
        "                reg = (self.reg_lambda / (2 * m)) * np.sum(self.theta_ ** 2)\n",
        "            return float(base + reg)\n",
        "        return float(base)\n",
        "\n",
        "    # Problem 2: Gradient Descent (with L2)\n",
        "    def _gradient_descent(self, X_aug: np.ndarray, y: np.ndarray, y_hat: np.ndarray):\n",
        "        \"\"\"\n",
        "        One batch GD step.\n",
        "        Grad = (1/m) X^T (h - y) + (λ/m) * θ (excluding θ0 if intercept present).\n",
        "        \"\"\"\n",
        "        m = y.shape[0]\n",
        "        error = (y_hat - y).reshape(-1)  # shape (m,)\n",
        "        grad = (X_aug.T @ error) / m      # shape (n_params,)\n",
        "\n",
        "        if self.reg_lambda > 0.0:\n",
        "            if self.use_bias:\n",
        "                reg = (self.reg_lambda / m) * self.theta_.copy()\n",
        "                reg[0] = 0.0  # do not regularize intercept\n",
        "            else:\n",
        "                reg = (self.reg_lambda / m) * self.theta_\n",
        "            grad = grad + reg\n",
        "\n",
        "        self.theta_ -= self.lr * grad\n",
        "\n",
        "    # Fit/Predict\n",
        "    def fit(self, X: np.ndarray, y: np.ndarray, X_val: np.ndarray = None, y_val: np.ndarray = None):\n",
        "        \"\"\"\n",
        "        Train logistic regression. If validation data is provided, track its loss per iteration too.\n",
        "\n",
        "        Parameters\n",
        "        ----------\n",
        "        X : ndarray of shape (n_samples, n_features)\n",
        "            Training features\n",
        "        y : ndarray of shape (n_samples,)\n",
        "            Training labels (0/1)\n",
        "        X_val, y_val : optional validation set\n",
        "        \"\"\"\n",
        "        X = np.asarray(X, dtype=float)\n",
        "        y = np.asarray(y, dtype=float).reshape(-1)\n",
        "        X_aug = self._maybe_add_bias(X)\n",
        "        self._init_params(X_aug.shape[1])\n",
        "\n",
        "        for t in range(self.iter):\n",
        "            y_hat = self._logistic_hypothesis(X_aug)\n",
        "            self.loss[t] = self._objective(y_hat, y)\n",
        "\n",
        "            # GD update\n",
        "            self._gradient_descent(X_aug, y, y_hat)\n",
        "\n",
        "            # Validation loss\n",
        "            if X_val is not None and y_val is not None:\n",
        "                Xv = np.asarray(X_val, dtype=float)\n",
        "                yv = np.asarray(y_val, dtype=float).reshape(-1)\n",
        "                Xv_aug = self._maybe_add_bias(Xv)\n",
        "                yv_hat = self._logistic_hypothesis(Xv_aug)\n",
        "                self.val_loss[t] = self._objective(yv_hat, yv)\n",
        "\n",
        "            # Optional progress print\n",
        "            if self.verbose and (t % max(1, self.iter // 10) == 0 or t == self.iter - 1):\n",
        "                if X_val is not None and y_val is not None:\n",
        "                    print(f\"iter {t+1:4d}/{self.iter}  J_train={self.loss[t]:.6f}  J_val={self.val_loss[t]:.6f}\")\n",
        "                else:\n",
        "                    print(f\"iter {t+1:4d}/{self.iter}  J_train={self.loss[t]:.6f}\")\n",
        "\n",
        "        # Expose learned parameters\n",
        "        if self.use_bias:\n",
        "            self.intercept_ = float(self.theta_[0])\n",
        "            self.coef_ = self.theta_[1:].copy()\n",
        "        else:\n",
        "            self.intercept_ = 0.0\n",
        "            self.coef_ = self.theta_.copy()\n",
        "        return self\n",
        "\n",
        "    # Problem 3: predict_proba & predict\n",
        "    def predict_proba(self, X: np.ndarray) -> np.ndarray:\n",
        "        \"\"\"\n",
        "        Return class-1 probabilities P(y=1|x) as a 1-D array.\n",
        "        \"\"\"\n",
        "        X = np.asarray(X, dtype=float)\n",
        "        X_aug = self._maybe_add_bias(X)\n",
        "        return self._logistic_hypothesis(X_aug)\n",
        "\n",
        "    def predict(self, X: np.ndarray, threshold: float = 0.5) -> np.ndarray:\n",
        "        \"\"\"\n",
        "        Return class labels (0/1) by thresholding predict_proba at `threshold`.\n",
        "        \"\"\"\n",
        "        proba = self.predict_proba(X)\n",
        "        return (proba >= threshold).astype(int)\n",
        "\n",
        "    # Problem 8: Save/Load weights\n",
        "    def save_weights(self, path: str):\n",
        "        \"\"\"\n",
        "        Save learned parameters and meta to a .npz file.\n",
        "        \"\"\"\n",
        "        meta = dict(\n",
        "            use_bias=self.use_bias,\n",
        "            lr=self.lr,\n",
        "            num_iter=self.iter,\n",
        "            reg_lambda=self.reg_lambda\n",
        "        )\n",
        "        np.savez(path, theta=self.theta_, meta=json.dumps(meta))\n",
        "\n",
        "    @staticmethod\n",
        "    def load_weights(path: str):\n",
        "        \"\"\"\n",
        "        Load parameters & meta from .npz. Returns (theta, meta_dict).\n",
        "        \"\"\"\n",
        "        data = np.load(path, allow_pickle=True)\n",
        "        theta = data[\"theta\"]\n",
        "        meta = json.loads(str(data[\"meta\"]))\n",
        "        return theta, meta"
      ]
    },
    {
      "cell_type": "markdown",
      "id": "c5c78a23",
      "metadata": {
        "id": "c5c78a23"
      },
      "source": [
        "## Problem 5 - Learning & Estimation on Iris (versicolor vs. virginica)\n",
        "\n",
        "We use two Iris classes (label **1 = virginica**, **0 = versicolor**) for binary classification.  \n",
        "Features are standardized to help convergence."
      ]
    },
    {
      "cell_type": "code",
      "execution_count": 4,
      "id": "c0d62e71",
      "metadata": {
        "colab": {
          "base_uri": "https://localhost:8080/"
        },
        "id": "c0d62e71",
        "outputId": "cfa645cd-f0a6-4d98-f88e-7dac9aae05de"
      },
      "outputs": [
        {
          "output_type": "stream",
          "name": "stdout",
          "text": [
            "Scratch Logistic Regression (Validation)\n",
            "  Accuracy : 0.9333\n",
            "  Precision: 0.9333\n",
            "  Recall   : 0.9333\n",
            "Confusion Matrix:\n",
            " [[14  1]\n",
            " [ 1 14]]\n",
            "\n",
            "Scikit-learn LogisticRegression (Validation)\n",
            "  Accuracy : 0.9667\n",
            "  Precision: 0.9375\n",
            "  Recall   : 1.0000\n"
          ]
        }
      ],
      "source": [
        "# Load / prepare Iris\n",
        "def load_iris_binary():\n",
        "    iris = datasets.load_iris()\n",
        "    X = iris[\"data\"]\n",
        "    y = iris[\"target\"]\n",
        "    # Keep versicolor (1) and virginica (2)\n",
        "    mask = (y != 0)\n",
        "    X = X[mask]\n",
        "    y = y[mask]\n",
        "    # Relabel: versicolor -> 0, virginica -> 1\n",
        "    y = (y == 2).astype(int)\n",
        "    feature_names = iris[\"feature_names\"]\n",
        "    return X, y, feature_names\n",
        "\n",
        "X_all, y_all, feature_names = load_iris_binary()\n",
        "\n",
        "# Train/val split\n",
        "X_train, X_val, y_train, y_val = train_test_split(X_all, y_all, test_size=0.3, random_state=42, stratify=y_all)\n",
        "\n",
        "# Standardize\n",
        "scaler = StandardScaler()\n",
        "X_train_std = scaler.fit_transform(X_train)\n",
        "X_val_std = scaler.transform(X_val)\n",
        "\n",
        "# Train scratch model\n",
        "scratch = ScratchLogisticRegression(num_iter=800, lr=0.1, reg_lambda=0.1, use_bias=True, verbose=False)\n",
        "scratch.fit(X_train_std, y_train, X_val=X_val_std, y_val=y_val)\n",
        "\n",
        "# Evaluate scratch model\n",
        "proba_val = scratch.predict_proba(X_val_std)\n",
        "pred_val = scratch.predict(X_val_std)\n",
        "\n",
        "def manual_accuracy(y_true, y_pred):\n",
        "    y_true = y_true.reshape(-1); y_pred = y_pred.reshape(-1)\n",
        "    return float((y_true == y_pred).mean())\n",
        "\n",
        "def manual_precision(y_true, y_pred):\n",
        "    y_true = y_true.reshape(-1); y_pred = y_pred.reshape(-1)\n",
        "    tp = np.sum((y_true == 1) & (y_pred == 1))\n",
        "    fp = np.sum((y_true == 0) & (y_pred == 1))\n",
        "    return float(tp / (tp + fp + 1e-12))\n",
        "\n",
        "def manual_recall(y_true, y_pred):\n",
        "    y_true = y_true.reshape(-1); y_pred = y_pred.reshape(-1)\n",
        "    tp = np.sum((y_true == 1) & (y_pred == 1))\n",
        "    fn = np.sum((y_true == 1) & (y_pred == 0))\n",
        "    return float(tp / (tp + fn + 1e-12))\n",
        "\n",
        "acc = accuracy_score(y_val, pred_val)\n",
        "prec = precision_score(y_val, pred_val)\n",
        "rec = recall_score(y_val, pred_val)\n",
        "cm = confusion_matrix(y_val, pred_val)\n",
        "\n",
        "print(\"Scratch Logistic Regression (Validation)\")\n",
        "print(\"  Accuracy :\", f\"{acc:.4f}\")\n",
        "print(\"  Precision:\", f\"{prec:.4f}\")\n",
        "print(\"  Recall   :\", f\"{rec:.4f}\")\n",
        "print(\"Confusion Matrix:\\n\", cm)\n",
        "\n",
        "# Baseline: scikit-learn logistic regression for comparison\n",
        "sk = SkLogReg(C=1e6, penalty=\"l2\", solver=\"lbfgs\", max_iter=1000)  # C large ~ weak regularization\n",
        "sk.fit(X_train_std, y_train)\n",
        "pred_val_sk = sk.predict(X_val_std)\n",
        "acc_sk = accuracy_score(y_val, pred_val_sk)\n",
        "prec_sk = precision_score(y_val, pred_val_sk)\n",
        "rec_sk = recall_score(y_val, pred_val_sk)\n",
        "print(\"\\nScikit-learn LogisticRegression (Validation)\")\n",
        "print(\"  Accuracy :\", f\"{acc_sk:.4f}\")\n",
        "print(\"  Precision:\", f\"{prec_sk:.4f}\")\n",
        "print(\"  Recall   :\", f\"{rec_sk:.4f}\")"
      ]
    },
    {
      "cell_type": "markdown",
      "id": "619366ee",
      "metadata": {
        "id": "619366ee"
      },
      "source": [
        "\n",
        "## Problem 6 - Learning Curves\n",
        "\n",
        "We plot **train** and **validation** loss over iterations. Loss should decrease and (ideally) the validation curve should track closely without diverging.\n"
      ]
    },
    {
      "cell_type": "code",
      "execution_count": 5,
      "id": "cdd4673a",
      "metadata": {
        "colab": {
          "base_uri": "https://localhost:8080/",
          "height": 489
        },
        "id": "cdd4673a",
        "outputId": "203c460a-4f3e-4159-9451-2e854296529f"
      },
      "outputs": [
        {
          "output_type": "display_data",
          "data": {
            "text/plain": [
              "<Figure size 750x500 with 1 Axes>"
            ],
            "image/png": "[encoded data removed]"
          },
          "metadata": {}
        }
      ],
      "source": [
        "fig = plt.figure()\n",
        "plt.plot(scratch.loss, label=\"Train loss\", linewidth=2.0)\n",
        "if np.any(scratch.val_loss):\n",
        "    plt.plot(scratch.val_loss, label=\"Validation loss\", linewidth=2.0)\n",
        "plt.xlabel(\"Iteration\")\n",
        "plt.ylabel(\"Regularized logistic loss J(θ)\")\n",
        "plt.title(\"Learning Curves\")\n",
        "plt.legend()\n",
        "plt.show()"
      ]
    },
    {
      "cell_type": "markdown",
      "id": "6006f4e9",
      "metadata": {
        "id": "6006f4e9"
      },
      "source": [
        "## Problem 7 - Decision Region Visualization (2D)\n",
        "\n",
        "We draw decision regions using **two features** to enable a 2D plot:\n",
        "- **x-axis (horizontal): sepal width**\n",
        "- **y-axis (vertical): petal length**\n",
        "\n",
        "Approach: train a new model on **only these two standardized features**, then color the grid by predicted class.\n"
      ]
    },
    {
      "cell_type": "code",
      "execution_count": 6,
      "id": "db9ff20c",
      "metadata": {
        "colab": {
          "base_uri": "https://localhost:8080/",
          "height": 489
        },
        "id": "db9ff20c",
        "outputId": "bab25039-e466-4351-c916-8dd932748cac"
      },
      "outputs": [
        {
          "output_type": "display_data",
          "data": {
            "text/plain": [
              "<Figure size 750x500 with 1 Axes>"
            ],
            "image/png": "[encoded data removed]"
          },
          "metadata": {}
        }
      ],
      "source": [
        "# Pick feature indices as requested: sepal width (1) and petal length (2) in Iris order\n",
        "# If fallback synthetic data is used, we have named columns accordingly.\n",
        "def select_2d_features(X, names):\n",
        "    # Try to find matching names (sklearn iris names)\n",
        "    ix_sw = None\n",
        "    ix_pl = None\n",
        "    for i, n in enumerate(names):\n",
        "        if \"sepal width\" in n:\n",
        "            ix_sw = i\n",
        "        if \"petal length\" in n:\n",
        "            ix_pl = i\n",
        "    # If not found, default to the first two columns\n",
        "    if ix_sw is None or ix_pl is None:\n",
        "        ix_sw, ix_pl = 0, 1\n",
        "    return ix_sw, ix_pl\n",
        "\n",
        "ix_sw, ix_pl = select_2d_features(X_all, feature_names)\n",
        "\n",
        "# Build 2D datasets\n",
        "X2_tr = X_train[:, [ix_sw, ix_pl]]\n",
        "X2_va = X_val[:, [ix_sw, ix_pl]]\n",
        "\n",
        "# Standardize 2D\n",
        "sc2 = StandardScaler()\n",
        "X2_tr_std = sc2.fit_transform(X2_tr)\n",
        "X2_va_std = sc2.transform(X2_va)\n",
        "\n",
        "# Train a fresh 2D model\n",
        "model2d = ScratchLogisticRegression(num_iter=800, lr=0.1, reg_lambda=0.1, use_bias=True, verbose=False)\n",
        "model2d.fit(X2_tr_std, y_train, X_val=X2_va_std, y_val=y_val)\n",
        "\n",
        "# Create meshgrid\n",
        "x_min, x_max = X2_tr_std[:,0].min()-0.5, X2_tr_std[:,0].max()+0.5\n",
        "y_min, y_max = X2_tr_std[:,1].min()-0.5, X2_tr_std[:,1].max()+0.5\n",
        "xx, yy = np.meshgrid(np.linspace(x_min, x_max, 300), np.linspace(y_min, y_max, 300))\n",
        "grid = np.c_[xx.ravel(), yy.ravel()]\n",
        "Z = model2d.predict(grid).reshape(xx.shape)\n",
        "\n",
        "# Plot decision region\n",
        "fig = plt.figure()\n",
        "plt.contourf(xx, yy, Z, alpha=0.25)   # region\n",
        "# Overlay training points\n",
        "plt.scatter(X2_tr_std[y_train==0,0], X2_tr_std[y_train==0,1], s=26, edgecolor=\"white\", linewidth=0.6, label=\"versicolor (train)\")\n",
        "plt.scatter(X2_tr_std[y_train==1,0], X2_tr_std[y_train==1,1], s=26, edgecolor=\"white\", linewidth=0.6, label=\"virginica (train)\")\n",
        "plt.xlabel(\"sepal width (standardized)\")\n",
        "plt.ylabel(\"petal length (standardized)\")\n",
        "plt.title(\"Decision Region (2 features, scratch LR)\")\n",
        "plt.legend()\n",
        "plt.show()"
      ]
    },
    {
      "cell_type": "markdown",
      "id": "46d43c49",
      "metadata": {
        "id": "46d43c49"
      },
      "source": [
        "## Problem 8 - Saving & Loading Weights\n",
        "\n",
        "We save learned parameters with `np.savez` and show that a fresh model with loaded weights produces identical predictions."
      ]
    },
    {
      "cell_type": "code",
      "execution_count": 8,
      "id": "4329ea9f",
      "metadata": {
        "colab": {
          "base_uri": "https://localhost:8080/"
        },
        "id": "4329ea9f",
        "outputId": "392e50ba-6df9-4ebd-d41a-572102043556"
      },
      "outputs": [
        {
          "output_type": "stream",
          "name": "stdout",
          "text": [
            "Weights saved to: /content/sample_data/logreg_weights.npz\n",
            "Restored-meta: {'use_bias': True, 'lr': 0.1, 'num_iter': 800, 'reg_lambda': 0.1}\n",
            "Predictions equal: True\n"
          ]
        }
      ],
      "source": [
        "save_path = \"/content/sample_data/logreg_weights.npz\" # path\n",
        "scratch.save_weights(save_path)\n",
        "\n",
        "theta_loaded, meta = ScratchLogisticRegression.load_weights(save_path)\n",
        "restored = ScratchLogisticRegression(num_iter=1, lr=meta[\"lr\"], reg_lambda=meta[\"reg_lambda\"], use_bias=meta[\"use_bias\"])\n",
        "# Initialize and assign loaded parameters\n",
        "restored._init_params(len(theta_loaded))\n",
        "restored.theta_ = theta_loaded.copy()\n",
        "\n",
        "# Check predictions match\n",
        "pred_restored = restored.predict(X_val_std)\n",
        "print(\"Weights saved to:\", save_path)\n",
        "print(\"Restored-meta:\", meta)\n",
        "print(\"Predictions equal:\", np.array_equal(pred_restored, pred_val))"
      ]
    },
    {
      "cell_type": "markdown",
      "id": "0cb45c01",
      "metadata": {
        "id": "0cb45c01"
      },
      "source": [
        "\n",
        "---\n",
        "\n",
        "## Conclusion\n",
        "\n",
        "You now have a full **scratch** logistic regression with:\n",
        "- All problems tackled\n",
        "- Enjoyed this challenge!\n",
        "\n",
        "Feel free to tweak `reg_lambda`, iterations, or threshold to explore bias/variance effects.\n"
      ]
    }
  ],
  "metadata": {
    "colab": {
      "provenance": []
    },
    "language_info": {
      "name": "python"
    },
    "kernelspec": {
      "name": "python3",
      "display_name": "Python 3"
    }
  },
  "nbformat": 4,
  "nbformat_minor": 5
}
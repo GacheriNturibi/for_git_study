{
  "cells": [
    {
      "cell_type": "markdown",
      "id": "b13a0a43",
      "metadata": {
        "id": "b13a0a43"
      },
      "source": [
        "# Chestnut Manju Problem\n",
        "\n",
        "## 1. Goal\n",
        "This assignment requires learners to:\n",
        "- Apply basic programming skills to exponential growth problems\n",
        "- Gain experience creating programs without guidance\n",
        "- Solving famous problems programmatically"
      ]
    },
    {
      "cell_type": "markdown",
      "id": "a06efe3a",
      "metadata": {
        "id": "a06efe3a"
      },
      "source": [
        "## 2. Problem Statement\n",
        "A fictional gadget doubles the quantity every **5 minutes**. In this scenario, chestnut buns (manju) double in total volume every step.\n",
        "This assignment requires modeling the doubling process, computing how long it takes to fill the **Solar System**, and generalizing the approach so that other spaces can be evaluated."
      ]
    },
    {
      "cell_type": "markdown",
      "id": "d139f4d7",
      "metadata": {
        "id": "d139f4d7"
      },
      "source": [
        "## 3. Assumptions and Formulas\n",
        "**The volume of a sphere;** the bun and solar system, is given by the formula, 4/3 pi r^3\n",
        "**Chestnut bun radius**: approximately, one bun as a sphere has a radius of 5 cm\n",
        "\n",
        "**Solar System volume**: approximately, the radius of the solar system is 4.5 billion kilometres =  4.5 * 10^12 m\n",
        "\n",
        "**Growth rule**: total volume doubles every 5 minutes."
      ]
    },
    {
      "cell_type": "code",
      "execution_count": null,
      "id": "89335aea",
      "metadata": {
        "colab": {
          "base_uri": "https://localhost:8080/"
        },
        "id": "89335aea",
        "outputId": "607cfeea-f838-420c-d9a1-81377d531403"
      },
      "outputs": [
        {
          "output_type": "stream",
          "name": "stdout",
          "text": [
            "One bun volume: 5.235988e-04 m^3\n",
            "Approximate Solar System volume: 3.817035e+38 m^3\n"
          ]
        }
      ],
      "source": [
        "import math\n",
        "\n",
        "# Parameters\n",
        "r_bun_m = 0.05             # bun radius [m]\n",
        "R_solar_m = 4.5e12         # Solar System radius approximation [m]\n",
        "doubling_minutes = 5       # period of doubling [minutes]\n",
        "\n",
        "# Volumes\n",
        "V_bun = (4/3)*math.pi*(r_bun_m**3)\n",
        "V_solar = (4/3)*math.pi*(R_solar_m**3)\n",
        "\n",
        "print(f\"One bun volume: {V_bun:.6e} m^3\")\n",
        "print(f\"Approximate Solar System volume: {V_solar:.6e} m^3\")"
      ]
    },
    {
      "cell_type": "markdown",
      "id": "de53a545",
      "metadata": {
        "id": "de53a545"
      },
      "source": [
        "## 4. Question 1 - Time to Fill the Solar System\n",
        "This assignment requires computing the number of **doubling steps** and **minutes** until total bun volume reaches or exceeds the Solar System volume.\n",
        "Let's use a while-loop to iterate until the target is met."
      ]
    },
    {
      "cell_type": "code",
      "execution_count": null,
      "id": "8c000d59",
      "metadata": {
        "colab": {
          "base_uri": "https://localhost:8080/"
        },
        "id": "8c000d59",
        "outputId": "a1cac00d-ea03-44f0-9685-a3c92a74a529"
      },
      "outputs": [
        {
          "output_type": "stream",
          "name": "stdout",
          "text": [
            "Doubling steps needed: 140\n",
            "Time to fill: 700 minutes (11.67 hours, 0.49 days\n"
          ]
        }
      ],
      "source": [
        "# While-loop simulation starting from one bun\n",
        "total_volume = V_bun\n",
        "steps = 0\n",
        "\n",
        "while total_volume < V_solar:\n",
        "    total_volume *= 2 # doubles\n",
        "    steps += 1\n",
        "\n",
        "minutes_to_fill = steps * doubling_minutes\n",
        "hours_to_fill = minutes_to_fill / 60\n",
        "days_to_fill = hours_to_fill / 24\n",
        "\n",
        "print(f\"Doubling steps needed: {steps}\")\n",
        "print(f\"Time to fill: {minutes_to_fill:,} minutes ({hours_to_fill:,.2f} hours, {days_to_fill:,.2f} days\")"
      ]
    },
    {
      "cell_type": "markdown",
      "id": "5468be63",
      "metadata": {
        "id": "5468be63"
      },
      "source": [
        "## 5. Question 2 - General Purpose Function\n",
        "A reusable function to compute time to fill (in minutes) for any **initial volume**, **target volume**, and **doubling interval**."
      ]
    },
    {
      "cell_type": "code",
      "execution_count": null,
      "id": "12d5d698",
      "metadata": {
        "colab": {
          "base_uri": "https://localhost:8080/"
        },
        "id": "12d5d698",
        "outputId": "6f198b06-28b3-434c-bc8c-aff00a67cb5e"
      },
      "outputs": [
        {
          "output_type": "stream",
          "name": "stdout",
          "text": [
            "Minutes to fill Tokyo Dome: 160 minutes (Approximately 2.67 hours)\n"
          ]
        }
      ],
      "source": [
        "def doubling_time_to_fill(initial_volume, target_volume, doubling_minutes=5):\n",
        "    \"\"\"Return the minutes required for a doubling process to reach/exceed target.\n",
        "    The process starts at `initial_volume` and doubles every `doubling_minutes` minutes.\n",
        "    \"\"\"\n",
        "    if initial_volume <= 0:\n",
        "        raise ValueError(\"initial_volume must be positive\") # Checks sort of?\n",
        "    if target_volume <= 0:\n",
        "        raise ValueError(\"target_volume must be positive\")\n",
        "    if target_volume <= initial_volume:\n",
        "        return 0\n",
        "\n",
        "    total = initial_volume\n",
        "    steps = 0\n",
        "    while total < target_volume:\n",
        "        total *= 2\n",
        "        steps += 1\n",
        "    return steps * doubling_minutes\n",
        "\n",
        "# Example reuse: Tokyo Dome (approximate interior volume 1,240,000 m^3)\n",
        "minutes_tokyo_dome = doubling_time_to_fill(V_bun, 1.24e6, doubling_minutes)\n",
        "print(f\"Minutes to fill Tokyo Dome: {minutes_tokyo_dome:,} minutes (Approximately {minutes_tokyo_dome/60:,.2f} hours)\" )"
      ]
    },
    {
      "cell_type": "markdown",
      "id": "459c831e",
      "metadata": {
        "id": "459c831e"
      },
      "source": [
        "## 6. Visualization - Total Volume Over Time\n",
        "Plot of total bun volume over time to illustrate exponential growth.\n",
        "The y-axis uses a logarithmic scale."
      ]
    },
    {
      "cell_type": "code",
      "execution_count": null,
      "id": "3c3ff0a5",
      "metadata": {
        "colab": {
          "base_uri": "https://localhost:8080/",
          "height": 472
        },
        "id": "3c3ff0a5",
        "outputId": "84fc074a-8b09-4f26-c14e-7f04a3be7a8a"
      },
      "outputs": [
        {
          "output_type": "display_data",
          "data": {
            "text/plain": [
              "<Figure size 640x480 with 1 Axes>"
            ],
            "image/png": "[encoded data removed]"
          },
          "metadata": {}
        }
      ],
      "source": [
        "import matplotlib.pyplot as plt\n",
        "\n",
        "# Build time series up to 'steps' from the Solar System result\n",
        "volumes = []\n",
        "times_min = []\n",
        "\n",
        "v = V_bun\n",
        "for k in range(steps + 1):  # include starting point\n",
        "    volumes.append(v)\n",
        "    times_min.append(k * doubling_minutes)\n",
        "    v *= 2\n",
        "\n",
        "plt.title(\"Chestnut Manju Total Volume Over Time\")\n",
        "plt.xlabel(\"Time [minutes]\")\n",
        "plt.ylabel(\"Total volume [m^3] (log scale)\")\n",
        "plt.yscale(\"log\")\n",
        "plt.plot(times_min, volumes)\n",
        "plt.show()"
      ]
    }
  ],
  "metadata": {
    "colab": {
      "provenance": [],
      "toc_visible": true
    },
    "language_info": {
      "name": "python"
    },
    "kernelspec": {
      "name": "python3",
      "display_name": "Python 3"
    }
  },
  "nbformat": 4,
  "nbformat_minor": 5
}
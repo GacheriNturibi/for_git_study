{
  "cells": [
    {
      "cell_type": "markdown",
      "id": "c90cf4b8",
      "metadata": {
        "id": "c90cf4b8"
      },
      "source": [
        "# 2D CNN Classifier\n",
        "\n",
        "This notebook implements a 2D convolutional neural network **from scratch** using only NumPy.\n"
      ]
    },
    {
      "cell_type": "code",
      "execution_count": null,
      "id": "09e07076",
      "metadata": {
        "id": "09e07076"
      },
      "outputs": [],
      "source": [
        "import numpy as np\n",
        "import matplotlib.pyplot as plt\n",
        "from sklearn.model_selection import train_test_split\n",
        "from sklearn.preprocessing import OneHotEncoder\n",
        "import os\n",
        "\n",
        "# Reproducibility & plotting defaults\n",
        "np.random.seed(42)\n",
        "plt.rcParams['figure.figsize'] = (7,5)\n",
        "plt.rcParams['axes.grid'] = True"
      ]
    },
    {
      "cell_type": "markdown",
      "id": "8d051b6e",
      "metadata": {
        "id": "8d051b6e"
      },
      "source": [
        "## 1) Load MNIST (28×28, grayscale)\n",
        "\n",
        "We try `keras.datasets.mnist`. If unavailable, we try a local `mnist.npz` (at `/mnt/data/mnist.npz` or `~/.keras/datasets/mnist.npz`). As a last resort we attempt `sklearn.fetch_openml('mnist_784')`.\n"
      ]
    },
    {
      "cell_type": "code",
      "execution_count": null,
      "id": "fa4781de",
      "metadata": {
        "colab": {
          "base_uri": "https://localhost:8080/",
          "height": 537
        },
        "id": "fa4781de",
        "outputId": "0790af67-2d5f-4b1f-ee78-5a9d176ae363"
      },
      "outputs": [
        {
          "name": "stdout",
          "output_type": "stream",
          "text": [
            "Downloading data from https://storage.googleapis.com/tensorflow/tf-keras-datasets/mnist.npz\n",
            "\u001b[1m11490434/11490434\u001b[0m \u001b[32m━━━━━━━━━━━━━━━━━━━━\u001b[0m\u001b[37m\u001b[0m \u001b[1m0s\u001b[0m 0us/step\n",
            "Train shape: (60000, 28, 28)  Test shape: (10000, 28, 28)\n",
            "Dtype: uint8\n"
          ]
        },
        {
          "data": {
            "image/png": "[encoded data removed]",
            "text/plain": [
              "<Figure size 700x500 with 1 Axes>"
            ]
          },
          "metadata": {},
          "output_type": "display_data"
        }
      ],
      "source": [
        "# Load MNIST directly from Keras\n",
        "from keras.datasets import mnist\n",
        "\n",
        "(X_train, y_train), (X_test, y_test) = mnist.load_data()\n",
        "\n",
        "print(\"Train shape:\", X_train.shape, \" Test shape:\", X_test.shape)\n",
        "print(\"Dtype:\", X_train.dtype)\n",
        "\n",
        "# sample\n",
        "plt.imshow(X_train[0], cmap='gray'); plt.title(f'label: {y_train[0]}'); plt.show()"
      ]
    },
    {
      "cell_type": "markdown",
      "id": "8ec8e721",
      "metadata": {
        "id": "8ec8e721"
      },
      "source": [
        "## 2) Preprocess to NCHW, normalize, one-hot, split\n",
        "\n",
        "- Normalize to `[0,1]` (`float32`).\n",
        "- Reshape to **NCHW**: `(N, C=1, H=28, W=28)`.\n",
        "- One-hot labels (10 classes).\n",
        "- Split train into **48k train / 12k val**.\n"
      ]
    },
    {
      "cell_type": "code",
      "execution_count": null,
      "id": "819c069b",
      "metadata": {
        "colab": {
          "base_uri": "https://localhost:8080/"
        },
        "id": "819c069b",
        "outputId": "e4a3fb35-16a7-4230-cc93-c2781e34c195"
      },
      "outputs": [
        {
          "name": "stdout",
          "output_type": "stream",
          "text": [
            "X_train: (48000, 1, 28, 28)  X_val: (12000, 1, 28, 28)  X_test: (10000, 1, 28, 28)\n"
          ]
        }
      ],
      "source": [
        "# Normalize\n",
        "X_train = (X_train.astype(np.float32) / 255.0).reshape(-1, 1, 28, 28)\n",
        "X_test  = (X_test.astype(np.float32)  / 255.0).reshape(-1, 1, 28, 28)\n",
        "\n",
        "# One-hot encode\n",
        "try:\n",
        "    enc = OneHotEncoder(handle_unknown='ignore', sparse=False)\n",
        "except TypeError:\n",
        "    enc = OneHotEncoder(handle_unknown='ignore', sparse_output=False)\n",
        "y_train_oh = enc.fit_transform(y_train.reshape(-1,1))\n",
        "y_test_oh  = enc.transform(y_test.reshape(-1,1))\n",
        "\n",
        "# Train/val split\n",
        "X_train, X_val, y_train_oh, y_val_oh, y_train_i, y_val_i = train_test_split(\n",
        "    X_train, y_train_oh, y_train, test_size=0.2, random_state=42, stratify=y_train\n",
        ")\n",
        "print('X_train:', X_train.shape, ' X_val:', X_val.shape, ' X_test:', X_test.shape)"
      ]
    },
    {
      "cell_type": "markdown",
      "id": "eca4f509",
      "metadata": {
        "id": "eca4f509"
      },
      "source": [
        "## 3) Utilities: Softmax, Cross-Entropy, Accuracy"
      ]
    },
    {
      "cell_type": "code",
      "execution_count": null,
      "id": "073c6db5",
      "metadata": {
        "id": "073c6db5"
      },
      "outputs": [],
      "source": [
        "def softmax_stable(logits):\n",
        "    shift = logits - logits.max(axis=1, keepdims=True)\n",
        "    ex = np.exp(shift)\n",
        "    return ex / ex.sum(axis=1, keepdims=True)\n",
        "\n",
        "def cross_entropy(y_true_onehot, y_pred_proba, eps=1e-7):\n",
        "    yp = np.clip(y_pred_proba, eps, 1.0-eps)\n",
        "    return -np.mean(np.sum(y_true_onehot * np.log(yp), axis=1))\n",
        "\n",
        "def accuracy_from_proba(y_true_int, y_pred_proba):\n",
        "    pred = np.argmax(y_pred_proba, axis=1)\n",
        "    return float((pred == y_true_int).mean())"
      ]
    },
    {
      "cell_type": "markdown",
      "id": "0bf0e731",
      "metadata": {
        "id": "0bf0e731"
      },
      "source": [
        "## 4) Initializers & Optimizers"
      ]
    },
    {
      "cell_type": "code",
      "execution_count": null,
      "id": "6a8f6723",
      "metadata": {
        "id": "6a8f6723"
      },
      "outputs": [],
      "source": [
        "class SimpleInitializer:\n",
        "    def __init__(self, sigma=0.01): self.sigma = float(sigma)\n",
        "    def W(self, fan_in, fan_out): return self.sigma*np.random.standard_normal((fan_in, fan_out)).astype(np.float32)\n",
        "    def B(self, fan_out): return np.zeros(fan_out, dtype=np.float32)\n",
        "\n",
        "class XavierInitializer:\n",
        "    def W(self, fan_in, fan_out):\n",
        "        sigma = 1.0/np.sqrt(fan_in)\n",
        "        return sigma*np.random.standard_normal((fan_in, fan_out)).astype(np.float32)\n",
        "    def B(self, fan_out): return np.zeros(fan_out, dtype=np.float32)\n",
        "\n",
        "class HeInitializer:\n",
        "    def W(self, fan_in, fan_out):\n",
        "        sigma = np.sqrt(2.0/fan_in)\n",
        "        return sigma*np.random.standard_normal((fan_in, fan_out)).astype(np.float32)\n",
        "    def B(self, fan_out): return np.zeros(fan_out, dtype=np.float32)\n",
        "\n",
        "class SGD:\n",
        "    def __init__(self, lr=0.1): self.lr = float(lr)\n",
        "    def update(self, layer):\n",
        "        layer.W -= self.lr * layer.dW\n",
        "        layer.B -= self.lr * layer.db\n",
        "        return layer\n",
        "\n",
        "class AdaGrad:\n",
        "    def __init__(self, lr=0.1, eps=1e-8): self.lr=float(lr); self.eps=float(eps)\n",
        "    def update(self, layer):\n",
        "        if not hasattr(layer, 'hW'):\n",
        "            layer.hW = np.zeros_like(layer.W, dtype=np.float32)\n",
        "            layer.hB = np.zeros_like(layer.B, dtype=np.float32)\n",
        "        layer.hW += layer.dW*layer.dW\n",
        "        layer.hB += layer.db*layer.db\n",
        "        layer.W -= self.lr * layer.dW / (np.sqrt(layer.hW)+self.eps)\n",
        "        layer.B -= self.lr * layer.db / (np.sqrt(layer.hB)+self.eps)\n",
        "        return layer"
      ]
    },
    {
      "cell_type": "markdown",
      "id": "534fc0f5",
      "metadata": {
        "id": "534fc0f5"
      },
      "source": [
        "## 5) FC, ReLU, Tanh, SoftmaxOutput, Flatten"
      ]
    },
    {
      "cell_type": "code",
      "execution_count": null,
      "id": "7617717d",
      "metadata": {
        "id": "7617717d"
      },
      "outputs": [],
      "source": [
        "class FC:\n",
        "    def __init__(self, n_in, n_out, initializer, optimizer):\n",
        "        self.W = initializer.W(n_in, n_out)\n",
        "        self.B = initializer.B(n_out)\n",
        "        self.optimizer = optimizer\n",
        "        self.X = None; self.dW=None; self.db=None\n",
        "    def forward(self, X):\n",
        "        self.X = X\n",
        "        return X @ self.W + self.B\n",
        "    def backward(self, dA):\n",
        "        self.dW = self.X.T @ dA\n",
        "        self.db = dA.sum(axis=0)\n",
        "        dZ = dA @ self.W.T\n",
        "        self.optimizer.update(self)\n",
        "        return dZ\n",
        "\n",
        "class ReLU:\n",
        "    def __init__(self): self.mask=None\n",
        "    def forward(self, X):\n",
        "        self.mask = (X > 0).astype(np.float32)\n",
        "        return np.maximum(0.0, X)\n",
        "    def backward(self, dZ): return dZ * self.mask\n",
        "\n",
        "class Tanh:\n",
        "    def __init__(self): self.out=None\n",
        "    def forward(self, X):\n",
        "        self.out = np.tanh(X)\n",
        "        return self.out\n",
        "    def backward(self, dZ): return dZ * (1.0 - self.out**2)\n",
        "\n",
        "class SoftmaxOutput:\n",
        "    def forward(self, logits):\n",
        "        return softmax_stable(logits)\n",
        "    def backward(self, proba, y_true_onehot):\n",
        "        N = y_true_onehot.shape[0]\n",
        "        return (proba - y_true_onehot) / float(N)\n",
        "\n",
        "class Flatten:\n",
        "    def __init__(self): self.shape=None\n",
        "    def forward(self, X):\n",
        "        self.shape = X.shape\n",
        "        return X.reshape(X.shape[0], -1)\n",
        "    def backward(self, dZ):\n",
        "        return dZ.reshape(self.shape)\n"
      ]
    },
    {
      "cell_type": "markdown",
      "id": "d77093a1",
      "metadata": {
        "id": "d77093a1"
      },
      "source": [
        "## 6) Output-size utilities - Problems 2 & 3"
      ]
    },
    {
      "cell_type": "code",
      "execution_count": null,
      "id": "b4c93cbf",
      "metadata": {
        "colab": {
          "base_uri": "https://localhost:8080/"
        },
        "id": "b4c93cbf",
        "outputId": "6f185f6e-0a4f-4e38-fa75-3bce81da13dd"
      },
      "outputs": [
        {
          "name": "stdout",
          "output_type": "stream",
          "text": [
            "2D out examples:\n",
            "28×28, F=3, P=0, S=1 -> (26, 26)\n",
            "28×28, F=5, P=0, S=1 -> (24, 24)\n",
            "28×28, F=5, P=2, S=1 -> (28, 28)  (same size)\n"
          ]
        }
      ],
      "source": [
        "def conv1d_out_length(N_in, F, P=0, S=1):\n",
        "    return int((N_in + 2*P - F)/S) + 1\n",
        "\n",
        "def conv2d_out_hw(H_in, W_in, Fh, Fw, Ph=0, Pw=0, Sh=1, Sw=1):\n",
        "    H_out = int((H_in + 2*Ph - Fh)/Sh) + 1\n",
        "    W_out = int((W_in + 2*Pw - Fw)/Sw) + 1\n",
        "    return H_out, W_out\n",
        "\n",
        "print('2D out examples:')\n",
        "print('28×28, F=3, P=0, S=1 ->', conv2d_out_hw(28,28,3,3,0,0,1,1))\n",
        "print('28×28, F=5, P=0, S=1 ->', conv2d_out_hw(28,28,5,5,0,0,1,1))\n",
        "print('28×28, F=5, P=2, S=1 ->', conv2d_out_hw(28,28,5,5,2,2,1,1), ' (same size)')"
      ]
    },
    {
      "cell_type": "markdown",
      "id": "e2bcbee9",
      "metadata": {
        "id": "e2bcbee9"
      },
      "source": [
        "## 7) im2col2d / col2im2d helpers (NCHW)"
      ]
    },
    {
      "cell_type": "code",
      "execution_count": null,
      "id": "3b16450e",
      "metadata": {
        "id": "3b16450e"
      },
      "outputs": [],
      "source": [
        "def im2col2d(x, Fh, Fw, Sh=1, Sw=1, Ph=0, Pw=0):\n",
        "    \"\"\"\n",
        "    x: (B, C, H, W) -> col: (B, H_out*W_out, C*Fh*Fw)\n",
        "    \"\"\"\n",
        "    B, C, H, W = x.shape\n",
        "    H_out, W_out = conv2d_out_hw(H, W, Fh, Fw, Ph, Pw, Sh, Sw)\n",
        "    if Ph>0 or Pw>0:\n",
        "        x_pad = np.pad(x, ((0,0),(0,0),(Ph,Ph),(Pw,Pw)), mode='constant')\n",
        "    else:\n",
        "        x_pad = x\n",
        "\n",
        "    i0 = np.repeat(np.arange(Fh), Fw)\n",
        "    i0 = np.tile(i0, C)\n",
        "    j0 = np.tile(np.arange(Fw), Fh)\n",
        "    j0 = np.tile(j0, C)\n",
        "    k  = np.repeat(np.arange(C), Fh*Fw)\n",
        "\n",
        "    i1 = Sh * np.arange(H_out)\n",
        "    j1 = Sw * np.arange(W_out)\n",
        "    i = i0.reshape(1,-1) + np.repeat(i1, W_out).reshape(-1,1)\n",
        "    j = j0.reshape(1,-1) + np.tile(j1, H_out).reshape(-1,1)\n",
        "\n",
        "    col = np.empty((B, H_out*W_out, C*Fh*Fw), dtype=x.dtype)\n",
        "    for b in range(B):\n",
        "        col[b] = x_pad[b, k, i, j]\n",
        "    return col, (H_out, W_out), (H, W)\n",
        "\n",
        "def col2im2d(col, x_shape, Fh, Fw, Sh=1, Sw=1, Ph=0, Pw=0):\n",
        "    B, C, H, W = x_shape\n",
        "    H_out, W_out = conv2d_out_hw(H, W, Fh, Fw, Ph, Pw, Sh, Sw)\n",
        "    dX_pad = np.zeros((B, C, H + 2*Ph, W + 2*Pw), dtype=col.dtype)\n",
        "\n",
        "    i0 = np.repeat(np.arange(Fh), Fw)\n",
        "    i0 = np.tile(i0, C)\n",
        "    j0 = np.tile(np.arange(Fw), Fh)\n",
        "    j0 = np.tile(j0, C)\n",
        "    k  = np.repeat(np.arange(C), Fh*Fw)\n",
        "\n",
        "    i1 = Sh * np.arange(H_out)\n",
        "    j1 = Sw * np.arange(W_out)\n",
        "    i = i0.reshape(1,-1) + np.repeat(i1, W_out).reshape(-1,1)\n",
        "    j = j0.reshape(1,-1) + np.tile(j1, H_out).reshape(-1,1)\n",
        "\n",
        "    for b in range(B):\n",
        "        np.add.at(dX_pad[b], (k, i, j), col[b])\n",
        "    return dX_pad[:, :, Ph:H+Ph, Pw:W+Pw]"
      ]
    },
    {
      "cell_type": "markdown",
      "id": "60f63dbf",
      "metadata": {
        "id": "60f63dbf"
      },
      "source": [
        "## 8) Conv2d Problem 1 - forward/backward, channels/stride/padding"
      ]
    },
    {
      "cell_type": "code",
      "execution_count": null,
      "id": "9d6649b1",
      "metadata": {
        "id": "9d6649b1"
      },
      "outputs": [],
      "source": [
        "class Conv2d:\n",
        "    def __init__(self, C_in, C_out, Fh, Fw, initializer, optimizer, Sh=1, Sw=1, Ph=0, Pw=0):\n",
        "        self.C_in=int(C_in); self.C_out=int(C_out)\n",
        "        self.Fh=int(Fh); self.Fw=int(Fw)\n",
        "        self.Sh=int(Sh); self.Sw=int(Sw)\n",
        "        self.Ph=int(Ph); self.Pw=int(Pw)\n",
        "        self.optimizer = optimizer\n",
        "        fan_in = self.C_in * self.Fh * self.Fw\n",
        "        W_flat = initializer.W(fan_in, self.C_out)  # (fan_in, C_out)\n",
        "        self.W = W_flat.T.reshape(self.C_out, self.C_in, self.Fh, self.Fw)  # (C_out,C_in,Fh,Fw)\n",
        "        self.B = initializer.B(self.C_out)  # (C_out,)\n",
        "        self.cache = {}\n",
        "\n",
        "    def forward(self, x):\n",
        "        # x: (B,C,H,W) -> out: (B,C_out,H_out,W_out)\n",
        "        B, C, H, W = x.shape\n",
        "        col, (H_out, W_out), (H_in, W_in) = im2col2d(x, self.Fh, self.Fw, self.Sh, self.Sw, self.Ph, self.Pw)\n",
        "        W_flat = self.W.reshape(self.C_out, -1)  # (C_out, C*Fh*Fw)\n",
        "\n",
        "        out_bnK = np.einsum('bnf,kf->bnk', col, W_flat) + self.B  # (B, H_out*W_out, C_out)\n",
        "        out = out_bnK.transpose(0,2,1).reshape(B, self.C_out, H_out, W_out)\n",
        "\n",
        "        self.cache = {'x_shape': x.shape, 'col': col, 'W_flat': W_flat, 'H_out': H_out, 'W_out': W_out}\n",
        "        return out\n",
        "\n",
        "    def backward(self, dA):\n",
        "        # dA: (B,C_out,H_out,W_out) -> dX: (B,C,H,W)\n",
        "        B, _, H_out, W_out = dA.shape\n",
        "        col = self.cache['col']\n",
        "        W_flat = self.cache['W_flat']\n",
        "\n",
        "        dA_bnK = dA.transpose(0,2,3,1).reshape(B, H_out*W_out, self.C_out)  # (B, HW, C_out)\n",
        "\n",
        "        dW_flat = np.einsum('bnk,bnf->kf', dA_bnK, col)  # (C_out, C*Fh*Fw)\n",
        "        self.dW = dW_flat.reshape(self.W.shape)\n",
        "        self.db = dA.sum(axis=(0,2,3))  # (C_out,)\n",
        "\n",
        "        dcol = np.einsum('bnk,kf->bnf', dA_bnK, W_flat)  # (B, HW, C*Fh*Fw)\n",
        "        dX = col2im2d(dcol, self.cache['x_shape'], self.Fh, self.Fw, self.Sh, self.Sw, self.Ph, self.Pw)\n",
        "\n",
        "        self.optimizer.update(self)\n",
        "        return dX"
      ]
    },
    {
      "cell_type": "markdown",
      "id": "e2860e57",
      "metadata": {
        "id": "e2860e57"
      },
      "source": [
        "## 9) Problem 2 Small-array Conv2d test (forward/backward)"
      ]
    },
    {
      "cell_type": "code",
      "execution_count": null,
      "id": "a4dcc8e7",
      "metadata": {
        "colab": {
          "base_uri": "https://localhost:8080/"
        },
        "id": "a4dcc8e7",
        "outputId": "9d0ef499-c180-4f53-bc9e-56803fd02d9b"
      },
      "outputs": [
        {
          "name": "stdout",
          "output_type": "stream",
          "text": [
            "Forward output:\n",
            " [[[[-4 -4]\n",
            "   [-4 -4]]\n",
            "\n",
            "  [[ 1  1]\n",
            "   [ 1  1]]]]\n",
            "db: [ 13. -16.]\n",
            "dW shape: (2, 1, 3, 3)\n",
            "dX shape: (1, 1, 4, 4)\n"
          ]
        }
      ],
      "source": [
        "# Input (B=1,C=1,H=4,W=4)\n",
        "x = np.array([[[[ 1,  2,  3,  4],\n",
        "                [ 5,  6,  7,  8],\n",
        "                [ 9, 10, 11, 12],\n",
        "                [13, 14, 15, 16]]]]).astype(np.float32)\n",
        "\n",
        "# Two 3×3 filters (C_out=2, C_in=1)\n",
        "w = np.array([[[[ 0.,  0.,  0.],\n",
        "                [ 0.,  1.,  0.],\n",
        "                [ 0., -1.,  0.]]],\n",
        "\n",
        "              [[[ 0.,  0.,  0.],\n",
        "                [ 0., -1.,  1.],\n",
        "                [ 0.,  0.,  0.]]]], dtype=np.float32)\n",
        "\n",
        "b = np.zeros(2, dtype=np.float32)\n",
        "\n",
        "conv = Conv2d(C_in=1, C_out=2, Fh=3, Fw=3, initializer=SimpleInitializer(0.0), optimizer=SGD(lr=0.0), Sh=1, Sw=1, Ph=0, Pw=0)\n",
        "conv.W = w.copy(); conv.B = b.copy()\n",
        "\n",
        "out = conv.forward(x)\n",
        "print('Forward output:\\n', out.astype(int))\n",
        "\n",
        "# Expect:\n",
        "# [[[-4, -4],  [[ 1, 1],\n",
        "#   [-4, -4]],  [ 1, 1]]]\n",
        "\n",
        "# Now a made-up upstream gradient (2×2 per channel, 2 channels)\n",
        "delta = np.array([[[[-4, -4],\n",
        "                    [10, 11]],\n",
        "\n",
        "                   [[ 1, -7],\n",
        "                    [ 1,-11]]]], dtype=np.float32)\n",
        "\n",
        "dX = conv.backward(delta)\n",
        "print('db:', conv.db)                 # gradient wrt bias (sum of delta over spatial positions)\n",
        "print('dW shape:', conv.dW.shape)\n",
        "print('dX shape:', dX.shape)"
      ]
    },
    {
      "cell_type": "markdown",
      "id": "f8ea1cd5",
      "metadata": {
        "id": "f8ea1cd5"
      },
      "source": [
        "## 10) Pooling layers, Problems 4 & 5: MaxPool2D and AveragePool2D"
      ]
    },
    {
      "cell_type": "code",
      "execution_count": null,
      "id": "e64ac6a0",
      "metadata": {
        "id": "e64ac6a0"
      },
      "outputs": [],
      "source": [
        "class MaxPool2D:\n",
        "    def __init__(self, Ph=2, Pw=2, Sh=2, Sw=2):\n",
        "        self.Ph=int(Ph); self.Pw=int(Pw); self.Sh=int(Sh); self.Sw=int(Sw)\n",
        "        self.cache = {}\n",
        "    def forward(self, x):\n",
        "        B, C, H, W = x.shape\n",
        "        H_out = int((H - self.Ph)/self.Sh) + 1\n",
        "        W_out = int((W - self.Pw)/self.Sw) + 1\n",
        "        out = np.empty((B, C, H_out, W_out), dtype=x.dtype)\n",
        "        self.argmax = np.zeros((B, C, H_out, W_out, 2), dtype=np.int32)\n",
        "        for b in range(B):\n",
        "            for c in range(C):\n",
        "                for i in range(H_out):\n",
        "                    for j in range(W_out):\n",
        "                        hs = i*self.Sh; ws = j*self.Sw\n",
        "                        window = x[b,c, hs:hs+self.Ph, ws:ws+self.Pw]\n",
        "                        idx = np.unravel_index(np.argmax(window), window.shape)\n",
        "                        out[b,c,i,j] = window[idx]\n",
        "                        self.argmax[b,c,i,j] = (hs+idx[0], ws+idx[1])\n",
        "        self.cache['x_shape'] = x.shape\n",
        "        return out\n",
        "    def backward(self, dA):\n",
        "        B, C, H, W = self.cache['x_shape']\n",
        "        H_out, W_out = dA.shape[2], dA.shape[3]\n",
        "        dX = np.zeros((B, C, H, W), dtype=dA.dtype)\n",
        "        for b in range(B):\n",
        "            for c in range(C):\n",
        "                for i in range(H_out):\n",
        "                    for j in range(W_out):\n",
        "                        (pi, pj) = self.argmax[b,c,i,j]\n",
        "                        dX[b,c,pi,pj] += dA[b,c,i,j]\n",
        "        return dX\n",
        "\n",
        "class AveragePool2D:\n",
        "    def __init__(self, Ph=2, Pw=2, Sh=2, Sw=2):\n",
        "        self.Ph=int(Ph); self.Pw=int(Pw); self.Sh=int(Sh); self.Sw=int(Sw)\n",
        "        self.cache = {}\n",
        "    def forward(self, x):\n",
        "        B, C, H, W = x.shape\n",
        "        H_out = int((H - self.Ph)/self.Sh) + 1\n",
        "        W_out = int((W - self.Pw)/self.Sw) + 1\n",
        "        out = np.empty((B, C, H_out, W_out), dtype=x.dtype)\n",
        "        self.cache['x_shape'] = x.shape\n",
        "        for b in range(B):\n",
        "            for c in range(C):\n",
        "                for i in range(H_out):\n",
        "                    for j in range(W_out):\n",
        "                        hs = i*self.Sh; ws = j*self.Sw\n",
        "                        window = x[b,c, hs:hs+self.Ph, ws:ws+self.Pw]\n",
        "                        out[b,c,i,j] = window.mean()\n",
        "        return out\n",
        "    def backward(self, dA):\n",
        "        B, C, H, W = self.cache['x_shape']\n",
        "        H_out, W_out = dA.shape[2], dA.shape[3]\n",
        "        dX = np.zeros((B, C, H, W), dtype=dA.dtype)\n",
        "        scale = 1.0 / (self.Ph * self.Pw)\n",
        "        for b in range(B):\n",
        "            for c in range(C):\n",
        "                for i in range(H_out):\n",
        "                    for j in range(W_out):\n",
        "                        hs = i*self.Sh; ws = j*self.Sw\n",
        "                        dX[b,c, hs:hs+self.Ph, ws:ws+self.Pw] += dA[b,c,i,j] * scale\n",
        "        return dX"
      ]
    },
    {
      "cell_type": "markdown",
      "id": "e5df68ce",
      "metadata": {
        "id": "e5df68ce"
      },
      "source": [
        "## 11) Mini-batch iterator"
      ]
    },
    {
      "cell_type": "code",
      "execution_count": null,
      "id": "7e101247",
      "metadata": {
        "id": "7e101247"
      },
      "outputs": [],
      "source": [
        "class GetMiniBatch:\n",
        "    def __init__(self, X, y, batch_size=128, seed=42):\n",
        "        self.batch_size = int(batch_size)\n",
        "        rng = np.random.default_rng(seed)\n",
        "        order = rng.permutation(np.arange(X.shape[0]))\n",
        "        self._X = X[order]\n",
        "        self._y = y[order]\n",
        "        self._stop = int(np.ceil(X.shape[0]/self.batch_size))\n",
        "        self._i = 0\n",
        "    def __len__(self): return self._stop\n",
        "    def __iter__(self): self._i=0; return self\n",
        "    def __next__(self):\n",
        "        if self._i >= self._stop: raise StopIteration()\n",
        "        p0 = self._i*self.batch_size; p1 = p0 + self.batch_size; self._i += 1\n",
        "        return self._X[p0:p1], self._y[p0:p1]"
      ]
    },
    {
      "cell_type": "markdown",
      "id": "ada88beb",
      "metadata": {
        "id": "ada88beb"
      },
      "source": [
        "## 12) Scratch2dCNNClassifier (Conv → ReLU → MaxPool → Flatten → FC → ReLU → FC → Softmax)"
      ]
    },
    {
      "cell_type": "code",
      "execution_count": null,
      "id": "8647963f",
      "metadata": {
        "id": "8647963f"
      },
      "outputs": [],
      "source": [
        "class Scratch2dCNNClassifier:\n",
        "    def __init__(self,\n",
        "                 conv_out=8, conv_ks=(3,3), conv_stride=(1,1), conv_pad=(0,0),\n",
        "                 hidden_dim=128,\n",
        "                 initializer='he', sigma=0.01,\n",
        "                 optimizer='adagrad', lr=0.2,\n",
        "                 batch_size=128, epochs=5,\n",
        "                 verbose=True, seed=42):\n",
        "        self.C_out = int(conv_out)\n",
        "        self.Kh, self.Kw = conv_ks\n",
        "        self.Sh, self.Sw = conv_stride\n",
        "        self.Ph, self.Pw = conv_pad\n",
        "        self.hidden_dim = int(hidden_dim)\n",
        "        self.initializer_name = initializer\n",
        "        self.sigma = float(sigma)\n",
        "        self.optimizer_name = optimizer\n",
        "        self.lr = float(lr)\n",
        "        self.batch_size = int(batch_size)\n",
        "        self.epochs = int(epochs)\n",
        "        self.verbose = verbose\n",
        "        self.seed = int(seed)\n",
        "        self.train_loss_=[]; self.val_loss_=[]\n",
        "        self.train_acc_=[]; self.val_acc_=[]\n",
        "\n",
        "    def _make_initializer(self):\n",
        "        if self.initializer_name=='simple': return SimpleInitializer(self.sigma)\n",
        "        if self.initializer_name=='xavier': return XavierInitializer()\n",
        "        if self.initializer_name=='he':     return HeInitializer()\n",
        "        raise ValueError('initializer must be simple/xavier/he')\n",
        "\n",
        "    def _make_optimizer(self):\n",
        "        if self.optimizer_name=='sgd': return SGD(self.lr)\n",
        "        if self.optimizer_name=='adagrad': return AdaGrad(self.lr)\n",
        "        raise ValueError('optimizer must be sgd/adagrad')\n",
        "\n",
        "    def _build(self, input_shape=(1,28,28)):\n",
        "        init = self._make_initializer(); opt = self._make_optimizer()\n",
        "        C_in,H,W = input_shape\n",
        "        self.conv = Conv2d(C_in=C_in, C_out=self.C_out, Fh=self.Kh, Fw=self.Kw,\n",
        "                           initializer=init, optimizer=opt,\n",
        "                           Sh=self.Sh, Sw=self.Sw, Ph=self.Ph, Pw=self.Pw)\n",
        "        self.relu1 = ReLU()\n",
        "        self.pool = MaxPool2D(Ph=2, Pw=2, Sh=2, Sw=2)\n",
        "        # output shape after conv\n",
        "        Hc, Wc = conv2d_out_hw(H, W, self.Kh, self.Kw, self.Ph, self.Pw, self.Sh, self.Sw)\n",
        "        Hp, Wp = int((Hc - 2)/2)+1, int((Wc - 2)/2)+1\n",
        "        fc_in = self.C_out * Hp * Wp\n",
        "        self.flatten = Flatten()\n",
        "        self.fc1 = FC(fc_in, self.hidden_dim, init, opt)\n",
        "        self.act1 = ReLU()\n",
        "        self.fc_out = FC(self.hidden_dim, 10, init, opt)\n",
        "        self.softmax = SoftmaxOutput()\n",
        "\n",
        "    def predict_proba(self, X):\n",
        "        if not hasattr(self, 'conv'): self._build(input_shape=(X.shape[1], X.shape[2], X.shape[3]))\n",
        "        z = self.relu1.forward(self.conv.forward(X))\n",
        "        z = self.pool.forward(z)\n",
        "        zf = self.flatten.forward(z)\n",
        "        h = self.act1.forward(self.fc1.forward(zf))\n",
        "        logits = self.fc_out.forward(h)\n",
        "        return self.softmax.forward(logits)\n",
        "\n",
        "    def fit(self, X, y_onehot, X_val=None, y_val=None, y_int=None, y_val_int=None):\n",
        "        if not hasattr(self, 'conv'): self._build(input_shape=(X.shape[1], X.shape[2], X.shape[3]))\n",
        "        for epoch in range(self.epochs):\n",
        "            batcher = GetMiniBatch(X, y_onehot, batch_size=self.batch_size, seed=self.seed+epoch)\n",
        "            for Xb, Yb in batcher:\n",
        "                z1 = self.relu1.forward(self.conv.forward(Xb))\n",
        "                z2 = self.pool.forward(z1)\n",
        "                zf = self.flatten.forward(z2)\n",
        "                h1 = self.act1.forward(self.fc1.forward(zf))\n",
        "                logits = self.fc_out.forward(h1)\n",
        "                proba = self.softmax.forward(logits)\n",
        "\n",
        "                d_logits = self.softmax.backward(proba, Yb)\n",
        "                d_h1 = self.fc_out.backward(d_logits)\n",
        "                d_zf = self.act1.backward(d_h1)\n",
        "                d_pool_in = self.fc1.backward(d_zf)\n",
        "                d_z2 = self.flatten.backward(d_pool_in)\n",
        "                d_z1 = self.pool.backward(d_z2)\n",
        "                _ = self.conv.backward(d_z1)\n",
        "\n",
        "            # End-epoch metrics\n",
        "            tr_proba = self.predict_proba(X)\n",
        "            tr_loss = cross_entropy(y_onehot, tr_proba)\n",
        "            self.train_loss_.append(tr_loss)\n",
        "            if y_int is not None: self.train_acc_.append(accuracy_from_proba(y_int, tr_proba))\n",
        "\n",
        "            if X_val is not None and y_val is not None:\n",
        "                vl_proba = self.predict_proba(X_val)\n",
        "                vl_loss = cross_entropy(y_val, vl_proba)\n",
        "                self.val_loss_.append(vl_loss)\n",
        "                if y_val_int is not None: self.val_acc_.append(accuracy_from_proba(y_val_int, vl_proba))\n",
        "\n",
        "            if self.verbose:\n",
        "                msg = f\"Epoch {epoch+1}/{self.epochs} - loss: {tr_loss:.4f}\"\n",
        "                if self.val_loss_: msg += f\" - val_loss: {self.val_loss_[-1]:.4f}\"\n",
        "                if self.train_acc_: msg += f\" - acc: {self.train_acc_[-1]:.4f}\"\n",
        "                if self.val_acc_: msg += f\" - val_acc: {self.val_acc_[-1]:.4f}\"\n",
        "                print(msg)\n",
        "        return self\n",
        "\n",
        "    def predict(self, X): return np.argmax(self.predict_proba(X), axis=1)"
      ]
    },
    {
      "cell_type": "markdown",
      "id": "d70ceccc",
      "metadata": {
        "id": "d70ceccc"
      },
      "source": [
        "## 13) Train the scratch 2D CNN on MNIST, Problem 7"
      ]
    },
    {
      "cell_type": "code",
      "execution_count": null,
      "id": "43434d90",
      "metadata": {
        "colab": {
          "background_save": true,
          "base_uri": "https://localhost:8080/",
          "height": 992
        },
        "id": "43434d90",
        "outputId": "a13b8efe-d57d-474b-9315-f81bb2f9ea3a"
      },
      "outputs": [
        {
          "name": "stdout",
          "output_type": "stream",
          "text": [
            "Epoch 1/2 - loss: 0.0901 - val_loss: 0.1348 - acc: 0.9711 - val_acc: 0.9573\n",
            "Epoch 2/2 - loss: 0.0394 - val_loss: 0.0986 - acc: 0.9881 - val_acc: 0.9692\n"
          ]
        },
        {
          "data": {
            "image/png": "[encoded data removed]",
            "text/plain": [
              "<Figure size 700x500 with 1 Axes>"
            ]
          },
          "metadata": {},
          "output_type": "display_data"
        },
        {
          "data": {
            "image/png": "[encoded data removed]",
            "text/plain": [
              "<Figure size 700x500 with 1 Axes>"
            ]
          },
          "metadata": {},
          "output_type": "display_data"
        },
        {
          "name": "stdout",
          "output_type": "stream",
          "text": [
            "Validation accuracy: 0.9692\n",
            "Test accuracy: 0.9740\n"
          ]
        }
      ],
      "source": [
        "model = Scratch2dCNNClassifier(conv_out=8, conv_ks=(3,3), conv_stride=(1,1), conv_pad=(0,0),\n",
        "                                hidden_dim=128, initializer='he', optimizer='adagrad',\n",
        "                                lr=0.2, batch_size=128, epochs=2, verbose=True)\n",
        "_ = model.fit(X_train, y_train_oh, X_val=X_val, y_val=y_val_oh, y_int=y_train_i, y_val_int=y_val_i)\n",
        "\n",
        "plt.figure(); plt.plot(model.train_loss_, label='train');\n",
        "if len(model.val_loss_)==len(model.train_loss_): plt.plot(model.val_loss_, label='val')\n",
        "plt.xlabel('Epoch'); plt.ylabel('Cross-entropy loss'); plt.title('Scratch 2D CNN - Loss'); plt.legend(); plt.show()\n",
        "\n",
        "if model.train_acc_ and model.val_acc_:\n",
        "    plt.figure(); plt.plot(model.train_acc_, label='train'); plt.plot(model.val_acc_, label='val')\n",
        "    plt.xlabel('Epoch'); plt.ylabel('Accuracy'); plt.title('Scratch 2D CNN - Accuracy'); plt.legend(); plt.show()\n",
        "\n",
        "val_acc = accuracy_from_proba(y_val_i, model.predict_proba(X_val))\n",
        "test_acc = accuracy_from_proba(y_test, model.predict_proba(X_test))\n",
        "print('Validation accuracy:', f'{val_acc:.4f}')\n",
        "print('Test accuracy:', f'{test_acc:.4f}')"
      ]
    },
    {
      "cell_type": "markdown",
      "id": "27c2d7ee",
      "metadata": {
        "id": "27c2d7ee"
      },
      "source": [
        "## 14) LeNet-style network (Problem 8)"
      ]
    },
    {
      "cell_type": "code",
      "execution_count": null,
      "id": "ECl_N-rftcSt",
      "metadata": {
        "colab": {
          "background_save": true
        },
        "id": "ECl_N-rftcSt",
        "outputId": "d7c6dde6-fb6e-4c9d-bce1-af6bdea86164"
      },
      "outputs": [
        {
          "name": "stdout",
          "output_type": "stream",
          "text": [
            "Epoch 1/2 - loss: 0.0665 - val_loss: 0.0815 - acc: 0.9800 - val_acc: 0.9730\n",
            "Epoch 2/2 - loss: 0.0425 - val_loss: 0.0651 - acc: 0.9871 - val_acc: 0.9803\n"
          ]
        },
        {
          "data": {
            "image/png": "[encoded data removed]",
            "text/plain": [
              "<Figure size 700x500 with 1 Axes>"
            ]
          },
          "metadata": {},
          "output_type": "display_data"
        },
        {
          "data": {
            "image/png": "[encoded data removed]",
            "text/plain": [
              "<Figure size 700x500 with 1 Axes>"
            ]
          },
          "metadata": {},
          "output_type": "display_data"
        },
        {
          "name": "stdout",
          "output_type": "stream",
          "text": [
            "LeNet-style Validation accuracy: 0.9803\n",
            "LeNet-style Test accuracy: 0.9784\n"
          ]
        }
      ],
      "source": [
        "class LeNetScratch:\n",
        "    def __init__(self, initializer='he', optimizer='adagrad', lr=0.05, epochs=2, batch_size=64, verbose=True):\n",
        "        self.initializer_name = initializer\n",
        "        self.optimizer_name   = optimizer\n",
        "        self.lr       = float(lr)\n",
        "        self.epochs   = int(epochs)\n",
        "        self.batch_size = int(batch_size)\n",
        "        self.verbose  = verbose\n",
        "        self.train_loss_ = []\n",
        "        self.val_loss_   = []\n",
        "        self.train_acc_  = []\n",
        "        self.val_acc_    = []\n",
        "\n",
        "    def _make_initializer(self):\n",
        "        if self.initializer_name == 'simple': return SimpleInitializer(0.01)\n",
        "        if self.initializer_name == 'xavier': return XavierInitializer()\n",
        "        if self.initializer_name == 'he':     return HeInitializer()\n",
        "        raise ValueError(f\"Unknown initializer '{self.initializer_name}'\")\n",
        "\n",
        "    def _make_optimizer(self):\n",
        "        if self.optimizer_name == 'sgd':     return SGD(self.lr)\n",
        "        if self.optimizer_name == 'adagrad': return AdaGrad(self.lr)\n",
        "        raise ValueError(f\"Unknown optimizer '{self.optimizer_name}'\")\n",
        "\n",
        "    def _build(self):\n",
        "        init = self._make_initializer()\n",
        "\n",
        "        # fresh optimizer instance per layer\n",
        "        def make_opt(): return self._make_optimizer()\n",
        "\n",
        "        # LeNet feature extractor\n",
        "        self.conv1 = Conv2d(1,  6, 5, 5, initializer=init, optimizer=make_opt(), Sh=1, Sw=1, Ph=0, Pw=0)\n",
        "        self.relu1 = ReLU()\n",
        "        self.pool1 = MaxPool2D(2, 2, 2, 2)\n",
        "\n",
        "        self.conv2 = Conv2d(6, 16, 5, 5, initializer=init, optimizer=make_opt(), Sh=1, Sw=1, Ph=0, Pw=0)\n",
        "        self.relu2 = ReLU()\n",
        "        self.pool2 = MaxPool2D(2, 2, 2, 2)\n",
        "\n",
        "        # 28 -  conv5 valid - 24 - pool2 - 12 - conv5 valid - 8 - pool2 - 4\n",
        "        self.flatten = Flatten()\n",
        "\n",
        "        # Classifier head\n",
        "        self.fc1    = FC(16*4*4, 120, init, make_opt())\n",
        "        self.act1   = ReLU()\n",
        "        self.fc2    = FC(120, 84, init, make_opt())\n",
        "        self.act2   = ReLU()\n",
        "        self.fc_out = FC(84, 10, init, make_opt())\n",
        "        self.softmax = SoftmaxOutput()\n",
        "\n",
        "    def predict_proba(self, X):\n",
        "        if not hasattr(self, 'conv1'):\n",
        "            self._build()\n",
        "        z = self.conv1.forward(X)\n",
        "        z = self.relu1.forward(z)\n",
        "        z = self.pool1.forward(z)\n",
        "\n",
        "        z = self.conv2.forward(z)\n",
        "        z = self.relu2.forward(z)\n",
        "        z = self.pool2.forward(z)\n",
        "\n",
        "        zf = self.flatten.forward(z)\n",
        "        h1 = self.fc1.forward(zf); h1 = self.act1.forward(h1)\n",
        "        h2 = self.fc2.forward(h1); h2 = self.act2.forward(h2)\n",
        "        logits = self.fc_out.forward(h2)\n",
        "        proba  = self.softmax.forward(logits)\n",
        "        return proba\n",
        "\n",
        "    def fit(self, X, y_onehot, X_val=None, y_val=None, y_int=None, y_val_int=None):\n",
        "        if not hasattr(self, 'conv1'):\n",
        "            self._build()\n",
        "\n",
        "        for epoch in range(self.epochs):\n",
        "            batcher = GetMiniBatch(X, y_onehot, batch_size=self.batch_size, seed=42+epoch)\n",
        "            for Xb, Yb in batcher:\n",
        "                # forward\n",
        "                z1 = self.conv1.forward(Xb)\n",
        "                z1 = self.relu1.forward(z1)\n",
        "                z1 = self.pool1.forward(z1)\n",
        "\n",
        "                z2 = self.conv2.forward(z1)\n",
        "                z2 = self.relu2.forward(z2)\n",
        "                z2 = self.pool2.forward(z2)\n",
        "\n",
        "                zf = self.flatten.forward(z2)\n",
        "                h1 = self.fc1.forward(zf); h1 = self.act1.forward(h1)\n",
        "                h2 = self.fc2.forward(h1); h2 = self.act2.forward(h2)\n",
        "                logits = self.fc_out.forward(h2)\n",
        "                proba  = self.softmax.forward(logits)\n",
        "\n",
        "                # backward (correct gate ordering)\n",
        "                d_logits   = self.softmax.backward(proba, Yb)\n",
        "                d_h2_in    = self.fc_out.backward(d_logits)\n",
        "                d_h2_out   = self.act2.backward(d_h2_in)\n",
        "                d_h1_in    = self.fc2.backward(d_h2_out)\n",
        "                d_h1_out   = self.act1.backward(d_h1_in)\n",
        "                d_zf       = self.fc1.backward(d_h1_out)\n",
        "                d_z2       = self.flatten.backward(d_zf)\n",
        "\n",
        "                d_after_pool2 = self.pool2.backward(d_z2)\n",
        "                d_after_relu2 = self.relu2.backward(d_after_pool2)\n",
        "                d_after_conv2 = self.conv2.backward(d_after_relu2)\n",
        "\n",
        "                d_after_pool1 = self.pool1.backward(d_after_conv2)\n",
        "                d_after_relu1 = self.relu1.backward(d_after_pool1)\n",
        "                _             = self.conv1.backward(d_after_relu1)\n",
        "\n",
        "            # epoch metrics\n",
        "            tr_proba = self.predict_proba(X)\n",
        "            tr_loss  = cross_entropy(y_onehot, tr_proba)\n",
        "            self.train_loss_.append(tr_loss)\n",
        "            if y_int is not None:\n",
        "                self.train_acc_.append(accuracy_from_proba(y_int, tr_proba))\n",
        "\n",
        "            if X_val is not None and y_val is not None:\n",
        "                vl_proba = self.predict_proba(X_val)\n",
        "                vl_loss  = cross_entropy(y_val, vl_proba)\n",
        "                self.val_loss_.append(vl_loss)\n",
        "                if y_val_int is not None:\n",
        "                    self.val_acc_.append(accuracy_from_proba(y_val_int, vl_proba))\n",
        "\n",
        "            if self.verbose:\n",
        "                msg = f\"Epoch {epoch+1}/{self.epochs} - loss: {self.train_loss_[-1]:.4f}\"\n",
        "                if self.val_loss_: msg += f\" - val_loss: {self.val_loss_[-1]:.4f}\"\n",
        "                if self.train_acc_: msg += f\" - acc: {self.train_acc_[-1]:.4f}\"\n",
        "                if self.val_acc_: msg += f\" - val_acc: {self.val_acc_[-1]:.4f}\"\n",
        "                print(msg)\n",
        "        return self\n",
        "\n",
        "    def predict(self, X):\n",
        "        return np.argmax(self.predict_proba(X), axis=1)\n",
        "\n",
        "\n",
        "# Train for 2 epochs - to save time\n",
        "lenet = LeNetScratch(epochs=2, batch_size=64, lr=0.05, optimizer='adagrad', initializer='he', verbose=True)\n",
        "_ = lenet.fit(X_train, y_train_oh, X_val=X_val, y_val=y_val_oh, y_int=y_train_i, y_val_int=y_val_i)\n",
        "\n",
        "# Curves\n",
        "plt.figure()\n",
        "plt.plot(lenet.train_loss_, label='train')\n",
        "if len(lenet.val_loss_) == len(lenet.train_loss_): plt.plot(lenet.val_loss_, label='val')\n",
        "plt.xlabel('Epoch'); plt.ylabel('Cross-entropy loss'); plt.title('LeNet-style — Loss'); plt.legend(); plt.show()\n",
        "\n",
        "if lenet.train_acc_ and lenet.val_acc_:\n",
        "    plt.figure()\n",
        "    plt.plot(lenet.train_acc_, label='train'); plt.plot(lenet.val_acc_, label='val')\n",
        "    plt.xlabel('Epoch'); plt.ylabel('Accuracy'); plt.title('LeNet-style — Accuracy'); plt.legend(); plt.show()\n",
        "\n",
        "# Eval\n",
        "val_acc_lenet = accuracy_from_proba(y_val_i, lenet.predict_proba(X_val))\n",
        "test_acc_lenet = accuracy_from_proba(y_test, lenet.predict_proba(X_test))\n",
        "print('LeNet-style Validation accuracy:', f'{val_acc_lenet:.4f}')\n",
        "print('LeNet-style Test accuracy:', f'{test_acc_lenet:.4f}')"
      ]
    },
    {
      "cell_type": "markdown",
      "id": "DiL9fMWg0eLC",
      "metadata": {
        "id": "DiL9fMWg0eLC"
      },
      "source": [
        "Colab Keeps Crashing for using all the available RAM, but this cell above should do the job!"
      ]
    },
    {
      "cell_type": "code",
      "execution_count": null,
      "id": "d2e66fec",
      "metadata": {
        "colab": {
          "background_save": true
        },
        "id": "d2e66fec",
        "outputId": "60eca4d3-23d6-4e22-fe69-bcb27b55c536"
      },
      "outputs": [
        {
          "data": {
            "application/vnd.google.colaboratory.intrinsic+json": {
              "type": "string"
            },
            "text/plain": [
              "' # An example of what not to do. \\nWe are reusing the same optimizer instance for every layer, the newer updates do not matter. Hence the poor performance?\\nclass LeNetScratch:\\n    def __init__(self, initializer=\\'he\\', optimizer=\\'adagrad\\', lr=0.2, epochs=3, batch_size=128, verbose=True):\\n        self.initializer_name=initializer; self.optimizer_name=optimizer\\n        self.lr=float(lr); self.epochs=int(epochs); self.batch_size=int(batch_size); self.verbose=verbose\\n        self.train_loss_=[]; self.val_loss_=[]; self.train_acc_=[]; self.val_acc_=[]\\n    def _make_initializer(self):\\n        if self.initializer_name==\\'simple\\': return SimpleInitializer(0.01)\\n        if self.initializer_name==\\'xavier\\': return XavierInitializer()\\n        if self.initializer_name==\\'he\\':     return HeInitializer()\\n        raise ValueError()\\n    def _make_optimizer(self):\\n        if self.optimizer_name==\\'sgd\\': return SGD(self.lr)\\n        if self.optimizer_name==\\'adagrad\\': return AdaGrad(self.lr)\\n        raise ValueError()\\n    def _build(self):\\n        init=self._make_initializer(); opt=self._make_optimizer()\\n        self.conv1 = Conv2d(1, 6, 5, 5, initializer=init, optimizer=opt, Sh=1, Sw=1, Ph=0, Pw=0)\\n        self.relu1 = ReLU()\\n        self.pool1 = MaxPool2D(2,2,2,2)\\n        self.conv2 = Conv2d(6,16,5,5, initializer=init, optimizer=opt, Sh=1, Sw=1, Ph=0, Pw=0)\\n        self.relu2 = ReLU()\\n        self.pool2 = MaxPool2D(2,2,2,2)\\n        # Output sizes: 28->(5x5 valid)->24 -> pool->12; then (5x5 valid)->8 -> pool->4\\n        self.flatten = Flatten()\\n        self.fc1 = FC(16*4*4, 120, init, opt)\\n        self.act1 = ReLU()\\n        self.fc2 = FC(120, 84, init, opt)\\n        self.act2 = ReLU()\\n        self.fc_out = FC(84, 10, init, opt)\\n        self.softmax = SoftmaxOutput()\\n    def predict_proba(self, X):\\n        if not hasattr(self,\\'conv1\\'): self._build()\\n        z = self.pool1.forward(self.relu1.forward(self.conv1.forward(X)))\\n        z = self.pool2.forward(self.relu2.forward(self.conv2.forward(z)))\\n        zf = self.flatten.forward(z)\\n        h1 = self.act1.forward(self.fc1.forward(zf))\\n        h2 = self.act2.forward(self.fc2.forward(h1))\\n        logits = self.fc_out.forward(h2)\\n        return self.softmax.forward(logits)\\n    def fit(self, X, y_onehot, X_val=None, y_val=None, y_int=None, y_val_int=None):\\n        if not hasattr(self,\\'conv1\\'): self._build()\\n        for epoch in range(self.epochs):\\n            batcher = GetMiniBatch(X, y_onehot, batch_size=self.batch_size, seed=42+epoch)\\n            for Xb, Yb in batcher:\\n                z1 = self.pool1.forward(self.relu1.forward(self.conv1.forward(Xb)))\\n                z2 = self.pool2.forward(self.relu2.forward(self.conv2.forward(z1)))\\n                zf = self.flatten.forward(z2)\\n                h1 = self.act1.forward(self.fc1.forward(zf))\\n                h2 = self.act2.forward(self.fc2.forward(h1))\\n                logits = self.fc_out.forward(h2)\\n                proba = self.softmax.forward(logits)\\n\\n                d_logits = self.softmax.backward(proba, Yb)\\n                d_h2 = self.fc_out.backward(d_logits)\\n                d_h1 = self.act2.backward(d_h2)\\n                d_zf = self.fc2.backward(d_h1)\\n                d_z2 = self.act1.backward(d_zf)\\n                d_pool_in = self.fc1.backward(d_z2)\\n                d_pool2 = self.flatten.backward(d_pool_in)\\n                d_relu2 = self.pool2.backward(d_pool2)\\n                d_conv2 = self.conv2.backward(d_relu2)\\n                d_relu1 = self.pool1.backward(d_conv2)\\n                _ = self.conv1.backward(d_relu1)\\n\\n            tr_proba = self.predict_proba(X)\\n            tr_loss = cross_entropy(y_onehot, tr_proba)\\n            self.train_loss_.append(tr_loss)\\n            if y_int is not None: self.train_acc_.append(accuracy_from_proba(y_int, tr_proba))\\n\\n            if X_val is not None and y_val is not None:\\n                vl_proba = self.predict_proba(X_val)\\n                vl_loss = cross_entropy(y_val, vl_proba)\\n                self.val_loss_.append(vl_loss)\\n                if y_val_int is not None: self.val_acc_.append(accuracy_from_proba(y_val_int, vl_proba))\\n\\n            if self.verbose:\\n                msg = f\"Epoch {epoch+1}/{self.epochs} - loss: {tr_loss:.4f}\"\\n                if self.val_loss_: msg += f\" - val_loss: {self.val_loss_[-1]:.4f}\"\\n                if self.train_acc_: msg += f\" - acc: {self.train_acc_[-1]:.4f}\"\\n                if self.val_acc_: msg += f\" - val_acc: {self.val_acc_[-1]:.4f}\"\\n                print(msg)\\n        return self\\n    def predict(self, X): return np.argmax(self.predict_proba(X), axis=1)\\n\\nlenet = LeNetScratch(epochs=3, batch_size=128, lr=0.15, verbose=True)\\n_ = lenet.fit(X_train, y_train_oh, X_val=X_val, y_val=y_val_oh, y_int=y_train_i, y_val_int=y_val_i)\\n\\nplt.figure(); plt.plot(lenet.train_loss_, label=\\'train\\'); \\nif len(lenet.val_loss_)==len(lenet.train_loss_): plt.plot(lenet.val_loss_, label=\\'val\\')\\nplt.xlabel(\\'Epoch\\'); plt.ylabel(\\'Cross-entropy loss\\'); plt.title(\\'LeNet-style - Loss\\'); plt.legend(); plt.show()\\n\\nif lenet.train_acc_ and lenet.val_acc_:\\n    plt.figure(); plt.plot(lenet.train_acc_, label=\\'train\\'); plt.plot(lenet.val_acc_, label=\\'val\\')\\n    plt.xlabel(\\'Epoch\\'); plt.ylabel(\\'Accuracy\\'); plt.title(\\'LeNet-style - Accuracy\\'); plt.legend(); plt.show()\\n\\nval_acc_lenet = accuracy_from_proba(y_val_i, lenet.predict_proba(X_val))\\ntest_acc_lenet = accuracy_from_proba(y_test, lenet.predict_proba(X_test))\\nprint(\\'LeNet-style Validation accuracy:\\', f\\'{val_acc_lenet:.4f}\\')\\nprint(\\'LeNet-style Test accuracy:\\', f\\'{test_acc_lenet:.4f}\\')\\n'"
            ]
          },
          "execution_count": 16,
          "metadata": {},
          "output_type": "execute_result"
        }
      ],
      "source": [
        "\"\"\" # An example of what not to do.\n",
        "We are reusing the same optimizer instance for every layer, the newer updates do not matter. Hence the poor performance?\n",
        "class LeNetScratch:\n",
        "    def __init__(self, initializer='he', optimizer='adagrad', lr=0.2, epochs=3, batch_size=128, verbose=True):\n",
        "        self.initializer_name=initializer; self.optimizer_name=optimizer\n",
        "        self.lr=float(lr); self.epochs=int(epochs); self.batch_size=int(batch_size); self.verbose=verbose\n",
        "        self.train_loss_=[]; self.val_loss_=[]; self.train_acc_=[]; self.val_acc_=[]\n",
        "    def _make_initializer(self):\n",
        "        if self.initializer_name=='simple': return SimpleInitializer(0.01)\n",
        "        if self.initializer_name=='xavier': return XavierInitializer()\n",
        "        if self.initializer_name=='he':     return HeInitializer()\n",
        "        raise ValueError()\n",
        "    def _make_optimizer(self):\n",
        "        if self.optimizer_name=='sgd': return SGD(self.lr)\n",
        "        if self.optimizer_name=='adagrad': return AdaGrad(self.lr)\n",
        "        raise ValueError()\n",
        "    def _build(self):\n",
        "        init=self._make_initializer(); opt=self._make_optimizer()\n",
        "        self.conv1 = Conv2d(1, 6, 5, 5, initializer=init, optimizer=opt, Sh=1, Sw=1, Ph=0, Pw=0)\n",
        "        self.relu1 = ReLU()\n",
        "        self.pool1 = MaxPool2D(2,2,2,2)\n",
        "        self.conv2 = Conv2d(6,16,5,5, initializer=init, optimizer=opt, Sh=1, Sw=1, Ph=0, Pw=0)\n",
        "        self.relu2 = ReLU()\n",
        "        self.pool2 = MaxPool2D(2,2,2,2)\n",
        "        # Output sizes: 28->(5x5 valid)->24 -> pool->12; then (5x5 valid)->8 -> pool->4\n",
        "        self.flatten = Flatten()\n",
        "        self.fc1 = FC(16*4*4, 120, init, opt)\n",
        "        self.act1 = ReLU()\n",
        "        self.fc2 = FC(120, 84, init, opt)\n",
        "        self.act2 = ReLU()\n",
        "        self.fc_out = FC(84, 10, init, opt)\n",
        "        self.softmax = SoftmaxOutput()\n",
        "    def predict_proba(self, X):\n",
        "        if not hasattr(self,'conv1'): self._build()\n",
        "        z = self.pool1.forward(self.relu1.forward(self.conv1.forward(X)))\n",
        "        z = self.pool2.forward(self.relu2.forward(self.conv2.forward(z)))\n",
        "        zf = self.flatten.forward(z)\n",
        "        h1 = self.act1.forward(self.fc1.forward(zf))\n",
        "        h2 = self.act2.forward(self.fc2.forward(h1))\n",
        "        logits = self.fc_out.forward(h2)\n",
        "        return self.softmax.forward(logits)\n",
        "    def fit(self, X, y_onehot, X_val=None, y_val=None, y_int=None, y_val_int=None):\n",
        "        if not hasattr(self,'conv1'): self._build()\n",
        "        for epoch in range(self.epochs):\n",
        "            batcher = GetMiniBatch(X, y_onehot, batch_size=self.batch_size, seed=42+epoch)\n",
        "            for Xb, Yb in batcher:\n",
        "                z1 = self.pool1.forward(self.relu1.forward(self.conv1.forward(Xb)))\n",
        "                z2 = self.pool2.forward(self.relu2.forward(self.conv2.forward(z1)))\n",
        "                zf = self.flatten.forward(z2)\n",
        "                h1 = self.act1.forward(self.fc1.forward(zf))\n",
        "                h2 = self.act2.forward(self.fc2.forward(h1))\n",
        "                logits = self.fc_out.forward(h2)\n",
        "                proba = self.softmax.forward(logits)\n",
        "\n",
        "                d_logits = self.softmax.backward(proba, Yb)\n",
        "                d_h2 = self.fc_out.backward(d_logits)\n",
        "                d_h1 = self.act2.backward(d_h2)\n",
        "                d_zf = self.fc2.backward(d_h1)\n",
        "                d_z2 = self.act1.backward(d_zf)\n",
        "                d_pool_in = self.fc1.backward(d_z2)\n",
        "                d_pool2 = self.flatten.backward(d_pool_in)\n",
        "                d_relu2 = self.pool2.backward(d_pool2)\n",
        "                d_conv2 = self.conv2.backward(d_relu2)\n",
        "                d_relu1 = self.pool1.backward(d_conv2)\n",
        "                _ = self.conv1.backward(d_relu1)\n",
        "\n",
        "            tr_proba = self.predict_proba(X)\n",
        "            tr_loss = cross_entropy(y_onehot, tr_proba)\n",
        "            self.train_loss_.append(tr_loss)\n",
        "            if y_int is not None: self.train_acc_.append(accuracy_from_proba(y_int, tr_proba))\n",
        "\n",
        "            if X_val is not None and y_val is not None:\n",
        "                vl_proba = self.predict_proba(X_val)\n",
        "                vl_loss = cross_entropy(y_val, vl_proba)\n",
        "                self.val_loss_.append(vl_loss)\n",
        "                if y_val_int is not None: self.val_acc_.append(accuracy_from_proba(y_val_int, vl_proba))\n",
        "\n",
        "            if self.verbose:\n",
        "                msg = f\"Epoch {epoch+1}/{self.epochs} - loss: {tr_loss:.4f}\"\n",
        "                if self.val_loss_: msg += f\" - val_loss: {self.val_loss_[-1]:.4f}\"\n",
        "                if self.train_acc_: msg += f\" - acc: {self.train_acc_[-1]:.4f}\"\n",
        "                if self.val_acc_: msg += f\" - val_acc: {self.val_acc_[-1]:.4f}\"\n",
        "                print(msg)\n",
        "        return self\n",
        "    def predict(self, X): return np.argmax(self.predict_proba(X), axis=1)\n",
        "\n",
        "lenet = LeNetScratch(epochs=3, batch_size=128, lr=0.15, verbose=True)\n",
        "_ = lenet.fit(X_train, y_train_oh, X_val=X_val, y_val=y_val_oh, y_int=y_train_i, y_val_int=y_val_i)\n",
        "\n",
        "plt.figure(); plt.plot(lenet.train_loss_, label='train');\n",
        "if len(lenet.val_loss_)==len(lenet.train_loss_): plt.plot(lenet.val_loss_, label='val')\n",
        "plt.xlabel('Epoch'); plt.ylabel('Cross-entropy loss'); plt.title('LeNet-style - Loss'); plt.legend(); plt.show()\n",
        "\n",
        "if lenet.train_acc_ and lenet.val_acc_:\n",
        "    plt.figure(); plt.plot(lenet.train_acc_, label='train'); plt.plot(lenet.val_acc_, label='val')\n",
        "    plt.xlabel('Epoch'); plt.ylabel('Accuracy'); plt.title('LeNet-style - Accuracy'); plt.legend(); plt.show()\n",
        "\n",
        "val_acc_lenet = accuracy_from_proba(y_val_i, lenet.predict_proba(X_val))\n",
        "test_acc_lenet = accuracy_from_proba(y_test, lenet.predict_proba(X_test))\n",
        "print('LeNet-style Validation accuracy:', f'{val_acc_lenet:.4f}')\n",
        "print('LeNet-style Test accuracy:', f'{test_acc_lenet:.4f}')\n",
        "\"\"\""
      ]
    },
    {
      "cell_type": "markdown",
      "id": "3BJjiDilwNsJ",
      "metadata": {
        "id": "3BJjiDilwNsJ"
      },
      "source": [
        "Garbage in garbage out (GIGO)\n",
        "Do not follow this cell"
      ]
    },
    {
      "cell_type": "markdown",
      "id": "e3675d75",
      "metadata": {
        "id": "e3675d75"
      },
      "source": [
        "## 16) Problem 10, Output sizes & parameter counts for three conv layers"
      ]
    },
    {
      "cell_type": "code",
      "execution_count": null,
      "id": "1f356fe8",
      "metadata": {
        "colab": {
          "background_save": true
        },
        "id": "1f356fe8",
        "outputId": "9585df89-b60b-4287-f207-051fef2f2dbb"
      },
      "outputs": [
        {
          "name": "stdout",
          "output_type": "stream",
          "text": [
            "1) Out: (6, 142, 142)  Params: 168\n",
            "2) Out: (48, 58, 58)  Params: 10416\n",
            "3) Out: (20, 9, 9)  Params: 1820\n"
          ]
        }
      ],
      "source": [
        "def conv2d_params(C_in, C_out, Fh, Fw, bias=True):\n",
        "    return C_out * (C_in*Fh*Fw) + (C_out if bias else 0)\n",
        "\n",
        "def describe_layer(H_in, W_in, C_in, Fh, Fw, C_out, Sh=1, Sw=1, Ph=0, Pw=0):\n",
        "    H_out, W_out = conv2d_out_hw(H_in, W_in, Fh, Fw, Ph, Pw, Sh, Sw)\n",
        "    params = conv2d_params(C_in, C_out, Fh, Fw, bias=True)\n",
        "    return H_out, W_out, params\n",
        "\n",
        "# 1) 144x144x3 -> 3x3, 6 filters, stride1, no pad\n",
        "h1,w1,p1 = describe_layer(144,144,3,3,3,6,1,1,0,0)\n",
        "print('1) Out:', (6,h1,w1), ' Params:', p1)\n",
        "\n",
        "# 2) 60x60x24 -> 3x3, 48 filters, stride1, no pad\n",
        "h2,w2,p2 = describe_layer(60,60,24,3,3,48,1,1,0,0)\n",
        "print('2) Out:', (48,h2,w2), ' Params:', p2)\n",
        "\n",
        "# 3) 20x20x10 -> 3x3, 20 filters, stride2, no pad\n",
        "h3,w3,p3 = describe_layer(20,20,10,3,3,20,2,2,0,0)\n",
        "print('3) Out:', (20,h3,w3), ' Params:', p3)"
      ]
    }
  ],
  "metadata": {
    "colab": {
      "provenance": []
    },
    "kernelspec": {
      "display_name": "Python 3",
      "name": "python3"
    },
    "language_info": {
      "name": "python"
    }
  },
  "nbformat": 4,
  "nbformat_minor": 5
}
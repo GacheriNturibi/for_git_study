{
  "cells": [
    {
      "cell_type": "markdown",
      "id": "2d037534",
      "metadata": {
        "id": "2d037534"
      },
      "source": [
        "#  Mount Fuji Paper Folding Problem\n",
        "\n",
        "## 1. Goal\n",
        "This assignment requires learners to:\n",
        "- Test basic programming skills\n",
        "- Develop the ability to incorporate mathematical formulas into programs"
      ]
    },
    {
      "cell_type": "markdown",
      "id": "433307f7",
      "metadata": {
        "id": "433307f7"
      },
      "source": [
        "## 2. Problem Statement\n",
        "This assignment extends the paper-folding problem. The task is to determine how many folds are required to exceed a given height and to compute the length of paper required to achieve those folds.\n",
        "\n",
        "### Thickness Formula\n",
        "For a sheet with initial thickness \\( t_0 \\), the thickness after \\( n \\) folds is:\n",
        "\\(\n",
        "t_n = t_0 \\times 2^n\n",
        "\\)\n",
        "\n",
        "Use \\( t_0 = 0.00008 \\) meters (typical copy paper).\n"
      ]
    },
    {
      "cell_type": "markdown",
      "id": "24efe3ab",
      "metadata": {
        "id": "24efe3ab"
      },
      "source": [
        "## 3. Question 1 - Minimal Folds to Surpass Mount Fuji\n",
        "This assignment requires computing the **minimum** number of folds needed to exceed Mount Fuji (3,776 m) using iterative logic."
      ]
    },
    {
      "cell_type": "code",
      "execution_count": null,
      "id": "bb2236d8",
      "metadata": {
        "colab": {
          "base_uri": "https://localhost:8080/"
        },
        "id": "bb2236d8",
        "outputId": "8bda09df-5b6b-402c-c95e-483874391d91"
      },
      "outputs": [
        {
          "output_type": "stream",
          "name": "stdout",
          "text": [
            "Minimum folds to exceed Mount Fuji: 26\n",
            "Thickness after 26 folds: 5368.71 m\n",
            "Thickness after 26 folds: 5.37 km\n"
          ]
        }
      ],
      "source": [
        "# Iterative approach to find minimal folds to exceed Mount Fuji\n",
        "T0 = 0.00008         # initial thickness in meters\n",
        "FUJI_M = 3776        # Mount Fuji height in meters\n",
        "\n",
        "n = 0\n",
        "thickness = T0\n",
        "while thickness <= FUJI_M:\n",
        "    thickness *= 2\n",
        "    n += 1\n",
        "\n",
        "print(\"Minimum folds to exceed Mount Fuji:\", n)\n",
        "print(\"Thickness after {} folds: {:.2f} m\".format(n, thickness))\n",
        "print(\"Thickness after {} folds: {:.2f} km\".format(n, thickness / 1000))"
      ]
    },
    {
      "cell_type": "markdown",
      "id": "343dd294",
      "metadata": {
        "id": "343dd294"
      },
      "source": [
        "## 4. Question 2 - Function for Arbitrary Height\n",
        "This assignment requires implementing a function that returns the **minimum** number of folds required to **exceed** a given target height, with configurable \\( t_0 \\).\n"
      ]
    },
    {
      "cell_type": "code",
      "execution_count": null,
      "id": "64ed6847",
      "metadata": {
        "colab": {
          "base_uri": "https://localhost:8080/"
        },
        "id": "64ed6847",
        "outputId": "da515877-25ae-4d3b-9dc4-e3086234b852"
      },
      "outputs": [
        {
          "output_type": "stream",
          "name": "stdout",
          "text": [
            "Minimal folds to exceed Mount Fuji (formula): 26\n",
            "Minimal folds to exceed Proxima Centauri distance: 69\n"
          ]
        }
      ],
      "source": [
        "import math\n",
        "\n",
        "def folds_to_reach_height(target_m, t0=0.00008):\n",
        "    \"\"\"Return the minimal n such that t0 * 2**n >= target_m.\n",
        "    If target_m <= t0, returns 0.\n",
        "    \"\"\"\n",
        "    if target_m <= t0:\n",
        "        return 0\n",
        "    return math.ceil(math.log2(target_m / t0))\n",
        "\n",
        "# Test: Mount Fuji (should match the while-loop result in the executable cell above)\n",
        "n_fuji_formula = folds_to_reach_height(3776, t0=T0)\n",
        "print(\"Minimal folds to exceed Mount Fuji (formula):\", n_fuji_formula)\n",
        "\n",
        "# Proxima Centauri distance (approx.): 4.0175e16 meters\n",
        "PROXIMA_M = 4.0175e16\n",
        "n_proxima = folds_to_reach_height(PROXIMA_M, t0=T0)\n",
        "print(\"Minimal folds to exceed Proxima Centauri distance:\", n_proxima)"
      ]
    },
    {
      "cell_type": "markdown",
      "source": [
        "They both match!"
      ],
      "metadata": {
        "id": "vbbAS2rchzUl"
      },
      "id": "vbbAS2rchzUl"
    },
    {
      "cell_type": "markdown",
      "id": "1169b155",
      "metadata": {
        "id": "1169b155"
      },
      "source": [
        "## 5. Question 3 - Length of Paper Required\n",
        "This assignment requires implementing a function to compute the **paper length** needed to achieve \\( n \\) folds.\n",
        "\n",
        "A helper function combines this with the minimal folds for a target height to obtain the required length for a given target."
      ]
    },
    {
      "cell_type": "code",
      "execution_count": null,
      "id": "810bc6fc",
      "metadata": {
        "id": "810bc6fc",
        "colab": {
          "base_uri": "https://localhost:8080/"
        },
        "outputId": "498388ed-4c21-46d0-95bf-a8d4261032a8"
      },
      "outputs": [
        {
          "output_type": "stream",
          "name": "stdout",
          "text": [
            "Fuji: folds=26, length L=1.886e+11 m  (1.886e+08 km)\n",
            "Moon: folds=43, length L=3.241e+21 m  (3.241e+18 km)\n",
            "Proxima: folds=69, length L=1.460e+37 m  (1.460e+34 km)\n"
          ]
        }
      ],
      "source": [
        "def length_for_folds(n, t0=0.00008):\n",
        "    \"\"\"Return required paper length L (in meters) to achieve n folds.\n",
        "    Uses L = (pi * t0 / 6) * (2**n + 4) * (2**n - 1).\n",
        "    \"\"\"\n",
        "    return math.pi * t0 / 6.0 * (2**n + 4) * (2**n - 1)\n",
        "\n",
        "def length_to_reach_height(target_m, t0=0.00008):\n",
        "    \"\"\"Return (n_min, L_m) where n_min is minimal folds to exceed target,\n",
        "    and L_m is the corresponding required paper length in meters.\n",
        "    \"\"\"\n",
        "    n_min = folds_to_reach_height(target_m, t0=t0)\n",
        "    L_m = length_for_folds(n_min, t0=t0)\n",
        "    return n_min, L_m\n",
        "\n",
        "# Constants\n",
        "MOON_M = 384_400_000  # Distance to moon in meters\n",
        "FUJI_M = 3776\n",
        "PROXIMA_M = 4.0175e16\n",
        "\n",
        "# Compute lengths\n",
        "n_fuji, L_fuji = length_to_reach_height(FUJI_M, t0=T0)\n",
        "n_moon, L_moon = length_to_reach_height(MOON_M, t0=T0)\n",
        "n_prox, L_prox = length_to_reach_height(PROXIMA_M, t0=T0)\n",
        "\n",
        "print(f\"Fuji: folds={n_fuji}, length L={L_fuji:.3e} m  ({L_fuji/1000:.3e} km)\")\n",
        "print(f\"Moon: folds={n_moon}, length L={L_moon:.3e} m  ({L_moon/1000:.3e} km)\")\n",
        "print(f\"Proxima: folds={n_prox}, length L={L_prox:.3e} m  ({L_prox/1000:.3e} km)\")"
      ]
    },
    {
      "cell_type": "markdown",
      "id": "5f4067a4",
      "metadata": {
        "id": "5f4067a4"
      },
      "source": [
        "\n",
        "## 6. Visualization - Thickness Growth up to the Mount Fuji Threshold\n",
        "Visualization of the exponential growth. The plot below shows thickness vs. folds up to the minimal fold count that exceeds Mount Fuji."
      ]
    },
    {
      "cell_type": "code",
      "execution_count": null,
      "id": "372ee2c7",
      "metadata": {
        "id": "372ee2c7",
        "colab": {
          "base_uri": "https://localhost:8080/",
          "height": 472
        },
        "outputId": "9f748680-a4d0-4ba7-8b32-a32f5753ec18"
      },
      "outputs": [
        {
          "output_type": "display_data",
          "data": {
            "text/plain": [
              "<Figure size 640x480 with 1 Axes>"
            ],
            "image/png": "[encoded data removed]"
          },
          "metadata": {}
        }
      ],
      "source": [
        "# Build thickness list up to n_fuji\n",
        "thickness_list = [T0]\n",
        "current = T0\n",
        "for _ in range(n_fuji):\n",
        "    current *= 2\n",
        "    thickness_list.append(current)\n",
        "\n",
        "import matplotlib.pyplot as plt\n",
        "\n",
        "plt.title(\"Thickness vs. Folds (up to Mount Fuji threshold)\")\n",
        "plt.xlabel(\"Number of folds\")\n",
        "plt.ylabel(\"Thickness [m]\")\n",
        "plt.plot(thickness_list)\n",
        "plt.show()"
      ]
    },
    {
      "cell_type": "markdown",
      "id": "9ecf037e",
      "metadata": {
        "id": "9ecf037e"
      },
      "source": [
        "## 7. Summary\n",
        "This assignment demonstrates the ability to:\n",
        "- Compute minimal folds for a target height using both iterative and formula-based approaches\n",
        "- Implement a function to generalize the calculation for any target height and initial thickness\n",
        "- Apply the paper-length formula to estimate feasibility\n",
        "- Visualize exponential thickness growth to understand scale"
      ]
    }
  ],
  "metadata": {
    "colab": {
      "provenance": [],
      "toc_visible": true
    },
    "language_info": {
      "name": "python"
    },
    "kernelspec": {
      "name": "python3",
      "display_name": "Python 3"
    }
  },
  "nbformat": 4,
  "nbformat_minor": 5
}
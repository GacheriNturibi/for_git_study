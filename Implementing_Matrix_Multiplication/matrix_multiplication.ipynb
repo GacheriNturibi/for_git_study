{
  "cells": [
    {
      "cell_type": "markdown",
      "id": "7d0c3862",
      "metadata": {
        "id": "7d0c3862"
      },
      "source": [
        "# Matrix Multiplication with NumPy and Scratch Implementation\n",
        "\n",
        "## 1. Goal\n",
        "This assignment requires learners to:\n",
        "- Understand basic matrix operations using NumPy\n",
        "- Implement matrix multiplication from scratch"
      ]
    },
    {
      "cell_type": "markdown",
      "id": "da19ae81",
      "metadata": {
        "id": "da19ae81"
      },
      "source": [
        "## 2. Understanding Matrix Multiplication\n"
      ]
    },
    {
      "cell_type": "code",
      "execution_count": null,
      "id": "b3facaaf",
      "metadata": {
        "colab": {
          "base_uri": "https://localhost:8080/"
        },
        "id": "b3facaaf",
        "outputId": "992550e8-845f-4921-e493-7453acf07b32"
      },
      "outputs": [
        {
          "output_type": "stream",
          "name": "stdout",
          "text": [
            "Matrix A:\n",
            " [[-1  2  3]\n",
            " [ 4 -5  6]\n",
            " [ 7  8 -9]]\n",
            "Matrix B:\n",
            " [[ 0  2  1]\n",
            " [ 0  2 -8]\n",
            " [ 2  9 -1]]\n"
          ]
        }
      ],
      "source": [
        "import numpy as np\n",
        "\n",
        "a_ndarray = np.array([[-1, 2, 3],\n",
        "                      [4, -5, 6],\n",
        "                      [7, 8, -9]]) # defined in the material\n",
        "\n",
        "b_ndarray = np.array([[0, 2, 1],\n",
        "                      [0, 2, -8],\n",
        "                      [2, 9, -1]]) # ditto\n",
        "\n",
        "print(\"Matrix A:\\n\", a_ndarray)\n",
        "print(\"Matrix B:\\n\", b_ndarray)"
      ]
    },
    {
      "cell_type": "markdown",
      "id": "d01b2eae",
      "metadata": {
        "id": "d01b2eae"
      },
      "source": [
        "## 3. Manual Calculation Concept\n",
        "Done manually\n"
      ]
    },
    {
      "cell_type": "markdown",
      "id": "d88650fa",
      "metadata": {
        "id": "d88650fa"
      },
      "source": [
        "## 4. NumPy Matrix Multiplication\n",
        "NumPy provides several ways to multiply matrices: `np.matmul`, `np.dot`, and the `@` operator."
      ]
    },
    {
      "cell_type": "code",
      "execution_count": null,
      "id": "971052e0",
      "metadata": {
        "colab": {
          "base_uri": "https://localhost:8080/"
        },
        "id": "971052e0",
        "outputId": "428dfbeb-0ae9-4245-e1f4-a84ec7b0f0df"
      },
      "outputs": [
        {
          "output_type": "stream",
          "name": "stdout",
          "text": [
            "Result via matmul:\n",
            " [[  6  29 -20]\n",
            " [ 12  52  38]\n",
            " [-18 -51 -48]]\n",
            "Result via dot method:\n",
            " [[  6  29 -20]\n",
            " [ 12  52  38]\n",
            " [-18 -51 -48]]\n",
            "Result via @ operator:\n",
            " [[  6  29 -20]\n",
            " [ 12  52  38]\n",
            " [-18 -51 -48]]\n",
            "Check equality: True True\n"
          ]
        }
      ],
      "source": [
        "# Using different methods; all give the same result\n",
        "result_matmul = np.matmul(a_ndarray, b_ndarray)\n",
        "result_dot = np.dot(a_ndarray, b_ndarray)\n",
        "result_at = a_ndarray @ b_ndarray\n",
        "\n",
        "print(\"Result via matmul:\\n\", result_matmul)\n",
        "print(\"Result via dot method:\\n\", result_dot)\n",
        "print(\"Result via @ operator:\\n\", result_at)\n",
        "print(\"Check equality:\", np.array_equal(result_matmul, result_dot), np.array_equal(result_matmul, result_at))"
      ]
    },
    {
      "cell_type": "markdown",
      "id": "3b420b30",
      "metadata": {
        "id": "3b420b30"
      },
      "source": [
        "## 5. Scratch Implementation\n",
        "This assignment requires implementing matrix multiplication by hand.  \n"
      ]
    },
    {
      "cell_type": "code",
      "execution_count": null,
      "id": "3d520a1d",
      "metadata": {
        "colab": {
          "base_uri": "https://localhost:8080/"
        },
        "id": "3d520a1d",
        "outputId": "4c2e6c0a-a6c4-48f4-ab92-e75acc64b790"
      },
      "outputs": [
        {
          "output_type": "stream",
          "name": "stdout",
          "text": [
            "Scratch implementation result:\n",
            " [[  6.  29. -20.]\n",
            " [ 12.  52.  38.]\n",
            " [-18. -51. -48.]]\n",
            "Matches NumPy? True\n"
          ]
        }
      ],
      "source": [
        "# Write the function as shown in material\n",
        "def matmul_scratch(a, b):\n",
        "    result = np.zeros((a.shape[0], b.shape[1]))\n",
        "    for i in range(a.shape[0]):\n",
        "        for j in range(b.shape[1]):\n",
        "            for k in range(a.shape[1]):\n",
        "                result[i, j] += a[i, k] * b[k, j]\n",
        "    return result\n",
        "\n",
        "scratch_result = matmul_scratch(a_ndarray, b_ndarray)\n",
        "print(\"Scratch implementation result:\\n\", scratch_result)\n",
        "print(\"Matches NumPy?\", np.allclose(scratch_result, result_matmul))"
      ]
    },
    {
      "cell_type": "markdown",
      "id": "4c3fc86c",
      "metadata": {
        "id": "4c3fc86c"
      },
      "source": [
        "## 6. When Multiplication Is Undefined\n",
        "The product is undefined unless the number of columns of the first matrix equals the number of rows of the second.\n",
        "\n",
        "Example matrices D (2×3) and E (2×3) cannot be multiplied directly."
      ]
    },
    {
      "cell_type": "code",
      "execution_count": null,
      "id": "1a68502f",
      "metadata": {
        "colab": {
          "base_uri": "https://localhost:8080/"
        },
        "id": "1a68502f",
        "outputId": "1951afab-3439-4999-ee08-6978bb175567"
      },
      "outputs": [
        {
          "output_type": "stream",
          "name": "stdout",
          "text": [
            "Shape D: (2, 3)\n",
            "Shape E: (2, 3)\n",
            "Matrix product undefined: columns of A != rows of B\n"
          ]
        }
      ],
      "source": [
        "d_ndarray = np.array([[-1, 2, 3],\n",
        "                      [4, -5, 6]])\n",
        "\n",
        "e_ndarray = np.array([[-9, 8, 7],\n",
        "                      [6, -5, 4]])\n",
        "\n",
        "print(\"Shape D:\", d_ndarray.shape)\n",
        "print(\"Shape E:\", e_ndarray.shape)\n",
        "\n",
        "def is_multiplicable(a, b):\n",
        "    if a.shape[1] != b.shape[0]:\n",
        "        print(\"Matrix product undefined: columns of A != rows of B\")\n",
        "        return False\n",
        "    return True\n",
        "\n",
        "if is_multiplicable(d_ndarray, e_ndarray):\n",
        "    print(np.matmul(d_ndarray, e_ndarray))"
      ]
    },
    {
      "cell_type": "markdown",
      "id": "ecb21de8",
      "metadata": {
        "id": "ecb21de8"
      },
      "source": [
        "## 7. Using Transposition\n",
        "Sometimes multiplication becomes possible if one matrix is transposed.  \n",
        "This assignment requires checking multiplication with `E.T`."
      ]
    },
    {
      "cell_type": "code",
      "execution_count": null,
      "id": "b5dd0003",
      "metadata": {
        "colab": {
          "base_uri": "https://localhost:8080/"
        },
        "id": "b5dd0003",
        "outputId": "423d6ead-db9b-45fa-cf4d-863148bdce07"
      },
      "outputs": [
        {
          "output_type": "stream",
          "name": "stdout",
          "text": [
            "Result of D × E.T:\n",
            " [[ 46  -4]\n",
            " [-34  73]]\n"
          ]
        }
      ],
      "source": [
        "e_transposed = e_ndarray.T\n",
        "if is_multiplicable(d_ndarray, e_transposed):\n",
        "    result_transposed = np.matmul(d_ndarray, e_transposed)\n",
        "    print(\"Result of D × E.T:\\n\", result_transposed)"
      ]
    },
    {
      "cell_type": "markdown",
      "id": "4cce0c96",
      "metadata": {
        "id": "4cce0c96"
      },
      "source": [
        "## 8. Conclusion\n",
        "The findings here demonstrate that:\n",
        "- Matrix multiplication combines rows of the first with columns of the second\n",
        "- NumPy provides efficient built-in methods\n",
        "- Scratch implementations deepen understanding\n",
        "- Multiplication rules depend on shapes; transposition can enable compatibility"
      ]
    }
  ],
  "metadata": {
    "colab": {
      "provenance": [],
      "toc_visible": true
    },
    "language_info": {
      "name": "python"
    },
    "kernelspec": {
      "name": "python3",
      "display_name": "Python 3"
    }
  },
  "nbformat": 4,
  "nbformat_minor": 5
}
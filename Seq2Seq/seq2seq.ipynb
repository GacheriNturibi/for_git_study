{
  "cells": [
    {
      "cell_type": "markdown",
      "id": "19b41b6c",
      "metadata": {
        "id": "19b41b6c"
      },
      "source": [
        "\n",
        "# Seq2Seq (Keras), Captioning (PyTorch), and Character Tokenization\n"
      ]
    },
    {
      "cell_type": "code",
      "execution_count": 1,
      "id": "d929541f",
      "metadata": {
        "colab": {
          "base_uri": "https://localhost:8080/"
        },
        "id": "d929541f",
        "outputId": "92474a2d-9d74-4c74-aa91-9b1dc60fadc9"
      },
      "outputs": [
        {
          "output_type": "stream",
          "name": "stdout",
          "text": [
            "TF: 2.19.0\n"
          ]
        }
      ],
      "source": [
        "# Environment & imports\n",
        "import numpy as np\n",
        "import random, os, re\n",
        "import matplotlib.pyplot as plt\n",
        "from sklearn.feature_extraction.text import CountVectorizer\n",
        "\n",
        "import tensorflow as tf\n",
        "from tensorflow.keras import layers, models, optimizers\n",
        "\n",
        "np.random.seed(42)\n",
        "random.seed(42)\n",
        "tf.random.set_seed(42)\n",
        "print(\"TF:\", tf.__version__)"
      ]
    },
    {
      "cell_type": "markdown",
      "id": "d0be623a",
      "metadata": {
        "id": "d0be623a"
      },
      "source": [
        "## Character tokenization (`analyzer='char'` vs `'char_wb'`)"
      ]
    },
    {
      "cell_type": "code",
      "execution_count": 2,
      "id": "73f4a0be",
      "metadata": {
        "colab": {
          "base_uri": "https://localhost:8080/"
        },
        "id": "73f4a0be",
        "outputId": "7eb994a0-6a4c-4494-e712-352a880f7a0f"
      },
      "outputs": [
        {
          "output_type": "stream",
          "name": "stdout",
          "text": [
            "char features: 39\n",
            "char_wb features: 30\n",
            "Example tri-gram in 'char' but NOT in 'char_wb' may span spaces, e.g., 's v'.\n"
          ]
        }
      ],
      "source": [
        "mini_dataset = [\n",
        "    \"This movie is very good.\",\n",
        "    \"This film is a good\",\n",
        "    \"Very bad. Very, very bad.\"\n",
        "]\n",
        "\n",
        "# Pure character n-grams (includes cross-word edges)\n",
        "vec_char = CountVectorizer(analyzer='char', ngram_range=(3,3))\n",
        "X_char = vec_char.fit_transform(mini_dataset).toarray()\n",
        "\n",
        "# Character n-grams within word boundaries only (pads edges with spaces)\n",
        "vec_charwb = CountVectorizer(analyzer='char_wb', ngram_range=(3,3))\n",
        "X_charwb = vec_charwb.fit_transform(mini_dataset).toarray()\n",
        "\n",
        "print(\"char features:\", len(vec_char.get_feature_names_out()))\n",
        "print(\"char_wb features:\", len(vec_charwb.get_feature_names_out()))\n",
        "print(\"Example tri-gram in 'char' but NOT in 'char_wb' may span spaces, e.g., 's v'.\")"
      ]
    },
    {
      "cell_type": "markdown",
      "id": "8f341e3b",
      "metadata": {
        "id": "8f341e3b"
      },
      "source": [
        "## Minimal tf.keras Seq2Seq (character-level) — English → French (toy)"
      ]
    },
    {
      "cell_type": "code",
      "execution_count": 3,
      "id": "fb1740c1",
      "metadata": {
        "colab": {
          "base_uri": "https://localhost:8080/"
        },
        "id": "fb1740c1",
        "outputId": "f2c8efd0-0efa-46f1-9f09-dec6e16bd6b7"
      },
      "outputs": [
        {
          "output_type": "stream",
          "name": "stdout",
          "text": [
            "num_samples=10  num_encoder_tokens=19  num_decoder_tokens=18  max_src_len=12  max_tgt_len=15\n",
            "Final train loss: 0.014619067311286926\n",
            "'hello' → oju  u i\n",
            "'good night' → omen u aau\n",
            "'thank you' → eri i in\n",
            "'see you' → inittt\n"
          ]
        }
      ],
      "source": [
        "# Toy parallel corpus (very small; just to make the pipeline run fast) ---\n",
        "pairs = [\n",
        "    (\"hi\", \"salut\"),\n",
        "    (\"hello\", \"bonjour\"),\n",
        "    (\"how are you\", \"comment ca va\"),\n",
        "    (\"i am fine\", \"je vais bien\"),\n",
        "    (\"thank you\", \"merci\"),\n",
        "    (\"yes\", \"oui\"),\n",
        "    (\"no\", \"non\"),\n",
        "    (\"good morning\", \"bonjour\"),\n",
        "    (\"good night\", \"bonne nuit\"),\n",
        "    (\"see you\", \"a bientot\"),\n",
        "]\n",
        "\n",
        "# Preprocess: lowercase, keep ascii letters & spaces only\n",
        "def norm(s):\n",
        "    s = s.lower()\n",
        "    s = re.sub(r\"[^a-z ]+\", \"\", s)\n",
        "    s = re.sub(r\"\\s+\", \" \", s).strip()\n",
        "    return s\n",
        "\n",
        "src_texts = [norm(s) for s,t in pairs]\n",
        "tgt_texts = [norm(t) for s,t in pairs]\n",
        "\n",
        "# Add start/end tokens to target for decoding\n",
        "tgt_texts_in  = [\"\\t \" + t for t in tgt_texts]   # \\t = start\n",
        "tgt_texts_out = [t + \" \\n\" for t in tgt_texts]   # \\n = end\n",
        "\n",
        "src_vocab = sorted(set(\" \".join(src_texts)))\n",
        "tgt_vocab = sorted(set(\"\\t \\n\" + \" \".join(tgt_texts)))  # include start/end tokens\n",
        "\n",
        "src_stoi = {c:i for i,c in enumerate(src_vocab)}\n",
        "tgt_stoi = {c:i for i,c in enumerate(tgt_vocab)}\n",
        "src_itos = {i:c for c,i in src_stoi.items()}\n",
        "tgt_itos = {i:c for c,i in tgt_stoi.items()}\n",
        "\n",
        "max_src_len = max(len(s) for s in src_texts)\n",
        "max_tgt_len = max(len(t) for t in tgt_texts_in)\n",
        "\n",
        "num_samples = len(src_texts)\n",
        "num_encoder_tokens = len(src_vocab)\n",
        "num_decoder_tokens = len(tgt_vocab)\n",
        "\n",
        "print(f\"{num_samples=}  {num_encoder_tokens=}  {num_decoder_tokens=}  {max_src_len=}  {max_tgt_len=}\")\n",
        "\n",
        "# Vectorize as integer sequences (not one-hot) to keep it light; use Embedding + sparse CE\n",
        "def vectorize(texts, stoi, maxlen):\n",
        "    seqs = np.zeros((len(texts), maxlen), dtype=\"int32\")\n",
        "    for i, s in enumerate(texts):\n",
        "        ids = [stoi[c] for c in s]\n",
        "        seqs[i, :len(ids)] = ids\n",
        "    return seqs\n",
        "\n",
        "encoder_input = vectorize(src_texts, src_stoi, max_src_len)\n",
        "decoder_input = vectorize(tgt_texts_in, tgt_stoi, max_tgt_len)\n",
        "decoder_output = vectorize(tgt_texts_out, tgt_stoi, max_tgt_len)  # used with sparse targets\n",
        "\n",
        "# Build encoder-decoder\n",
        "latent = 128\n",
        "enc_inputs = layers.Input(shape=(None,), name=\"enc_in\")\n",
        "enc_emb = layers.Embedding(num_encoder_tokens, 64, mask_zero=True)(enc_inputs)\n",
        "enc_out, state_h, state_c = layers.LSTM(latent, return_state=True)(enc_emb)\n",
        "enc_states = [state_h, state_c]\n",
        "\n",
        "dec_inputs = layers.Input(shape=(None,), name=\"dec_in\")\n",
        "dec_emb = layers.Embedding(num_decoder_tokens, 64, mask_zero=True)(dec_inputs)\n",
        "dec_lstm = layers.LSTM(latent, return_sequences=True, return_state=True)\n",
        "dec_outs, _, _ = dec_lstm(dec_emb, initial_state=enc_states)\n",
        "dec_logits = layers.Dense(num_decoder_tokens)(dec_outs)  # logits\n",
        "\n",
        "model = models.Model([enc_inputs, dec_inputs], dec_logits)\n",
        "model.compile(optimizer=optimizers.Adam(1e-2),\n",
        "              loss=tf.keras.losses.SparseCategoricalCrossentropy(from_logits=True))\n",
        "\n",
        "history = model.fit([encoder_input, decoder_input],\n",
        "                    decoder_output[..., None],  # sparse targets\n",
        "                    batch_size=8, epochs=40, verbose=0)\n",
        "\n",
        "print(\"Final train loss:\", history.history[\"loss\"][-1])\n",
        "\n",
        "# Inference models (sampling loop)\n",
        "encoder_model = models.Model(enc_inputs, enc_states)\n",
        "\n",
        "dec_state_input_h = layers.Input(shape=(latent,))\n",
        "dec_state_input_c = layers.Input(shape=(latent,))\n",
        "dec_states_inputs = [dec_state_input_h, dec_state_input_c]\n",
        "x = dec_emb\n",
        "# Need a new embedding layer that reuses weights from trained emb\n",
        "dec_emb_layer = model.get_layer(index=3)  # the decoder embedding layer\n",
        "x = dec_emb_layer(dec_inputs)\n",
        "dec_outs2, state_h2, state_c2 = dec_lstm(x, initial_state=dec_states_inputs)\n",
        "dec_logits2 = model.layers[-1](dec_outs2)\n",
        "decoder_model = models.Model([dec_inputs] + dec_states_inputs,\n",
        "                             [dec_logits2, state_h2, state_c2])\n",
        "\n",
        "def decode_sequence(input_text, max_len=40):\n",
        "    # Encode the input as state vectors.\n",
        "    xseq = vectorize([norm(input_text)], src_stoi, max_src_len)\n",
        "    states_value = encoder_model.predict(xseq, verbose=0)\n",
        "    # Generate empty target sequence of length 1 with start token '\\t'\n",
        "    target_seq = np.array([[tgt_stoi[\"\\t\"]]], dtype=\"int32\")\n",
        "    # Sampling loop\n",
        "    stop = False; decoded = \"\"\n",
        "    sh, sc = states_value\n",
        "    for _ in range(max_len):\n",
        "        output_tokens, sh, sc = decoder_model.predict([target_seq, sh, sc], verbose=0)\n",
        "        sampled_id = int(np.argmax(output_tokens[0, -1, :]))\n",
        "        sampled_char = tgt_itos[sampled_id]\n",
        "        if sampled_char == \"\\n\": break\n",
        "        decoded += sampled_char\n",
        "        target_seq = np.array([[sampled_id]])\n",
        "    return decoded.strip()\n",
        "\n",
        "tests = [\"hello\", \"good night\", \"thank you\", \"see you\"]\n",
        "for s in tests:\n",
        "    print(f\"{s!r} → {decode_sequence(s)}\")"
      ]
    },
    {
      "cell_type": "code",
      "execution_count": 4,
      "id": "95c3249f",
      "metadata": {
        "colab": {
          "base_uri": "https://localhost:8080/",
          "height": 472
        },
        "id": "95c3249f",
        "outputId": "787d0073-f444-4614-b1d2-0a80566ce009"
      },
      "outputs": [
        {
          "output_type": "display_data",
          "data": {
            "text/plain": [
              "<Figure size 640x480 with 1 Axes>"
            ],
            "image/png": "[encoded data removed]"
          },
          "metadata": {}
        }
      ],
      "source": [
        "plt.figure()\n",
        "plt.plot(history.history[\"loss\"])\n",
        "plt.xlabel(\"epoch\"); plt.ylabel(\"loss\"); plt.title(\"Seq2Seq training loss (toy)\")\n",
        "plt.show()"
      ]
    },
    {
      "cell_type": "markdown",
      "id": "6598927a",
      "metadata": {
        "id": "6598927a"
      },
      "source": [
        "## PyTorch Image Captioning - Inference (pretrained weights)\n",
        "\n",
        "This section mirrors the popular tutorial. It downloads the repo, ensures dependencies, and runs the provided sampling script on an input image using **pretrained** weights (no training here).\n",
        "\n",
        "> **Note:** The actual filenames of the pretrained encoder/decoder and vocabulary may differ. After downloading, update the `--encoder_path`, `--decoder_path`, and `--vocab_path` arguments accordingly.\n"
      ]
    },
    {
      "cell_type": "code",
      "execution_count": 5,
      "id": "2331c406",
      "metadata": {
        "colab": {
          "base_uri": "https://localhost:8080/"
        },
        "id": "2331c406",
        "outputId": "817469f8-2bab-4742-9642-b412d222c151"
      },
      "outputs": [
        {
          "output_type": "stream",
          "name": "stdout",
          "text": [
            "/content/pytorch-tutorial/tutorials/03-advanced/image_captioning\n",
            "/content\n"
          ]
        }
      ],
      "source": [
        "# If running in Colab, uncomment the next two lines to start clean\n",
        "# !rm -rf pytorch-tutorial\n",
        "# !pip -q install pillow tqdm nltk\n",
        "\n",
        "# Clone the tutorial (contains the image captioning code)\n",
        "# (If access is restricted, you can upload the folder then skip cloning)\n",
        "!git clone https://github.com/yunjey/pytorch-tutorial.git -q\n",
        "%cd pytorch-tutorial/tutorials/03-advanced/image_captioning\n",
        "\n",
        "# Download example pretrained weights & vocab (update URLs if necessary)\n",
        "# These URLs are typical; if they 404, consult the repo README for current links\n",
        "# !wget -q https://raw.githubusercontent.com/yunjey/pytorch-tutorial/master/tutorials/03-advanced/image_captioning/sample.jpg -O sample.jpg\n",
        "# !wget -q https://www.dropbox.com/s/0hbn9b1u0b5k9fb/encoder-5-3000.pkl?dl=1 -O encoder.pkl\n",
        "# !wget -q https://www.dropbox.com/s/6k2nzyqux1d0f4w/decoder-5-3000.pkl?dl=1 -O decoder.pkl\n",
        "# !wget -q https://www.dropbox.com/s/8v1z8m1wq1u3t6g/vocab.pkl?dl=1 -O vocab.pkl\n",
        "\n",
        "# Run the sampler (adjust paths if you used different filenames)\n",
        "# !python sample.py --image='sample.jpg' --encoder_path='encoder.pkl' --decoder_path='decoder.pkl' --vocab_path='vocab.pkl'\n",
        "%cd ../../../.."
      ]
    },
    {
      "cell_type": "markdown",
      "id": "598ba342",
      "metadata": {
        "id": "598ba342"
      },
      "source": [
        "\n",
        "## Porting PyTorch → Keras (notes)\n",
        "1. Export the PyTorch model to **ONNX** (`torch.onnx.export`).\n",
        "2. Convert ONNX → Keras using **onnx2keras** (or rebuild the layers manually).\n",
        "3. Verify layer shapes and preprocessing (normalization, resize, vocabulary) match.\n",
        "4. Some ops (e.g., custom attention) may require manual porting.\n",
        "\n",
        "Example (sketch):\n",
        "```python\n",
        "# PyTorch → ONNX\n",
        "torch.onnx.export(model, example_input, \"captioner.onnx\", opset_version=13)\n",
        "# ONNX → Keras\n",
        "from onnx2keras import onnx_to_keras\n",
        "import onnx\n",
        "onnx_model = onnx.load(\"captioner.onnx\")\n",
        "k_model = onnx_to_keras(onnx_model, ['input_1'])\n",
        "k_model.save('captioner_keras.h5')\n",
        "```\n"
      ]
    }
  ],
  "metadata": {
    "colab": {
      "provenance": []
    },
    "language_info": {
      "name": "python"
    },
    "kernelspec": {
      "name": "python3",
      "display_name": "Python 3"
    }
  },
  "nbformat": 4,
  "nbformat_minor": 5
}
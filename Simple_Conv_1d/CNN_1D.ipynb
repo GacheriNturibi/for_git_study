{
  "cells": [
    {
      "cell_type": "markdown",
      "id": "6fbe6d73",
      "metadata": {
        "id": "6fbe6d73"
      },
      "source": [
        "# 1D CNN Classifier\n",
        "\n",
        "\n",
        "## Sprint Objective\n",
        "- Understand the basics of **convolution** by building a **1D convolutional layer** from scratch.\n",
        "- Implement forward & backward passes, padding, stride, and minibatching.\n",
        "- Validate on **MNIST** by treating each 28×28 image as a 1D sequence of length 784.\n"
      ]
    },
    {
      "cell_type": "code",
      "execution_count": 1,
      "id": "04585cae",
      "metadata": {
        "id": "04585cae"
      },
      "outputs": [],
      "source": [
        "import numpy as np\n",
        "import matplotlib.pyplot as plt\n",
        "from sklearn.model_selection import train_test_split\n",
        "from sklearn.preprocessing import OneHotEncoder\n",
        "import os\n",
        "\n",
        "# Reproducibility\n",
        "np.random.seed(42)\n",
        "plt.rcParams['figure.figsize'] = (7,5)\n",
        "plt.rcParams['axes.grid'] = True"
      ]
    },
    {
      "cell_type": "markdown",
      "id": "583a3c45",
      "metadata": {
        "id": "583a3c45"
      },
      "source": [
        "## 1) Load & Inspect MNIST\n",
        "\n",
        "We try `keras.datasets.mnist` first; if not available, we fall back to a local NPZ (place `mnist.npz` at `/mnt/data/mnist.npz` or `~/.keras/datasets/mnist.npz`), then to `sklearn`'s OpenML.\n"
      ]
    },
    {
      "cell_type": "code",
      "execution_count": 3,
      "id": "fa4cca1a",
      "metadata": {
        "colab": {
          "base_uri": "https://localhost:8080/",
          "height": 503
        },
        "id": "fa4cca1a",
        "outputId": "ccb777cf-e8e3-495f-8f47-ffe0da8db22d"
      },
      "outputs": [
        {
          "output_type": "stream",
          "name": "stdout",
          "text": [
            "Train shape: (60000, 28, 28)  Test shape: (10000, 28, 28)\n",
            "Dtype: uint8\n"
          ]
        },
        {
          "output_type": "display_data",
          "data": {
            "text/plain": [
              "<Figure size 700x500 with 1 Axes>"
            ],
            "image/png": "[encoded data removed]"
          },
          "metadata": {}
        }
      ],
      "source": [
        "# Load MNIST directly from Keras\n",
        "from keras.datasets import mnist\n",
        "\n",
        "\n",
        "(X_train, y_train), (X_test, y_test) = mnist.load_data()\n",
        "\n",
        "print(\"Train shape:\", X_train.shape, \" Test shape:\", X_test.shape)\n",
        "print(\"Dtype:\", X_train.dtype)\n",
        "\n",
        "# sneak peek\n",
        "plt.imshow(X_train[0], cmap='gray'); plt.title(f'label: {y_train[0]}'); plt.show()"
      ]
    },
    {
      "cell_type": "markdown",
      "id": "922207ff",
      "metadata": {
        "id": "922207ff"
      },
      "source": [
        "## 2) Preprocessing\n",
        "\n",
        "- Flatten images to 1D of length 784 (we'll treat this as our sequence).\n",
        "- Normalize to `[0,1]` float32.\n",
        "- One-hot encode labels (10 classes).\n",
        "- Split the 60k training set into 48k train / 12k validation."
      ]
    },
    {
      "cell_type": "code",
      "execution_count": 4,
      "id": "74ab78e3",
      "metadata": {
        "colab": {
          "base_uri": "https://localhost:8080/"
        },
        "id": "74ab78e3",
        "outputId": "4ffac0bf-17b4-43bb-d71c-1d746103a1ef"
      },
      "outputs": [
        {
          "output_type": "stream",
          "name": "stdout",
          "text": [
            "X_train: (48000, 784)  X_val: (12000, 784)  X_test: (10000, 784)\n"
          ]
        }
      ],
      "source": [
        "# Flatten & normalize\n",
        "X_train = X_train.reshape(-1, 784).astype(np.float32) / 255.0\n",
        "X_test  = X_test.reshape(-1, 784).astype(np.float32) / 255.0\n",
        "\n",
        "# One-hot encode\n",
        "try:\n",
        "    enc = OneHotEncoder(handle_unknown='ignore', sparse=False)\n",
        "except TypeError:\n",
        "    enc = OneHotEncoder(handle_unknown='ignore', sparse_output=False)\n",
        "y_train_oh = enc.fit_transform(y_train.reshape(-1,1))\n",
        "y_test_oh  = enc.transform(y_test.reshape(-1,1))\n",
        "\n",
        "# Train/val split\n",
        "from sklearn.model_selection import train_test_split\n",
        "X_train, X_val, y_train_oh, y_val_oh, y_train, y_val = train_test_split(\n",
        "    X_train, y_train_oh, y_train, test_size=0.2, random_state=42, stratify=y_train\n",
        ")\n",
        "print('X_train:', X_train.shape, ' X_val:', X_val.shape, ' X_test:', X_test.shape)"
      ]
    },
    {
      "cell_type": "markdown",
      "id": "1497c68a",
      "metadata": {
        "id": "1497c68a"
      },
      "source": [
        "## 3) Mini-batch iterator"
      ]
    },
    {
      "cell_type": "code",
      "execution_count": 5,
      "id": "cbcae00d",
      "metadata": {
        "id": "cbcae00d"
      },
      "outputs": [],
      "source": [
        "class GetMiniBatch:\n",
        "    def __init__(self, X, y, batch_size=128, seed=42):\n",
        "        self.batch_size = int(batch_size)\n",
        "        rng = np.random.default_rng(seed)\n",
        "        order = rng.permutation(np.arange(X.shape[0]))\n",
        "        self._X = X[order]\n",
        "        self._y = y[order]\n",
        "        self._stop = int(np.ceil(X.shape[0]/self.batch_size))\n",
        "        self._i = 0\n",
        "    def __len__(self): return self._stop\n",
        "    def __iter__(self):\n",
        "        self._i = 0; return self\n",
        "    def __next__(self):\n",
        "        if self._i >= self._stop: raise StopIteration()\n",
        "        p0 = self._i*self.batch_size; p1 = p0 + self.batch_size; self._i += 1\n",
        "        return self._X[p0:p1], self._y[p0:p1]"
      ]
    },
    {
      "cell_type": "markdown",
      "id": "8abf38cd",
      "metadata": {
        "id": "8abf38cd"
      },
      "source": [
        "## 4) Helpers: softmax, CE loss, accuracy"
      ]
    },
    {
      "cell_type": "code",
      "execution_count": 6,
      "id": "12c00673",
      "metadata": {
        "id": "12c00673"
      },
      "outputs": [],
      "source": [
        "def softmax_stable(logits):\n",
        "    shift = logits - logits.max(axis=1, keepdims=True)\n",
        "    ex = np.exp(shift)\n",
        "    return ex / ex.sum(axis=1, keepdims=True)\n",
        "\n",
        "def cross_entropy(y_true_onehot, y_pred_proba, eps=1e-7):\n",
        "    yp = np.clip(y_pred_proba, eps, 1.0-eps)\n",
        "    return -np.mean(np.sum(y_true_onehot * np.log(yp), axis=1))\n",
        "\n",
        "def accuracy_from_proba(y_true_int, y_pred_proba):\n",
        "    pred = np.argmax(y_pred_proba, axis=1)\n",
        "    return float((pred == y_true_int).mean())"
      ]
    },
    {
      "cell_type": "markdown",
      "id": "e4eebed9",
      "metadata": {
        "id": "e4eebed9"
      },
      "source": [
        "## 5) Initializers & Optimizers"
      ]
    },
    {
      "cell_type": "code",
      "execution_count": 7,
      "id": "151fb64c",
      "metadata": {
        "id": "151fb64c"
      },
      "outputs": [],
      "source": [
        "class SimpleInitializer:\n",
        "    def __init__(self, sigma=0.01): self.sigma = float(sigma)\n",
        "    def W(self, fan_in, fan_out): return self.sigma*np.random.standard_normal((fan_in, fan_out)).astype(np.float32)\n",
        "    def B(self, fan_out): return np.zeros(fan_out, dtype=np.float32)\n",
        "\n",
        "class XavierInitializer:\n",
        "    def W(self, fan_in, fan_out):\n",
        "        sigma = 1.0/np.sqrt(fan_in)\n",
        "        return sigma*np.random.standard_normal((fan_in, fan_out)).astype(np.float32)\n",
        "    def B(self, fan_out): return np.zeros(fan_out, dtype=np.float32)\n",
        "\n",
        "class HeInitializer:\n",
        "    def W(self, fan_in, fan_out):\n",
        "        sigma = np.sqrt(2.0/fan_in)\n",
        "        return sigma*np.random.standard_normal((fan_in, fan_out)).astype(np.float32)\n",
        "    def B(self, fan_out): return np.zeros(fan_out, dtype=np.float32)\n",
        "\n",
        "class SGD:\n",
        "    def __init__(self, lr=0.1): self.lr = float(lr)\n",
        "    def update(self, layer):\n",
        "        layer.W -= self.lr * layer.dW\n",
        "        layer.B -= self.lr * layer.db\n",
        "        return layer\n",
        "\n",
        "class AdaGrad:\n",
        "    def __init__(self, lr=0.1, eps=1e-8): self.lr = float(lr); self.eps=float(eps)\n",
        "    def update(self, layer):\n",
        "        if not hasattr(layer, 'hW'):\n",
        "            layer.hW = np.zeros_like(layer.W, dtype=np.float32)\n",
        "            layer.hB = np.zeros_like(layer.B, dtype=np.float32)\n",
        "        layer.hW += layer.dW*layer.dW\n",
        "        layer.hB += layer.db*layer.db\n",
        "        layer.W -= self.lr * layer.dW / (np.sqrt(layer.hW)+self.eps)\n",
        "        layer.B -= self.lr * layer.db / (np.sqrt(layer.hB)+self.eps)\n",
        "        return layer"
      ]
    },
    {
      "cell_type": "markdown",
      "id": "6bdda5e4",
      "metadata": {
        "id": "6bdda5e4"
      },
      "source": [
        "## 6) Fully Connected layer (for output)"
      ]
    },
    {
      "cell_type": "code",
      "execution_count": 8,
      "id": "9d16ab1b",
      "metadata": {
        "id": "9d16ab1b"
      },
      "outputs": [],
      "source": [
        "class FC:\n",
        "    def __init__(self, n_in, n_out, initializer, optimizer):\n",
        "        self.W = initializer.W(n_in, n_out)\n",
        "        self.B = initializer.B(n_out)\n",
        "        self.optimizer = optimizer\n",
        "        self.X = None\n",
        "        self.dW = None\n",
        "        self.db = None\n",
        "    def forward(self, X):\n",
        "        self.X = X\n",
        "        return X @ self.W + self.B\n",
        "    def backward(self, dA):\n",
        "        self.dW = self.X.T @ dA\n",
        "        self.db = dA.sum(axis=0)\n",
        "        dZ = dA @ self.W.T\n",
        "        self.optimizer.update(self)\n",
        "        return dZ"
      ]
    },
    {
      "cell_type": "markdown",
      "id": "279f1b50",
      "metadata": {
        "id": "279f1b50"
      },
      "source": [
        "## 7) Activations & Softmax"
      ]
    },
    {
      "cell_type": "code",
      "execution_count": 9,
      "id": "ee6c4cda",
      "metadata": {
        "id": "ee6c4cda"
      },
      "outputs": [],
      "source": [
        "class ReLU:\n",
        "    def __init__(self): self.mask=None\n",
        "    def forward(self, X):\n",
        "        self.mask = (X>0).astype(np.float32)\n",
        "        return np.maximum(0.0, X)\n",
        "    def backward(self, dZ): return dZ * self.mask\n",
        "\n",
        "class Tanh:\n",
        "    def __init__(self): self.out=None\n",
        "    def forward(self, X):\n",
        "        self.out = np.tanh(X)\n",
        "        return self.out\n",
        "    def backward(self, dZ): return dZ * (1.0 - self.out**2)\n",
        "\n",
        "class SoftmaxOutput:\n",
        "    def forward(self, logits):\n",
        "        return softmax_stable(logits)\n",
        "    def backward(self, proba, y_true_onehot):\n",
        "        N = y_true_onehot.shape[0]\n",
        "        return (proba - y_true_onehot) / float(N)"
      ]
    },
    {
      "cell_type": "markdown",
      "id": "b7e71994",
      "metadata": {
        "id": "b7e71994"
      },
      "source": [
        "## 8) Problem 2- Output size after 1D convolution"
      ]
    },
    {
      "cell_type": "code",
      "execution_count": 10,
      "id": "23a22084",
      "metadata": {
        "colab": {
          "base_uri": "https://localhost:8080/"
        },
        "id": "23a22084",
        "outputId": "aa969621-edd5-4aff-e65b-285761ff6a00"
      },
      "outputs": [
        {
          "output_type": "stream",
          "name": "stdout",
          "text": [
            "Out len examples:\n",
            "N=4,F=3,P=0,S=1 -> 2  (expect 2)\n",
            "N=10,F=5,P=2,S=1 -> 10  (same length 10)\n",
            "N=10,F=3,P=0,S=2 -> 4\n"
          ]
        }
      ],
      "source": [
        "def conv1d_out_length(N_in, F, P=0, S=1):\n",
        "    \"\"\"Compute output length for 1D conv (valid padding P, stride S).\"\"\"\n",
        "    return int((N_in + 2*P - F)/S) + 1\n",
        "\n",
        "# Quick sanity checks\n",
        "print('Out len examples:')\n",
        "print('N=4,F=3,P=0,S=1 ->', conv1d_out_length(4,3,0,1), ' (expect 2)')\n",
        "print('N=10,F=5,P=2,S=1 ->', conv1d_out_length(10,5,2,1), ' (same length 10)')\n",
        "print('N=10,F=3,P=0,S=2 ->', conv1d_out_length(10,3,0,2))"
      ]
    },
    {
      "cell_type": "markdown",
      "id": "81d5c4ff",
      "metadata": {
        "id": "81d5c4ff"
      },
      "source": [
        "## 9) Problem 1 - SimpleConv1d (1 channel, stride=1, no padding, batch=1)"
      ]
    },
    {
      "cell_type": "code",
      "execution_count": 11,
      "id": "f4950460",
      "metadata": {
        "id": "f4950460"
      },
      "outputs": [],
      "source": [
        "class SimpleConv1d:\n",
        "    \"\"\"1D convolution with single input/output channel, batch size = 1, stride=1, no padding.\"\"\"\n",
        "    def __init__(self, F, initializer, optimizer):\n",
        "        self.F = int(F)  # filter size\n",
        "        self.W = initializer.W(self.F, 1).reshape(-1)  # store as (F,)\n",
        "        self.B = initializer.B(1).reshape(-1)\n",
        "        self.optimizer = optimizer\n",
        "        self.x = None\n",
        "        self.dW = None\n",
        "        self.db = None\n",
        "\n",
        "    def forward(self, x):\n",
        "        \"\"\"x: shape (N_in,), returns a: shape (N_out,) where N_out = N_in - F + 1\"\"\"\n",
        "        self.x = x.astype(np.float32)\n",
        "        N_in = self.x.shape[0]\n",
        "        N_out = N_in - self.F + 1\n",
        "        idx = np.arange(self.F)[None, :] + np.arange(N_out)[:, None]  # (N_out, F)\n",
        "        windows = self.x[idx]                                         # (N_out, F)\n",
        "        a = windows @ self.W + self.B[0]                              # (N_out,)\n",
        "        return a\n",
        "\n",
        "    def backward(self, dA):\n",
        "        \"\"\"dA: shape (N_out,) -> returns dX: shape (N_in,)\"\"\"\n",
        "        x = self.x; F = self.F; N_in = x.shape[0]; N_out = N_in - F + 1\n",
        "        idx = np.arange(F)[None, :] + np.arange(N_out)[:, None]\n",
        "        windows = x[idx]  # (N_out, F)\n",
        "\n",
        "        self.dW = windows.T @ dA\n",
        "        self.db = np.array([dA.sum()], dtype=np.float32)\n",
        "\n",
        "        dX = np.zeros_like(x, dtype=np.float32)\n",
        "        for i in range(N_out):\n",
        "            dX[i:i+F] += dA[i] * self.W\n",
        "\n",
        "        self.optimizer.update(self)\n",
        "        return dX"
      ]
    },
    {
      "cell_type": "markdown",
      "id": "40b42b13",
      "metadata": {
        "id": "40b42b13"
      },
      "source": [
        "## 10) Problem 3 -  Small-array check (forward & backward)"
      ]
    },
    {
      "cell_type": "code",
      "execution_count": 12,
      "id": "32ac746d",
      "metadata": {
        "colab": {
          "base_uri": "https://localhost:8080/"
        },
        "id": "32ac746d",
        "outputId": "d35fab52-fc84-48c5-9973-af6ccb2adb93"
      },
      "outputs": [
        {
          "output_type": "stream",
          "name": "stdout",
          "text": [
            "Forward a: [35. 50.]\n",
            "delta_b: [30.]\n",
            "delta_w: [ 50.  80. 110.]\n",
            "delta_x: [ 30. 110. 170. 140.]\n",
            "Small-array test passed.\n"
          ]
        }
      ],
      "source": [
        "# Given example\n",
        "x = np.array([1,2,3,4], dtype=np.float32)\n",
        "w = np.array([3,5,7], dtype=np.float32)\n",
        "b = np.array([1], dtype=np.float32)\n",
        "\n",
        "conv = SimpleConv1d(F=3, initializer=SimpleInitializer(0.0), optimizer=SGD(lr=0.0))\n",
        "conv.W = w.copy(); conv.B = b.copy()\n",
        "\n",
        "a = conv.forward(x)\n",
        "print('Forward a:', a)  # expect [35, 50]\n",
        "\n",
        "delta_a = np.array([10, 20], dtype=np.float32)\n",
        "dX = conv.backward(delta_a)\n",
        "print('delta_b:', conv.db)   # expect [30]\n",
        "print('delta_w:', conv.dW)   # expect [ 50,  80, 110]\n",
        "print('delta_x:', dX)        # expect [ 30, 110, 170, 140]\n",
        "\n",
        "import numpy.testing as npt\n",
        "npt.assert_array_equal(a, np.array([35,50], dtype=np.float32))\n",
        "npt.assert_array_equal(conv.db, np.array([30], dtype=np.float32))\n",
        "npt.assert_array_equal(conv.dW, np.array([50,80,110], dtype=np.float32))\n",
        "npt.assert_array_equal(dX, np.array([30,110,170,140], dtype=np.float32))\n",
        "print('Small-array test passed.')"
      ]
    },
    {
      "cell_type": "markdown",
      "id": "5c4cc300",
      "metadata": {
        "id": "5c4cc300"
      },
      "source": [
        "## 11) General Conv1d (Problems 4–7): channels, padding, stride, minibatch\n",
        "\n",
        "We implement `im2col1d`/`col2im1d` and a vectorized `Conv1d` supporting:\n",
        "- multiple input/output channels,\n",
        "- zero padding,\n",
        "- arbitrary stride,\n",
        "- mini-batches.\n"
      ]
    },
    {
      "cell_type": "code",
      "execution_count": 13,
      "id": "445b7582",
      "metadata": {
        "id": "445b7582"
      },
      "outputs": [],
      "source": [
        "def conv1d_out_length(N_in, F, P=0, S=1):\n",
        "    return int((N_in + 2*P - F)/S) + 1\n",
        "\n",
        "def im2col1d(x, F, S=1, P=0):\n",
        "    \"\"\"x: (B, C, N) -> col: (B, N_out, C*F)\"\"\"\n",
        "    B, C, N = x.shape\n",
        "    N_out = conv1d_out_length(N, F, P, S)\n",
        "    if P > 0:\n",
        "        x_pad = np.pad(x, ((0,0),(0,0),(P,P)), mode='constant', constant_values=0.0)\n",
        "    else:\n",
        "        x_pad = x\n",
        "    i0 = np.repeat(np.arange(F), C)\n",
        "    i1 = S * np.arange(N_out)\n",
        "    channel_offsets = np.tile(np.arange(C), F)\n",
        "    col = np.empty((B, N_out, C*F), dtype=x.dtype)\n",
        "    for b in range(B):\n",
        "        for i, start in enumerate(i1):\n",
        "            col[b, i, :] = x_pad[b, channel_offsets, start + i0]\n",
        "    return col\n",
        "\n",
        "def col2im1d(col, x_shape, F, S=1, P=0):\n",
        "    B, C, N = x_shape\n",
        "    N_out = col.shape[1]\n",
        "    dX_pad = np.zeros((B, C, N + 2*P), dtype=col.dtype)\n",
        "    i0 = np.repeat(np.arange(F), C)\n",
        "    i1 = S * np.arange(N_out)\n",
        "    channel_offsets = np.tile(np.arange(C), F)\n",
        "    for b in range(B):\n",
        "        for i, start in enumerate(i1):\n",
        "            np.add.at(dX_pad[b], (channel_offsets, start + i0), col[b, i, :])\n",
        "    return dX_pad[:, :, P:-P] if P>0 else dX_pad\n",
        "\n",
        "class Conv1d:\n",
        "    def __init__(self, C_in, C_out, F, initializer, optimizer, stride=1, padding=0):\n",
        "        self.C_in = int(C_in); self.C_out = int(C_out)\n",
        "        self.F = int(F); self.S = int(stride); self.P = int(padding)\n",
        "        self.optimizer = optimizer\n",
        "        fan_in = self.C_in * self.F\n",
        "        W_flat = initializer.W(fan_in, self.C_out)       # (C_in*F, C_out)\n",
        "        self.W = W_flat.T.reshape(self.C_out, self.C_in, self.F)\n",
        "        self.B = initializer.B(self.C_out)\n",
        "        self.col = None; self.x_shape=None; self.W_flat=None\n",
        "        self.dW=None; self.db=None\n",
        "    def forward(self, x):\n",
        "        self.x_shape = x.shape\n",
        "        col = im2col1d(x, self.F, self.S, self.P)        # (B, N_out, C*F)\n",
        "        self.col = col\n",
        "        self.W_flat = self.W.reshape(self.C_out, -1)     # (C_out, C*F)\n",
        "        A = np.einsum('bnf,kf->bnk', col, self.W_flat) + self.B  # (B, N_out, C_out)\n",
        "        return A.transpose(0,2,1)                        # (B, C_out, N_out)\n",
        "    def backward(self, dA):\n",
        "        # dA: (B, C_out, N_out)\n",
        "        dA_bnK = dA.transpose(0,2,1)                     # (B, N_out, C_out)\n",
        "        dW_flat = np.einsum('bnk,bnf->kf', dA_bnK, self.col)\n",
        "        self.dW = dW_flat.reshape(self.W.shape)\n",
        "        self.db = dA.sum(axis=(0,2))\n",
        "        dcol = np.einsum('bnk,kf->bnf', dA_bnK, self.W_flat)  # (B, N_out, C*F)\n",
        "        dX = col2im1d(dcol, self.x_shape, self.F, self.S, self.P)\n",
        "        self.optimizer.update(self)\n",
        "        return dX"
      ]
    },
    {
      "cell_type": "markdown",
      "id": "deb28c4d",
      "metadata": {
        "id": "deb28c4d"
      },
      "source": [
        "## 12) Flatten layer"
      ]
    },
    {
      "cell_type": "code",
      "execution_count": 14,
      "id": "e4bbed46",
      "metadata": {
        "id": "e4bbed46"
      },
      "outputs": [],
      "source": [
        "class Flatten:\n",
        "    def __init__(self): self.shape=None\n",
        "    def forward(self, X):\n",
        "        self.shape = X.shape\n",
        "        return X.reshape(X.shape[0], -1)\n",
        "    def backward(self, dZ):\n",
        "        return dZ.reshape(self.shape)"
      ]
    },
    {
      "cell_type": "markdown",
      "id": "f412e8a6",
      "metadata": {
        "id": "f412e8a6"
      },
      "source": [
        "## 13) Scratch1dCNNClassifier - Conv1d - ReLU - Flatten - FC - Softmax"
      ]
    },
    {
      "cell_type": "code",
      "execution_count": 15,
      "id": "07a6afc9",
      "metadata": {
        "id": "07a6afc9"
      },
      "outputs": [],
      "source": [
        "class Scratch1dCNNClassifier:\n",
        "    def __init__(self,\n",
        "                 seq_len=784,\n",
        "                 conv_out=8,\n",
        "                 conv_kernel=7,\n",
        "                 conv_stride=2,\n",
        "                 conv_padding=0,\n",
        "                 hidden_dim=128,\n",
        "                 initializer='he',          # 'simple','xavier','he'\n",
        "                 sigma=0.01,\n",
        "                 optimizer='adagrad',       # 'sgd','adagrad'\n",
        "                 lr=0.2,\n",
        "                 batch_size=128,\n",
        "                 epochs=6,\n",
        "                 seed=42,\n",
        "                 verbose=True):\n",
        "        self.seq_len = int(seq_len)\n",
        "        self.conv_out = int(conv_out)\n",
        "        self.conv_kernel = int(conv_kernel)\n",
        "        self.conv_stride = int(conv_stride)\n",
        "        self.conv_padding = int(conv_padding)\n",
        "        self.hidden_dim = int(hidden_dim)\n",
        "        self.initializer_name = initializer\n",
        "        self.sigma = float(sigma)\n",
        "        self.optimizer_name = optimizer\n",
        "        self.lr = float(lr)\n",
        "        self.batch_size = int(batch_size)\n",
        "        self.epochs = int(epochs)\n",
        "        self.seed = int(seed)\n",
        "        self.verbose = verbose\n",
        "\n",
        "        self.train_loss_ = []; self.val_loss_ = []\n",
        "        self.train_acc_  = []; self.val_acc_  = []\n",
        "\n",
        "    def _make_initializer(self):\n",
        "        if self.initializer_name == 'simple': return SimpleInitializer(self.sigma)\n",
        "        if self.initializer_name == 'xavier': return XavierInitializer()\n",
        "        if self.initializer_name == 'he':     return HeInitializer()\n",
        "        raise ValueError('initializer must be simple/xavier/he')\n",
        "\n",
        "    def _make_optimizer(self):\n",
        "        if self.optimizer_name == 'sgd':     return SGD(self.lr)\n",
        "        if self.optimizer_name == 'adagrad': return AdaGrad(self.lr)\n",
        "        raise ValueError('optimizer must be sgd/adagrad')\n",
        "\n",
        "    def _build(self):\n",
        "        init = self._make_initializer()\n",
        "        opt  = self._make_optimizer()\n",
        "        self.conv = Conv1d(C_in=1, C_out=self.conv_out, F=self.conv_kernel,\n",
        "                           initializer=init, optimizer=opt,\n",
        "                           stride=self.conv_stride, padding=self.conv_padding)\n",
        "        self.relu = ReLU()\n",
        "        self.flatten = Flatten()\n",
        "        N_out = conv1d_out_length(self.seq_len, self.conv_kernel, self.conv_padding, self.conv_stride)\n",
        "        fc_in = self.conv_out * N_out\n",
        "        self.fc1 = FC(fc_in, self.hidden_dim, init, opt)\n",
        "        self.act1 = ReLU()\n",
        "        self.fc_out = FC(self.hidden_dim, 10, init, opt)\n",
        "        self.softmax = SoftmaxOutput()\n",
        "\n",
        "    def predict_proba(self, X):\n",
        "        if not hasattr(self, 'conv'): self._build()\n",
        "        B = X.shape[0]\n",
        "        x_seq = X.reshape(B, 1, self.seq_len)\n",
        "        a = self.conv.forward(x_seq)         # (B, C_out, N_out)\n",
        "        z = self.relu.forward(a)             # (B, C_out, N_out)\n",
        "        zf = self.flatten.forward(z)         # (B, C_out*N_out)\n",
        "        h = self.act1.forward(self.fc1.forward(zf))\n",
        "        logits = self.fc_out.forward(h)\n",
        "        return self.softmax.forward(logits)\n",
        "\n",
        "    def fit(self, X, y_onehot, X_val=None, y_val_onehot=None, y_int=None, y_val_int=None):\n",
        "        if not hasattr(self, 'conv'): self._build()\n",
        "        for epoch in range(self.epochs):\n",
        "            batcher = GetMiniBatch(X, y_onehot, batch_size=self.batch_size, seed=self.seed+epoch)\n",
        "            for Xb, Yb in batcher:\n",
        "                B = Xb.shape[0]\n",
        "                x_seq = Xb.reshape(B, 1, self.seq_len)\n",
        "                # Forward\n",
        "                a = self.conv.forward(x_seq)\n",
        "                z = self.relu.forward(a)\n",
        "                zf = self.flatten.forward(z)\n",
        "                h_lin = self.fc1.forward(zf)\n",
        "                h = self.act1.forward(h_lin)\n",
        "                logits = self.fc_out.forward(h)\n",
        "                proba = self.softmax.forward(logits)\n",
        "                # Backward\n",
        "                d_logits = self.softmax.backward(proba, Yb)\n",
        "                d_h = self.fc_out.backward(d_logits)\n",
        "                d_hlin = self.act1.backward(d_h)\n",
        "                d_zf = self.fc1.backward(d_hlin)\n",
        "                d_z = self.flatten.backward(d_zf)\n",
        "                d_a = self.relu.backward(d_z)\n",
        "                _ = self.conv.backward(d_a)\n",
        "\n",
        "            # Metrics at epoch end\n",
        "            train_proba = self.predict_proba(X)\n",
        "            tr_loss = cross_entropy(y_onehot, train_proba)\n",
        "            self.train_loss_.append(tr_loss)\n",
        "            if y_int is not None:\n",
        "                self.train_acc_.append(accuracy_from_proba(y_int, train_proba))\n",
        "\n",
        "            if X_val is not None and y_val_onehot is not None:\n",
        "                val_proba = self.predict_proba(X_val)\n",
        "                val_loss = cross_entropy(y_val_onehot, val_proba)\n",
        "                self.val_loss_.append(val_loss)\n",
        "                if y_val_int is not None:\n",
        "                    self.val_acc_.append(accuracy_from_proba(y_val_int, val_proba))\n",
        "\n",
        "            if self.verbose:\n",
        "                msg = f\"Epoch {epoch+1}/{self.epochs} - loss: {tr_loss:.4f}\"\n",
        "                if self.val_loss_:\n",
        "                    msg += f\" - val_loss: {self.val_loss_[-1]:.4f}\"\n",
        "                if self.train_acc_:\n",
        "                    msg += f\" - acc: {self.train_acc_[-1]:.4f}\"\n",
        "                if self.val_acc_:\n",
        "                    msg += f\" - val_acc: {self.val_acc_[-1]:.4f}\"\n",
        "                print(msg)\n",
        "        return self\n",
        "\n",
        "    def predict(self, X):\n",
        "        return np.argmax(self.predict_proba(X), axis=1)"
      ]
    },
    {
      "cell_type": "markdown",
      "id": "76b6a71d",
      "metadata": {
        "id": "76b6a71d"
      },
      "source": [
        "## 14) Train & Validate on MNIST - Problem 8"
      ]
    },
    {
      "cell_type": "code",
      "execution_count": 16,
      "id": "9631e2c2",
      "metadata": {
        "colab": {
          "base_uri": "https://localhost:8080/",
          "height": 1000
        },
        "id": "9631e2c2",
        "outputId": "813f02d9-edff-4c6e-d971-632e90262c5d"
      },
      "outputs": [
        {
          "output_type": "stream",
          "name": "stdout",
          "text": [
            "Epoch 1/6 - loss: 0.1803 - val_loss: 0.2167 - acc: 0.9440 - val_acc: 0.9327\n",
            "Epoch 2/6 - loss: 0.0967 - val_loss: 0.1517 - acc: 0.9708 - val_acc: 0.9541\n",
            "Epoch 3/6 - loss: 0.0694 - val_loss: 0.1354 - acc: 0.9797 - val_acc: 0.9595\n",
            "Epoch 4/6 - loss: 0.0557 - val_loss: 0.1379 - acc: 0.9833 - val_acc: 0.9603\n",
            "Epoch 5/6 - loss: 0.0360 - val_loss: 0.1284 - acc: 0.9899 - val_acc: 0.9631\n",
            "Epoch 6/6 - loss: 0.0276 - val_loss: 0.1307 - acc: 0.9927 - val_acc: 0.9660\n"
          ]
        },
        {
          "output_type": "display_data",
          "data": {
            "text/plain": [
              "<Figure size 700x500 with 1 Axes>"
            ],
            "image/png": "[encoded data removed]"
          },
          "metadata": {}
        },
        {
          "output_type": "display_data",
          "data": {
            "text/plain": [
              "<Figure size 700x500 with 1 Axes>"
            ],
            "image/png": "[encoded data removed]"
          },
          "metadata": {}
        },
        {
          "output_type": "stream",
          "name": "stdout",
          "text": [
            "Validation accuracy: 0.9660\n",
            "Test accuracy: 0.9673\n"
          ]
        }
      ],
      "source": [
        "model = Scratch1dCNNClassifier(\n",
        "    conv_out=8, conv_kernel=7, conv_stride=2, conv_padding=0,\n",
        "    hidden_dim=128,\n",
        "    initializer='he', optimizer='adagrad', lr=0.2,\n",
        "    batch_size=128, epochs=6, verbose=True\n",
        ")\n",
        "_ = model.fit(X_train, y_train_oh, X_val=X_val, y_val_onehot=y_val_oh, y_int=y_train, y_val_int=y_val)\n",
        "\n",
        "# Learning curves\n",
        "plt.figure(); plt.plot(model.train_loss_, label='train');\n",
        "if len(model.val_loss_)==len(model.train_loss_): plt.plot(model.val_loss_, label='val')\n",
        "plt.xlabel('Epoch'); plt.ylabel('Cross-entropy loss'); plt.title('1D CNN — Loss'); plt.legend(); plt.show()\n",
        "\n",
        "if model.train_acc_ and model.val_acc_:\n",
        "    plt.figure(); plt.plot(model.train_acc_, label='train'); plt.plot(model.val_acc_, label='val')\n",
        "    plt.xlabel('Epoch'); plt.ylabel('Accuracy'); plt.title('1D CNN — Accuracy'); plt.legend(); plt.show()\n",
        "\n",
        "# Final metrics\n",
        "val_acc = accuracy_from_proba(y_val, model.predict_proba(X_val))\n",
        "test_acc = accuracy_from_proba(y_test, model.predict_proba(X_test))\n",
        "print('Validation accuracy:', f'{val_acc:.4f}')\n",
        "print('Test accuracy:', f'{test_acc:.4f}')"
      ]
    },
    {
      "cell_type": "markdown",
      "source": [
        "To test this code reduce the number of epochs because it consumes a lot of time.\n",
        "\n",
        "The accuracy increases with epochs, and losses reduce with each epoch."
      ],
      "metadata": {
        "id": "QtY1s5wAAbMt"
      },
      "id": "QtY1s5wAAbMt"
    }
  ],
  "metadata": {
    "colab": {
      "provenance": []
    },
    "language_info": {
      "name": "python"
    },
    "kernelspec": {
      "name": "python3",
      "display_name": "Python 3"
    }
  },
  "nbformat": 4,
  "nbformat_minor": 5
}
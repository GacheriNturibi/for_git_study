{
  "cells": [
    {
      "cell_type": "markdown",
      "id": "2476260f",
      "metadata": {
        "id": "2476260f"
      },
      "source": [
        "# Wheat and Chessboard Problem\n",
        "\n",
        "## 1. Goal\n",
        "This assignment requires learners to:\n",
        "- Practice basic array operations with Python lists and NumPy ndarrays\n",
        "- Get comfortable modeling exponential growth on grids\n",
        "- Visualize results with simple Matplotlib charts"
      ]
    },
    {
      "cell_type": "markdown",
      "id": "58c2ef4f",
      "metadata": {
        "id": "58c2ef4f"
      },
      "source": [
        "## 2. Wheat and Chessboard Problem\n",
        "If a chessboard receives grains of wheat such that the first square has 1 grain, the second has 2, the third has 4, and so on, what is the final number of grains on an 8×8 board?\n",
        "\n",
        "This assignment requires building up from a tiny example to the full 8×8 board and then generalizing to an n×m grid using NumPy."
      ]
    },
    {
      "cell_type": "markdown",
      "id": "1ee9cb19",
      "metadata": {
        "id": "1ee9cb19"
      },
      "source": [
        "\n",
        "## 3. Think in Small Blocks\n",
        "This assignment starts with a small 1×4 board using a Python list and a `for` loop, then converts to a NumPy array.\n"
      ]
    },
    {
      "cell_type": "code",
      "execution_count": null,
      "id": "4ea5349c",
      "metadata": {
        "colab": {
          "base_uri": "https://localhost:8080/"
        },
        "id": "4ea5349c",
        "outputId": "a81372c8-f7f4-47ce-d3bb-a484dedaeab1"
      },
      "outputs": [
        {
          "output_type": "stream",
          "name": "stdout",
          "text": [
            "1×4 board (list): [1, 2, 4, 8]\n",
            "1×4 board (ndarray): [1 2 4 8]\n"
          ]
        }
      ],
      "source": [
        "# 1×4 board using a Python list\n",
        "n_squares = 4\n",
        "small_board_list = [1]\n",
        "for _ in range(n_squares - 1):\n",
        "    small_board_list.append(2 * small_board_list[-1])\n",
        "print(\"1×4 board (list):\", small_board_list)\n",
        "\n",
        "# Convert to ndarray\n",
        "import numpy as np\n",
        "\n",
        "small_board_ndarray = np.array(small_board_list)\n",
        "print(\"1×4 board (ndarray):\", small_board_ndarray)"
      ]
    },
    {
      "cell_type": "markdown",
      "id": "d41c9b05",
      "metadata": {
        "id": "d41c9b05"
      },
      "source": [
        "## 4. 2×2 Chessboard-ndarray shaping\n",
        "This assignment requires representing a 2×2 chessboard as an ndarray and placing grains in doubling order:\n",
        "\n",
        "- Top-left: 1\n",
        "- Top-right: 2\n",
        "- Bottom-left: 4\n",
        "- Bottom-right: 8\n",
        "\n",
        "The shape should be (2, 2)"
      ]
    },
    {
      "cell_type": "code",
      "execution_count": null,
      "id": "437beb40",
      "metadata": {
        "colab": {
          "base_uri": "https://localhost:8080/"
        },
        "id": "437beb40",
        "outputId": "b36c3bd8-4e2e-4bf4-b965-fc8f46d5129d"
      },
      "outputs": [
        {
          "output_type": "stream",
          "name": "stdout",
          "text": [
            "[[1 2]\n",
            " [4 8]]\n"
          ]
        }
      ],
      "source": [
        "# Build values [1, 2, 4, 8] and reshape to 2×2\n",
        "vals_2x2 = np.array([1, 2, 4, 8])\n",
        "board_2x2 = vals_2x2.reshape(2, 2)\n",
        "print(board_2x2)"
      ]
    },
    {
      "cell_type": "markdown",
      "id": "4db2c142",
      "metadata": {
        "id": "4db2c142"
      },
      "source": [
        "\n",
        "## 5. 8×8 Chessboard and Generalization to n×m\n",
        "This assignment requires creating a function that returns an ndarray containing grains for an n×m board (doubling left-to-right, top-to-bottom).\n"
      ]
    },
    {
      "cell_type": "code",
      "execution_count": null,
      "id": "82889ca8",
      "metadata": {
        "colab": {
          "base_uri": "https://localhost:8080/"
        },
        "id": "82889ca8",
        "outputId": "68510325-0830-43a3-d770-2fd3245111fc"
      },
      "outputs": [
        {
          "output_type": "stream",
          "name": "stdout",
          "text": [
            "8×8 board created with dtype=uint64. Shape: (8, 8)\n",
            "Top-left: 1 | Bottom-right: 9223372036854775808\n"
          ]
        }
      ],
      "source": [
        "def chessboard_grains_nm(n_rows=8, n_cols=8, dtype=np.uint64):\n",
        "    \"\"\"Return an ndarray of shape (n_rows, n_cols) where cell (0,0)=1 and\n",
        "    each subsequent cell doubles the previous, filled row-wise.\n",
        "    dtype controls storage; use np.uint64 to avoid negative overflow in signed int64.\n",
        "    \"\"\"\n",
        "    n_cells = n_rows * n_cols\n",
        "\n",
        "    indices = np.arange(n_cells, dtype=np.uint64)\n",
        "    flat = (2 ** indices).astype(dtype, copy=False)\n",
        "    return flat.reshape(n_rows, n_cols)\n",
        "\n",
        "board_8x8 = chessboard_grains_nm(8, 8, dtype=np.uint64)\n",
        "print(\"8×8 board created with dtype=uint64. Shape:\", board_8x8.shape)\n",
        "print(\"Top-left:\", board_8x8[0,0], \"| Bottom-right:\", board_8x8[-1,-1])  # No of grains on first and last cell"
      ]
    },
    {
      "cell_type": "markdown",
      "id": "3d05a1f2",
      "metadata": {
        "id": "3d05a1f2"
      },
      "source": [
        "## 6. Total Number of Grains and Column Averages\n",
        "We then compute the following:\n",
        "- The **total number of grains** on the 8×8 board\n",
        "- The **average grains per column** (8 values), then visualizing with a bar chart"
      ]
    },
    {
      "cell_type": "code",
      "execution_count": null,
      "id": "e6ff7681",
      "metadata": {
        "colab": {
          "base_uri": "https://localhost:8080/"
        },
        "id": "e6ff7681",
        "outputId": "2720f1a5-fcc4-4eed-b3dc-a95579f5aafd"
      },
      "outputs": [
        {
          "output_type": "stream",
          "name": "stdout",
          "text": [
            "Total grains on 8×8: 18446744073709551615\n",
            "Column means (first 3 shown): [9042521604759584.0 1.808504320951917e+16 3.617008641903834e+16] ...\n"
          ]
        }
      ],
      "source": [
        "# Total grains use Python int\n",
        "total_grains = int(board_8x8.astype(object).sum())\n",
        "col_means = board_8x8.astype(object).mean(axis=0)  # object ensures Python int math\n",
        "\n",
        "print(\"Total grains on 8×8:\", total_grains)\n",
        "print(\"Column means (first 3 shown):\", col_means[:3], \"...\") # and so on and so forth"
      ]
    },
    {
      "cell_type": "code",
      "execution_count": null,
      "id": "b8710cae",
      "metadata": {
        "colab": {
          "base_uri": "https://localhost:8080/",
          "height": 472
        },
        "id": "b8710cae",
        "outputId": "6db5fa2c-f2e5-41ad-d387-8071a54e1097"
      },
      "outputs": [
        {
          "output_type": "display_data",
          "data": {
            "text/plain": [
              "<Figure size 640x480 with 1 Axes>"
            ],
            "image/png": "[encoded data removed]"
          },
          "metadata": {}
        }
      ],
      "source": [
        "# Bar chart of column means\n",
        "import matplotlib.pyplot as plt\n",
        "import numpy as np\n",
        "\n",
        "plt.title(\"Average grains per column (8×8)\")\n",
        "plt.xlabel(\"Column\")\n",
        "plt.ylabel(\"Average number of grains\")\n",
        "plt.bar(np.arange(1, 8+1), [int(x) for x in col_means])  # cast to int\n",
        "plt.show()"
      ]
    },
    {
      "cell_type": "markdown",
      "id": "e625917e",
      "metadata": {
        "id": "e625917e"
      },
      "source": [
        "## 7. Heatmap of the 8×8 Board\n",
        "This assignment requires visualizing the 8×8 board as a heatmap (larger value = brighter)."
      ]
    },
    {
      "cell_type": "code",
      "execution_count": null,
      "id": "c7d98f4d",
      "metadata": {
        "colab": {
          "base_uri": "https://localhost:8080/",
          "height": 472
        },
        "id": "c7d98f4d",
        "outputId": "f4289e7e-b913-4e4e-80a3-d210a3ef5b6c"
      },
      "outputs": [
        {
          "output_type": "display_data",
          "data": {
            "text/plain": [
              "<Figure size 640x480 with 2 Axes>"
            ],
            "image/png": "[encoded data removed]"
          },
          "metadata": {}
        }
      ],
      "source": [
        "plt.title(\"Chessboard grains heatmap (8×8)\")\n",
        "plt.xlabel(\"Column\")\n",
        "plt.ylabel(\"Row\")\n",
        "plt.pcolor(board_8x8.astype(float))  # float helps pcolor\n",
        "plt.colorbar(label=\"Grains (linear scale)\")\n",
        "plt.show()"
      ]
    },
    {
      "cell_type": "markdown",
      "source": [
        "Due to the sudden cumulative effect in the second half, from the heatmap we can visualize or clearly see how big the wheat had multiplied, especially in the last row."
      ],
      "metadata": {
        "id": "gCzNPz7EYs_T"
      },
      "id": "gCzNPz7EYs_T"
    },
    {
      "cell_type": "markdown",
      "id": "a0891152",
      "metadata": {
        "id": "a0891152"
      },
      "source": [
        "## 8. The Second Half of the Chessboard\n",
        "This assignment refers to the idea that the second half dominates the total. (This is definitely true)\n",
        "So we compute the ratio between the sum of the second half and the first half."
      ]
    },
    {
      "cell_type": "code",
      "execution_count": null,
      "id": "382eb02d",
      "metadata": {
        "colab": {
          "base_uri": "https://localhost:8080/"
        },
        "id": "382eb02d",
        "outputId": "4f464d1d-4392-41a8-bbe9-95f78f7ca2ab"
      },
      "outputs": [
        {
          "output_type": "stream",
          "name": "stdout",
          "text": [
            "First-half sum: 4294967295\n",
            "Second-half sum: 18446744069414584320\n",
            "Second-half / First-half ratio: 4294967296.0\n"
          ]
        }
      ],
      "source": [
        "# First half: rows 0..3; second half: rows 4..7 - by index\n",
        "first_half_sum = int(board_8x8[:4, :].astype(object).sum())\n",
        "second_half_sum = int(board_8x8[4:, :].astype(object).sum())\n",
        "\n",
        "ratio = second_half_sum / first_half_sum if first_half_sum != 0 else float(\"inf\")\n",
        "print(\"First-half sum:\", first_half_sum)\n",
        "print(\"Second-half sum:\", second_half_sum)\n",
        "print(\"Second-half / First-half ratio:\", ratio)"
      ]
    },
    {
      "cell_type": "markdown",
      "id": "449ac8a2",
      "metadata": {
        "id": "449ac8a2"
      },
      "source": [
        "\n",
        "## 9. Other Calculation Methods\n",
        "This assignment requires demonstrating alternative ways to populate the board.\n",
        "Two examples are shown: iterative `np.append` and vectorized broadcasting.\n"
      ]
    },
    {
      "cell_type": "code",
      "execution_count": null,
      "id": "cc7cb8f1",
      "metadata": {
        "colab": {
          "base_uri": "https://localhost:8080/"
        },
        "id": "cc7cb8f1",
        "outputId": "62f6f665-b6e5-4109-ce80-4bee6c4b6c11"
      },
      "outputs": [
        {
          "output_type": "stream",
          "name": "stdout",
          "text": [
            "Append method: bottom-right = 9223372036854775808\n"
          ]
        }
      ],
      "source": [
        "# Method A: iterative np.append (less efficient)\n",
        "n_squares = 64\n",
        "arr = np.array([1], dtype=np.uint64)\n",
        "for _ in range(n_squares - 1):\n",
        "    arr = np.append(arr, 2 * arr[-1])\n",
        "board_append = arr.reshape(8, 8)\n",
        "print(\"Append method: bottom-right =\", board_append[-1, -1])"
      ]
    },
    {
      "cell_type": "code",
      "execution_count": null,
      "id": "00c2fe86",
      "metadata": {
        "colab": {
          "base_uri": "https://localhost:8080/"
        },
        "id": "00c2fe86",
        "outputId": "0f51f5b2-b750-4147-9655-7deab99603ce"
      },
      "outputs": [
        {
          "output_type": "stream",
          "name": "stdout",
          "text": [
            "Broadcast method: bottom-right = 9223372036854775808\n"
          ]
        }
      ],
      "source": [
        "# Method B: broadcasting (efficient)\n",
        "indices = np.arange(64, dtype=np.uint64)\n",
        "board_broadcast = (2 ** indices).reshape(8, 8)\n",
        "print(\"Broadcast method: bottom-right =\", board_broadcast[-1, -1])"
      ]
    },
    {
      "cell_type": "markdown",
      "id": "d325f364",
      "metadata": {
        "id": "d325f364"
      },
      "source": [
        "## 10. Data Types and Overflow\n",
        "This assignment highlights that signed 64-bit integers (`int64`) overflow for the last square (2⁶³), producing a negative number.\n",
        "Using `uint64` avoids negativity for per-cell values up to 2⁶³, but the **total sum** will still overflow if kept in `uint64`.\n",
        "Promoting to Python `int` via `astype(object)` when summing prevents overflow."
      ]
    },
    {
      "cell_type": "code",
      "execution_count": null,
      "id": "94d3eb61",
      "metadata": {
        "colab": {
          "base_uri": "https://localhost:8080/"
        },
        "id": "94d3eb61",
        "outputId": "afd504f3-7fd3-4240-9265-758a00d9343c"
      },
      "outputs": [
        {
          "output_type": "stream",
          "name": "stdout",
          "text": [
            "Signed int64 last cell (shows overflow): -9223372036854775808\n",
            "Correct value with uint64: 9223372036854775808\n"
          ]
        }
      ],
      "source": [
        "# Demonstrate signed overflow if forced to int64 at the last square\n",
        "indices_i64 = np.arange(64, dtype=np.int64)\n",
        "board_i64 = (2 ** indices_i64).reshape(8, 8)  # overflow occurs for 2**63\n",
        "print(\"Signed int64 last cell (shows overflow):\", board_i64[-1, -1])\n",
        "print(\"Correct value with uint64:\", board_8x8[-1, -1])"
      ]
    }
  ],
  "metadata": {
    "colab": {
      "provenance": [],
      "toc_visible": true
    },
    "language_info": {
      "name": "python"
    },
    "kernelspec": {
      "name": "python3",
      "display_name": "Python 3"
    }
  },
  "nbformat": 4,
  "nbformat_minor": 5
}
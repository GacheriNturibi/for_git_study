{
 "cells": [
  {
   "cell_type": "markdown",
   "id": "ba9b1b31",
   "metadata": {},
   "source": [
    "\n",
    "# 💳 Home Credit Default Risk — Exploratory Data Analysis\n",
    "\n",
    "## 1. Goal\n",
    "This assignment requires learners to:\n",
    "- Understand the structure of a real-world business dataset\n",
    "- Explore customer attributes and their relationship to default risk\n",
    "- Practice handling missing values and class imbalance\n",
    "- Formulate reasonable business-driven questions\n"
   ]
  },
  {
   "cell_type": "markdown",
   "id": "73432ae7",
   "metadata": {},
   "source": [
    "\n",
    "## Problem 1: Load dataset\n",
    "Load `application_train.csv` into a Pandas DataFrame.\n"
   ]
  },
  {
   "cell_type": "code",
   "execution_count": null,
   "id": "5eeea2ef",
   "metadata": {},
   "outputs": [],
   "source": [
    "\n",
    "import pandas as pd\n",
    "\n",
    "# Load dataset\n",
    "data = pd.read_csv(\"application_train.csv\")\n",
    "print(\"Shape:\", data.shape)\n",
    "data.head()\n"
   ]
  },
  {
   "cell_type": "markdown",
   "id": "919ddd91",
   "metadata": {},
   "source": [
    "\n",
    "## Problem 2: Dataset overview\n",
    "Check first rows, datatypes, and summary statistics to understand data structure.\n"
   ]
  },
  {
   "cell_type": "code",
   "execution_count": null,
   "id": "ecaf138f",
   "metadata": {},
   "outputs": [],
   "source": [
    "data.head()"
   ]
  },
  {
   "cell_type": "code",
   "execution_count": null,
   "id": "9631d5d6",
   "metadata": {},
   "outputs": [],
   "source": [
    "data.info()"
   ]
  },
  {
   "cell_type": "code",
   "execution_count": null,
   "id": "a37ef2de",
   "metadata": {},
   "outputs": [],
   "source": [
    "data.describe().T.head()"
   ]
  },
  {
   "cell_type": "markdown",
   "id": "a30f031e",
   "metadata": {},
   "source": [
    "\n",
    "## Problem 3: Target variable (default risk)\n",
    "The target variable is `TARGET`: 1 = default, 0 = non-default.\n"
   ]
  },
  {
   "cell_type": "code",
   "execution_count": null,
   "id": "39933403",
   "metadata": {},
   "outputs": [],
   "source": [
    "\n",
    "print(data['TARGET'].value_counts())\n",
    "print(data['TARGET'].value_counts(normalize=True))\n"
   ]
  },
  {
   "cell_type": "markdown",
   "id": "7de32605",
   "metadata": {},
   "source": [
    "\n",
    "## Problem 4: Missing values\n",
    "Check missingness, visualize, and drop columns/rows as instructed.\n"
   ]
  },
  {
   "cell_type": "code",
   "execution_count": null,
   "id": "d11801dc",
   "metadata": {},
   "outputs": [],
   "source": [
    "\n",
    "import missingno as msno\n",
    "msno.matrix(data)\n"
   ]
  },
  {
   "cell_type": "code",
   "execution_count": null,
   "id": "3d25aada",
   "metadata": {},
   "outputs": [],
   "source": [
    "\n",
    "missing_ratio = data.isnull().sum() / len(data)\n",
    "missing_ratio = missing_ratio[missing_ratio > 0].sort_values(ascending=False)\n",
    "print(\"Missing ratios (top 20):\")\n",
    "print(missing_ratio.head(20))\n"
   ]
  },
  {
   "cell_type": "code",
   "execution_count": null,
   "id": "63ae56ef",
   "metadata": {},
   "outputs": [],
   "source": [
    "\n",
    "# Drop columns with >=5 missing values\n",
    "data_reduced = data.dropna(axis=1, thresh=len(data)-5)\n",
    "\n",
    "# Drop remaining rows with missing values\n",
    "data_reduced = data_reduced.dropna()\n",
    "\n",
    "print(\"Shape before:\", data.shape)\n",
    "print(\"Shape after:\", data_reduced.shape)\n"
   ]
  },
  {
   "cell_type": "markdown",
   "id": "a8dff90a",
   "metadata": {},
   "source": [
    "\n",
    "## Additional Question 1: Class Imbalance\n",
    "Visualize percentage of defaults vs non-defaults.\n"
   ]
  },
  {
   "cell_type": "code",
   "execution_count": null,
   "id": "94c67c88",
   "metadata": {},
   "outputs": [],
   "source": [
    "\n",
    "import matplotlib.pyplot as plt\n",
    "\n",
    "counts = data_reduced['TARGET'].value_counts()\n",
    "plt.title(\"Class Distribution: Default vs Non-Default\")\n",
    "plt.pie(counts, labels=counts.index, autopct=\"%.1f%%\")\n",
    "plt.show()\n"
   ]
  },
  {
   "cell_type": "markdown",
   "id": "1834ea55",
   "metadata": {},
   "source": [
    "\n",
    "## Additional Question 2: Demographics and Risk\n",
    "Explore relationships between demographic features and default risk.\n"
   ]
  },
  {
   "cell_type": "code",
   "execution_count": null,
   "id": "29658a6b",
   "metadata": {},
   "outputs": [],
   "source": [
    "\n",
    "import seaborn as sns\n",
    "\n",
    "sns.barplot(x=\"NAME_CONTRACT_TYPE\", y=\"TARGET\", data=data_reduced)\n",
    "plt.title(\"Default Rate by Contract Type\")\n",
    "plt.show()\n",
    "\n",
    "sns.barplot(x=\"NAME_FAMILY_STATUS\", y=\"TARGET\", data=data_reduced)\n",
    "plt.title(\"Default Rate by Family Status\")\n",
    "plt.xticks(rotation=45)\n",
    "plt.show()\n"
   ]
  },
  {
   "cell_type": "markdown",
   "id": "1c2ceada",
   "metadata": {},
   "source": [
    "\n",
    "### Age and default risk\n",
    "Convert `DAYS_BIRTH` to age in years.\n"
   ]
  },
  {
   "cell_type": "code",
   "execution_count": null,
   "id": "7051e184",
   "metadata": {},
   "outputs": [],
   "source": [
    "\n",
    "data_reduced['AGE'] = (-data_reduced['DAYS_BIRTH'] / 365).astype(int)\n",
    "sns.histplot(data=data_reduced, x=\"AGE\", hue=\"TARGET\", bins=30, multiple=\"stack\")\n",
    "plt.title(\"Age Distribution by Default Status\")\n",
    "plt.show()\n"
   ]
  },
  {
   "cell_type": "markdown",
   "id": "ec7ccfda",
   "metadata": {},
   "source": [
    "\n",
    "## Additional Question 3: Income and Credit Ratios\n",
    "Explore income, credit, and credit-to-income ratio.\n"
   ]
  },
  {
   "cell_type": "code",
   "execution_count": null,
   "id": "522604ae",
   "metadata": {},
   "outputs": [],
   "source": [
    "\n",
    "data_reduced['CREDIT_INCOME_RATIO'] = data_reduced['AMT_CREDIT'] / data_reduced['AMT_INCOME_TOTAL']\n",
    "\n",
    "sns.histplot(data=data_reduced, x=\"CREDIT_INCOME_RATIO\", hue=\"TARGET\", bins=50, element=\"step\", stat=\"density\")\n",
    "plt.title(\"Credit-to-Income Ratio Distribution by Default Status\")\n",
    "plt.xlim(0, 5)\n",
    "plt.show()\n"
   ]
  },
  {
   "cell_type": "markdown",
   "id": "8837b6b4",
   "metadata": {},
   "source": [
    "\n",
    "## Additional Question 4: External Scores\n",
    "Explore EXT_SOURCE variables, which act as external credit scores.\n"
   ]
  },
  {
   "cell_type": "code",
   "execution_count": null,
   "id": "027707b5",
   "metadata": {},
   "outputs": [],
   "source": [
    "\n",
    "ext_sources = [\"EXT_SOURCE_1\",\"EXT_SOURCE_2\",\"EXT_SOURCE_3\"]\n",
    "corr = data_reduced[ext_sources + [\"TARGET\"]].corr()\n",
    "sns.heatmap(corr, annot=True, cmap=\"coolwarm\")\n",
    "plt.title(\"Correlation of External Scores with TARGET\")\n",
    "plt.show()\n"
   ]
  },
  {
   "cell_type": "markdown",
   "id": "a49d96e1",
   "metadata": {},
   "source": [
    "\n",
    "## Problem 7: Correlation coefficients\n",
    "Find top 10 features correlated with TARGET.\n"
   ]
  },
  {
   "cell_type": "code",
   "execution_count": null,
   "id": "71e1a2fb",
   "metadata": {},
   "outputs": [],
   "source": [
    "\n",
    "corr_all = data_reduced.corr(numeric_only=True)\n",
    "top10_corr = corr_all['TARGET'].abs().sort_values(ascending=False).head(11).index\n",
    "\n",
    "plt.figure(figsize=(10,8))\n",
    "sns.heatmap(data_reduced[top10_corr].corr(), annot=True, cmap=\"coolwarm\", square=True)\n",
    "plt.title(\"Top 10 Correlated Features with TARGET\")\n",
    "plt.show()\n",
    "\n",
    "print(\"Top correlated features:\")\n",
    "print(corr_all['TARGET'].abs().sort_values(ascending=False).head(11))\n"
   ]
  },
  {
   "cell_type": "markdown",
   "id": "064c594e",
   "metadata": {},
   "source": [
    "\n",
    "## Problem 8: Business Interpretation\n",
    "Explain findings in terms of business strategy:\n",
    "- High credit-to-income ratios may signal higher risk.\n",
    "- Younger applicants may have higher default rates.\n",
    "- External credit scores are predictive and can serve as proxies for creditworthiness.\n"
   ]
  },
  {
   "cell_type": "markdown",
   "id": "10e417fa",
   "metadata": {},
   "source": [
    "\n",
    "## 9. Summary\n",
    "This assignment required demonstrating the ability to:\n",
    "- Explore dataset structure and missingness\n",
    "- Handle missing values carefully\n",
    "- Examine class imbalance\n",
    "- Investigate relationships between demographics, income ratios, and default risk\n",
    "- Identify most predictive features\n"
   ]
  }
 ],
 "metadata": {},
 "nbformat": 4,
 "nbformat_minor": 5
}